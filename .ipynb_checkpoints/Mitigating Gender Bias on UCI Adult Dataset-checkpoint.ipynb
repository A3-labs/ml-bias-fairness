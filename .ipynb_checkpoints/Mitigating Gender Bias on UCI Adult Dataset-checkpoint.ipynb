{
 "cells": [
  {
   "cell_type": "markdown",
   "metadata": {},
   "source": [
    "# Mitigating Gender Bias on UCI Adult Dataset"
   ]
  },
  {
   "cell_type": "markdown",
   "metadata": {},
   "source": [
    "This tutorial explores the topic of bias in Machine Learning using the UCI Adult dataset. It provides familiarity with the concept of bias in Machine Learning, explores different metrics used to quantify bias in machine learning, and demonstrates data and model-based approaches to mitigating bias in Machine Learning.\n"
   ]
  },
  {
   "cell_type": "markdown",
   "metadata": {},
   "source": [
    "### Software requirements\n",
    "\n",
    "This tutorial requires python3 and jupyter notebook installed. In addition, you will need **[numpy](https://www.numpy.org/) and [pandas](https://pandas.pydata.org/)**, which standard data science libraries, and **[skit-learn](https://scikit-learn.org/stable/)**, which is a machine learning library."
   ]
  },
  {
   "cell_type": "markdown",
   "metadata": {},
   "source": [
    "# I. Understanding UCI Adult dataset\n",
    "\n",
    "In this section, we will look through the data that we have. This will give us an idea of the underlying distributions of the data among different demographics.\n",
    "\n",
    "## Load needed modules"
   ]
  },
  {
   "cell_type": "code",
   "execution_count": 1,
   "metadata": {},
   "outputs": [],
   "source": [
    "import pandas as pd\n",
    "import numpy as np\n",
    "import matplotlib.pyplot as plt\n",
    "import matplotlib.cm as cm"
   ]
  },
  {
   "cell_type": "markdown",
   "metadata": {},
   "source": [
    "## Load the dataset ##\n",
    "\n",
    "Download preprocessed UCI adult dataset from [our github repository](https://github.com/heyaudace/ml-bias-fairness/blob/master/data/adult/adult.csv), and store it on your local machine"
   ]
  },
  {
   "cell_type": "code",
   "execution_count": 2,
   "metadata": {},
   "outputs": [],
   "source": [
    "import os\n",
    "ADULT_PATH = os.path.join(os.getcwd(), 'data/adult/adult.csv') # Assign this to the location of the dataset"
   ]
  },
  {
   "cell_type": "code",
   "execution_count": 3,
   "metadata": {},
   "outputs": [
    {
     "data": {
      "text/html": [
       "<div>\n",
       "<style scoped>\n",
       "    .dataframe tbody tr th:only-of-type {\n",
       "        vertical-align: middle;\n",
       "    }\n",
       "\n",
       "    .dataframe tbody tr th {\n",
       "        vertical-align: top;\n",
       "    }\n",
       "\n",
       "    .dataframe thead th {\n",
       "        text-align: right;\n",
       "    }\n",
       "</style>\n",
       "<table border=\"1\" class=\"dataframe\">\n",
       "  <thead>\n",
       "    <tr style=\"text-align: right;\">\n",
       "      <th></th>\n",
       "      <th>age</th>\n",
       "      <th>workclass</th>\n",
       "      <th>fnlwgt</th>\n",
       "      <th>education</th>\n",
       "      <th>education-num</th>\n",
       "      <th>marital-status</th>\n",
       "      <th>occupation</th>\n",
       "      <th>relationship</th>\n",
       "      <th>race</th>\n",
       "      <th>sex</th>\n",
       "      <th>capital-gain</th>\n",
       "      <th>capital-loss</th>\n",
       "      <th>hours-per-week</th>\n",
       "      <th>native-country</th>\n",
       "      <th>salary</th>\n",
       "    </tr>\n",
       "  </thead>\n",
       "  <tbody>\n",
       "    <tr>\n",
       "      <th>0</th>\n",
       "      <td>39</td>\n",
       "      <td>State-gov</td>\n",
       "      <td>77516.0</td>\n",
       "      <td>Bachelors</td>\n",
       "      <td>13.0</td>\n",
       "      <td>Never-married</td>\n",
       "      <td>Adm-clerical</td>\n",
       "      <td>Not-in-family</td>\n",
       "      <td>White</td>\n",
       "      <td>Male</td>\n",
       "      <td>2174.0</td>\n",
       "      <td>0.0</td>\n",
       "      <td>40.0</td>\n",
       "      <td>United-States</td>\n",
       "      <td>&lt;=50K</td>\n",
       "    </tr>\n",
       "    <tr>\n",
       "      <th>1</th>\n",
       "      <td>50</td>\n",
       "      <td>Self-emp-not-inc</td>\n",
       "      <td>83311.0</td>\n",
       "      <td>Bachelors</td>\n",
       "      <td>13.0</td>\n",
       "      <td>Married-civ-spouse</td>\n",
       "      <td>Exec-managerial</td>\n",
       "      <td>Husband</td>\n",
       "      <td>White</td>\n",
       "      <td>Male</td>\n",
       "      <td>0.0</td>\n",
       "      <td>0.0</td>\n",
       "      <td>13.0</td>\n",
       "      <td>United-States</td>\n",
       "      <td>&lt;=50K</td>\n",
       "    </tr>\n",
       "    <tr>\n",
       "      <th>2</th>\n",
       "      <td>38</td>\n",
       "      <td>Private</td>\n",
       "      <td>215646.0</td>\n",
       "      <td>HS-grad</td>\n",
       "      <td>9.0</td>\n",
       "      <td>Divorced</td>\n",
       "      <td>Handlers-cleaners</td>\n",
       "      <td>Not-in-family</td>\n",
       "      <td>White</td>\n",
       "      <td>Male</td>\n",
       "      <td>0.0</td>\n",
       "      <td>0.0</td>\n",
       "      <td>40.0</td>\n",
       "      <td>United-States</td>\n",
       "      <td>&lt;=50K</td>\n",
       "    </tr>\n",
       "    <tr>\n",
       "      <th>3</th>\n",
       "      <td>53</td>\n",
       "      <td>Private</td>\n",
       "      <td>234721.0</td>\n",
       "      <td>11th</td>\n",
       "      <td>7.0</td>\n",
       "      <td>Married-civ-spouse</td>\n",
       "      <td>Handlers-cleaners</td>\n",
       "      <td>Husband</td>\n",
       "      <td>Black</td>\n",
       "      <td>Male</td>\n",
       "      <td>0.0</td>\n",
       "      <td>0.0</td>\n",
       "      <td>40.0</td>\n",
       "      <td>United-States</td>\n",
       "      <td>&lt;=50K</td>\n",
       "    </tr>\n",
       "    <tr>\n",
       "      <th>4</th>\n",
       "      <td>28</td>\n",
       "      <td>Private</td>\n",
       "      <td>338409.0</td>\n",
       "      <td>Bachelors</td>\n",
       "      <td>13.0</td>\n",
       "      <td>Married-civ-spouse</td>\n",
       "      <td>Prof-specialty</td>\n",
       "      <td>Wife</td>\n",
       "      <td>Black</td>\n",
       "      <td>Female</td>\n",
       "      <td>0.0</td>\n",
       "      <td>0.0</td>\n",
       "      <td>40.0</td>\n",
       "      <td>Cuba</td>\n",
       "      <td>&lt;=50K</td>\n",
       "    </tr>\n",
       "  </tbody>\n",
       "</table>\n",
       "</div>"
      ],
      "text/plain": [
       "   age          workclass    fnlwgt   education  education-num  \\\n",
       "0   39          State-gov   77516.0   Bachelors           13.0   \n",
       "1   50   Self-emp-not-inc   83311.0   Bachelors           13.0   \n",
       "2   38            Private  215646.0     HS-grad            9.0   \n",
       "3   53            Private  234721.0        11th            7.0   \n",
       "4   28            Private  338409.0   Bachelors           13.0   \n",
       "\n",
       "        marital-status          occupation    relationship    race      sex  \\\n",
       "0        Never-married        Adm-clerical   Not-in-family   White     Male   \n",
       "1   Married-civ-spouse     Exec-managerial         Husband   White     Male   \n",
       "2             Divorced   Handlers-cleaners   Not-in-family   White     Male   \n",
       "3   Married-civ-spouse   Handlers-cleaners         Husband   Black     Male   \n",
       "4   Married-civ-spouse      Prof-specialty            Wife   Black   Female   \n",
       "\n",
       "   capital-gain  capital-loss  hours-per-week  native-country salary  \n",
       "0        2174.0           0.0            40.0   United-States  <=50K  \n",
       "1           0.0           0.0            13.0   United-States  <=50K  \n",
       "2           0.0           0.0            40.0   United-States  <=50K  \n",
       "3           0.0           0.0            40.0   United-States  <=50K  \n",
       "4           0.0           0.0            40.0            Cuba  <=50K  "
      ]
     },
     "execution_count": 3,
     "metadata": {},
     "output_type": "execute_result"
    }
   ],
   "source": [
    "data = pd.read_csv(ADULT_PATH)\n",
    "data.head()"
   ]
  },
  {
   "cell_type": "code",
   "execution_count": 4,
   "metadata": {},
   "outputs": [
    {
     "data": {
      "text/plain": [
       "(48842, 15)"
      ]
     },
     "execution_count": 4,
     "metadata": {},
     "output_type": "execute_result"
    }
   ],
   "source": [
    "# Ge the shape of the data\n",
    "data.shape"
   ]
  },
  {
   "cell_type": "markdown",
   "metadata": {},
   "source": [
    "Let's understand the amount of data by we have, by seeing how the number of datapoints compares among different demographics"
   ]
  },
  {
   "cell_type": "code",
   "execution_count": 5,
   "metadata": {},
   "outputs": [],
   "source": [
    "def plot_categs(df, category, fignum=1, title=\"Histogram of number of datapoints\"):\n",
    "    plt.figure(fignum)\n",
    "    uniques= list(sorted(df[category].unique()))\n",
    "    counts = [df[df[category] == value].shape[0] for value in uniques]\n",
    "    size = len(uniques)\n",
    "    xcoords = list(range(1, size+1))\n",
    "    plt.bar(xcoords, counts)\n",
    "    plt.xticks(xcoords, uniques, rotation='vertical' if size >= 5 else 'horizontal')\n",
    "    plt.title((title if title is not None else ''))\n",
    "    plt.tight_layout()"
   ]
  },
  {
   "cell_type": "markdown",
   "metadata": {},
   "source": [
    "## Sex, Race and Native Country"
   ]
  },
  {
   "cell_type": "code",
   "execution_count": 6,
   "metadata": {},
   "outputs": [
    {
     "data": {
      "image/png": "[encoded data removed]",
      "text/plain": [
       "<Figure size 432x288 with 1 Axes>"
      ]
     },
     "metadata": {
      "needs_background": "light"
     },
     "output_type": "display_data"
    },
    {
     "data": {
      "image/png": "[encoded data removed]",
      "text/plain": [
       "<Figure size 432x288 with 1 Axes>"
      ]
     },
     "metadata": {
      "needs_background": "light"
     },
     "output_type": "display_data"
    },
    {
     "data": {
      "image/png": "[encoded data removed]",
      "text/plain": [
       "<Figure size 432x288 with 1 Axes>"
      ]
     },
     "metadata": {
      "needs_background": "light"
     },
     "output_type": "display_data"
    }
   ],
   "source": [
    "features = ['sex', 'race', 'native-country']\n",
    "for index, feature in enumerate(features):\n",
    "    plot_categs(data, feature, fignum=index+1)"
   ]
  },
  {
   "cell_type": "markdown",
   "metadata": {},
   "source": [
    "# Distribution of education level and occupation"
   ]
  },
  {
   "cell_type": "code",
   "execution_count": 7,
   "metadata": {},
   "outputs": [
    {
     "data": {
      "image/png": "[encoded data removed]",
      "text/plain": [
       "<Figure size 432x288 with 1 Axes>"
      ]
     },
     "metadata": {
      "needs_background": "light"
     },
     "output_type": "display_data"
    },
    {
     "data": {
      "image/png": "[encoded data removed]",
      "text/plain": [
       "<Figure size 432x288 with 1 Axes>"
      ]
     },
     "metadata": {
      "needs_background": "light"
     },
     "output_type": "display_data"
    }
   ],
   "source": [
    "other_features = ['education', 'occupation']\n",
    "for index, feature in enumerate(other_features):\n",
    "    plot_categs(data, feature, fignum=index+1)"
   ]
  },
  {
   "cell_type": "markdown",
   "metadata": {},
   "source": [
    "# Distribution of salary among the general population"
   ]
  },
  {
   "cell_type": "code",
   "execution_count": 8,
   "metadata": {},
   "outputs": [
    {
     "data": {
      "image/png": "[encoded data removed]",
      "text/plain": [
       "<Figure size 432x288 with 1 Axes>"
      ]
     },
     "metadata": {
      "needs_background": "light"
     },
     "output_type": "display_data"
    }
   ],
   "source": [
    "plot_categs(data, 'salary', title=\"Histogram of number of datatopoints per income level\")"
   ]
  },
  {
   "cell_type": "markdown",
   "metadata": {},
   "source": [
    "## CHECKPOINT \n",
    "The fraction of the population that makes less than 50K is about 3 times the fraction of the\n",
    "population that earns more than 50K.How would this affect the predictor trained on this data?"
   ]
  },
  {
   "cell_type": "markdown",
   "metadata": {},
   "source": [
    "# Distribution of salary among people of different gender\n",
    "\n",
    "Let's now explore the distribution of salary among people of Male sex versus people with Female sex"
   ]
  },
  {
   "cell_type": "code",
   "execution_count": 9,
   "metadata": {},
   "outputs": [
    {
     "data": {
      "image/png": "[encoded data removed]",
      "text/plain": [
       "<Figure size 432x288 with 1 Axes>"
      ]
     },
     "metadata": {
      "needs_background": "light"
     },
     "output_type": "display_data"
    },
    {
     "data": {
      "image/png": "[encoded data removed]",
      "text/plain": [
       "<Figure size 432x288 with 1 Axes>"
      ]
     },
     "metadata": {
      "needs_background": "light"
     },
     "output_type": "display_data"
    }
   ],
   "source": [
    "# Examining statistics among_demographics\n",
    "male_data = data[data.sex == ' Male']\n",
    "female_data = data[data.sex == ' Female']\n",
    "\n",
    "plot_categs(male_data, 'salary', fignum=1,title=\"Histogram of male population per income level\")\n",
    "plot_categs(female_data, 'salary', fignum=2, title=\"Histogram of female population per income level\")"
   ]
  },
  {
   "cell_type": "markdown",
   "metadata": {},
   "source": [
    "# CHECKPOINT:\n",
    "\n",
    "**Key observation** \n",
    "- Fraction of males who make less than \\$50K is about twice the fraction of females that make more\n",
    "- The fraction of females that make less than \\$50K is about 7 times the fraction of females that make more\n",
    "\n",
    "**THINK**: How would this affect predictions of a model trained on this training data?"
   ]
  },
  {
   "cell_type": "markdown",
   "metadata": {},
   "source": [
    "## Distribution of race in the dataset"
   ]
  },
  {
   "cell_type": "code",
   "execution_count": 10,
   "metadata": {},
   "outputs": [
    {
     "data": {
      "image/png": "[encoded data removed]",
      "text/plain": [
       "<Figure size 432x288 with 1 Axes>"
      ]
     },
     "metadata": {
      "needs_background": "light"
     },
     "output_type": "display_data"
    }
   ],
   "source": [
    "# Examine races in the dataset\n",
    "plot_categs(data, 'race')"
   ]
  },
  {
   "cell_type": "code",
   "execution_count": 11,
   "metadata": {},
   "outputs": [
    {
     "data": {
      "image/png": "[encoded data removed]",
      "text/plain": [
       "<Figure size 432x288 with 1 Axes>"
      ]
     },
     "metadata": {
      "needs_background": "light"
     },
     "output_type": "display_data"
    },
    {
     "data": {
      "image/png": "[encoded data removed]",
      "text/plain": [
       "<Figure size 432x288 with 1 Axes>"
      ]
     },
     "metadata": {
      "needs_background": "light"
     },
     "output_type": "display_data"
    },
    {
     "data": {
      "image/png": "[encoded data removed]",
      "text/plain": [
       "<Figure size 432x288 with 1 Axes>"
      ]
     },
     "metadata": {
      "needs_background": "light"
     },
     "output_type": "display_data"
    },
    {
     "data": {
      "image/png": "[encoded data removed]",
      "text/plain": [
       "<Figure size 432x288 with 1 Axes>"
      ]
     },
     "metadata": {
      "needs_background": "light"
     },
     "output_type": "display_data"
    },
    {
     "data": {
      "image/png": "[encoded data removed]",
      "text/plain": [
       "<Figure size 432x288 with 1 Axes>"
      ]
     },
     "metadata": {
      "needs_background": "light"
     },
     "output_type": "display_data"
    }
   ],
   "source": [
    "unique_races = data['race'].unique()\n",
    "for index, race in enumerate(unique_races):\n",
    "    plot_categs(data[data['race'] == race], 'salary', fignum=index, title = \"Distribution of salary among the population of \"+race+\" race\")"
   ]
  },
  {
   "cell_type": "markdown",
   "metadata": {},
   "source": [
    "# CHECKPOINT\n",
    "**Observation**:\n",
    "- Different races have different levels of representation in terms number of datapoints with a given race\n",
    "- The levels of income distribution among a given race are different \n",
    "\n",
    "**THINK**:\n",
    "- How could this affect the predictions of an algorithm accross different races?"
   ]
  },
  {
   "cell_type": "markdown",
   "metadata": {},
   "source": [
    "#  Distribution of hours per week"
   ]
  },
  {
   "cell_type": "code",
   "execution_count": 12,
   "metadata": {},
   "outputs": [
    {
     "data": {
      "image/png": "[encoded data removed]",
      "text/plain": [
       "<Figure size 432x288 with 1 Axes>"
      ]
     },
     "metadata": {
      "needs_background": "light"
     },
     "output_type": "display_data"
    }
   ],
   "source": [
    "def plot_categ_hists(df, feature, title=None, bins=None, histtype='bar', density=False, normed=None, fignum=1):\n",
    "    plt.figure(fignum)\n",
    "    x = df[feature]\n",
    "    plt.hist(x, bins=bins, density=density, normed=normed, histtype=histtype)\n",
    "    plt.xlabel(feature)\n",
    "    plt.title(title if title is not None else '')\n",
    "plot_categ_hists(data, 'hours-per-week', fignum=1)"
   ]
  },
  {
   "cell_type": "markdown",
   "metadata": {},
   "source": [
    "# II. Preparing data for predictions\n",
    "\n",
    "One important step in data science before applying machine learning algorithms is data preparation. In this section, we will be transforming features of our data, so that our dataset can be ready for machine learning"
   ]
  },
  {
   "cell_type": "code",
   "execution_count": 13,
   "metadata": {},
   "outputs": [
    {
     "data": {
      "text/html": [
       "<div>\n",
       "<style scoped>\n",
       "    .dataframe tbody tr th:only-of-type {\n",
       "        vertical-align: middle;\n",
       "    }\n",
       "\n",
       "    .dataframe tbody tr th {\n",
       "        vertical-align: top;\n",
       "    }\n",
       "\n",
       "    .dataframe thead th {\n",
       "        text-align: right;\n",
       "    }\n",
       "</style>\n",
       "<table border=\"1\" class=\"dataframe\">\n",
       "  <thead>\n",
       "    <tr style=\"text-align: right;\">\n",
       "      <th></th>\n",
       "      <th>age</th>\n",
       "      <th>workclass</th>\n",
       "      <th>fnlwgt</th>\n",
       "      <th>education</th>\n",
       "      <th>education-num</th>\n",
       "      <th>marital-status</th>\n",
       "      <th>occupation</th>\n",
       "      <th>relationship</th>\n",
       "      <th>race</th>\n",
       "      <th>sex</th>\n",
       "      <th>capital-gain</th>\n",
       "      <th>capital-loss</th>\n",
       "      <th>hours-per-week</th>\n",
       "      <th>native-country</th>\n",
       "      <th>salary</th>\n",
       "    </tr>\n",
       "  </thead>\n",
       "  <tbody>\n",
       "    <tr>\n",
       "      <th>0</th>\n",
       "      <td>39</td>\n",
       "      <td>State-gov</td>\n",
       "      <td>77516.0</td>\n",
       "      <td>Bachelors</td>\n",
       "      <td>13.0</td>\n",
       "      <td>Never-married</td>\n",
       "      <td>Adm-clerical</td>\n",
       "      <td>Not-in-family</td>\n",
       "      <td>White</td>\n",
       "      <td>Male</td>\n",
       "      <td>2174.0</td>\n",
       "      <td>0.0</td>\n",
       "      <td>40.0</td>\n",
       "      <td>United-States</td>\n",
       "      <td>&lt;=50K</td>\n",
       "    </tr>\n",
       "    <tr>\n",
       "      <th>1</th>\n",
       "      <td>50</td>\n",
       "      <td>Self-emp-not-inc</td>\n",
       "      <td>83311.0</td>\n",
       "      <td>Bachelors</td>\n",
       "      <td>13.0</td>\n",
       "      <td>Married-civ-spouse</td>\n",
       "      <td>Exec-managerial</td>\n",
       "      <td>Husband</td>\n",
       "      <td>White</td>\n",
       "      <td>Male</td>\n",
       "      <td>0.0</td>\n",
       "      <td>0.0</td>\n",
       "      <td>13.0</td>\n",
       "      <td>United-States</td>\n",
       "      <td>&lt;=50K</td>\n",
       "    </tr>\n",
       "    <tr>\n",
       "      <th>2</th>\n",
       "      <td>38</td>\n",
       "      <td>Private</td>\n",
       "      <td>215646.0</td>\n",
       "      <td>HS-grad</td>\n",
       "      <td>9.0</td>\n",
       "      <td>Divorced</td>\n",
       "      <td>Handlers-cleaners</td>\n",
       "      <td>Not-in-family</td>\n",
       "      <td>White</td>\n",
       "      <td>Male</td>\n",
       "      <td>0.0</td>\n",
       "      <td>0.0</td>\n",
       "      <td>40.0</td>\n",
       "      <td>United-States</td>\n",
       "      <td>&lt;=50K</td>\n",
       "    </tr>\n",
       "    <tr>\n",
       "      <th>3</th>\n",
       "      <td>53</td>\n",
       "      <td>Private</td>\n",
       "      <td>234721.0</td>\n",
       "      <td>11th</td>\n",
       "      <td>7.0</td>\n",
       "      <td>Married-civ-spouse</td>\n",
       "      <td>Handlers-cleaners</td>\n",
       "      <td>Husband</td>\n",
       "      <td>Black</td>\n",
       "      <td>Male</td>\n",
       "      <td>0.0</td>\n",
       "      <td>0.0</td>\n",
       "      <td>40.0</td>\n",
       "      <td>United-States</td>\n",
       "      <td>&lt;=50K</td>\n",
       "    </tr>\n",
       "    <tr>\n",
       "      <th>4</th>\n",
       "      <td>28</td>\n",
       "      <td>Private</td>\n",
       "      <td>338409.0</td>\n",
       "      <td>Bachelors</td>\n",
       "      <td>13.0</td>\n",
       "      <td>Married-civ-spouse</td>\n",
       "      <td>Prof-specialty</td>\n",
       "      <td>Wife</td>\n",
       "      <td>Black</td>\n",
       "      <td>Female</td>\n",
       "      <td>0.0</td>\n",
       "      <td>0.0</td>\n",
       "      <td>40.0</td>\n",
       "      <td>Cuba</td>\n",
       "      <td>&lt;=50K</td>\n",
       "    </tr>\n",
       "  </tbody>\n",
       "</table>\n",
       "</div>"
      ],
      "text/plain": [
       "   age          workclass    fnlwgt   education  education-num  \\\n",
       "0   39          State-gov   77516.0   Bachelors           13.0   \n",
       "1   50   Self-emp-not-inc   83311.0   Bachelors           13.0   \n",
       "2   38            Private  215646.0     HS-grad            9.0   \n",
       "3   53            Private  234721.0        11th            7.0   \n",
       "4   28            Private  338409.0   Bachelors           13.0   \n",
       "\n",
       "        marital-status          occupation    relationship    race      sex  \\\n",
       "0        Never-married        Adm-clerical   Not-in-family   White     Male   \n",
       "1   Married-civ-spouse     Exec-managerial         Husband   White     Male   \n",
       "2             Divorced   Handlers-cleaners   Not-in-family   White     Male   \n",
       "3   Married-civ-spouse   Handlers-cleaners         Husband   Black     Male   \n",
       "4   Married-civ-spouse      Prof-specialty            Wife   Black   Female   \n",
       "\n",
       "   capital-gain  capital-loss  hours-per-week  native-country salary  \n",
       "0        2174.0           0.0            40.0   United-States  <=50K  \n",
       "1           0.0           0.0            13.0   United-States  <=50K  \n",
       "2           0.0           0.0            40.0   United-States  <=50K  \n",
       "3           0.0           0.0            40.0   United-States  <=50K  \n",
       "4           0.0           0.0            40.0            Cuba  <=50K  "
      ]
     },
     "execution_count": 13,
     "metadata": {},
     "output_type": "execute_result"
    }
   ],
   "source": [
    "# Create a new dataset to be modified \n",
    "datav2 = data.copy()\n",
    "datav2.head()"
   ]
  },
  {
   "cell_type": "markdown",
   "metadata": {},
   "source": [
    "### Drop missing values\n",
    "Some of the entries in our dataset are either question marks (' ?') or np.nan. Let's simply ignore such entries"
   ]
  },
  {
   "cell_type": "code",
   "execution_count": 14,
   "metadata": {},
   "outputs": [
    {
     "name": "stderr",
     "output_type": "stream",
     "text": [
      "/Users/audace/anaconda3/lib/python3.7/site-packages/ipykernel_launcher.py:2: FutureWarning: elementwise comparison failed; returning scalar instead, but in the future will perform elementwise comparison\n",
      "  \n"
     ]
    },
    {
     "data": {
      "text/plain": [
       "['workclass', 'occupation', 'native-country']"
      ]
     },
     "execution_count": 14,
     "metadata": {},
     "output_type": "execute_result"
    }
   ],
   "source": [
    "# See features with question marks\n",
    "[feature for feature in datav2.columns if ' ?' in datav2[feature].unique() or np.nan in datav2[feature].unique()]"
   ]
  },
  {
   "cell_type": "code",
   "execution_count": 15,
   "metadata": {},
   "outputs": [
    {
     "data": {
      "text/plain": [
       "(array([' United-States', ' Cuba', ' Jamaica', ' India', ' Mexico',\n",
       "        ' Puerto-Rico', ' Honduras', ' England', ' Canada', ' Germany',\n",
       "        ' Iran', ' Philippines', ' Poland', ' Columbia', ' Cambodia',\n",
       "        ' Thailand', ' Ecuador', ' Laos', ' Taiwan', ' Haiti', ' Portugal',\n",
       "        ' Dominican-Republic', ' El-Salvador', ' France', ' Guatemala',\n",
       "        ' Italy', ' China', ' South', ' Japan', ' Yugoslavia', ' Peru',\n",
       "        ' Outlying-US(Guam-USVI-etc)', ' Scotland', ' Trinadad&Tobago',\n",
       "        ' Greece', ' Nicaragua', ' Vietnam', ' Hong', ' Ireland',\n",
       "        ' Hungary', ' Holand-Netherlands'], dtype=object),\n",
       " array([' State-gov', ' Self-emp-not-inc', ' Private', ' Federal-gov',\n",
       "        ' Local-gov', ' Self-emp-inc', ' Without-pay'], dtype=object),\n",
       " array([' Adm-clerical', ' Exec-managerial', ' Handlers-cleaners',\n",
       "        ' Prof-specialty', ' Other-service', ' Sales', ' Transport-moving',\n",
       "        ' Farming-fishing', ' Machine-op-inspct', ' Tech-support',\n",
       "        ' Craft-repair', ' Protective-serv', ' Armed-Forces',\n",
       "        ' Priv-house-serv'], dtype=object))"
      ]
     },
     "execution_count": 15,
     "metadata": {},
     "output_type": "execute_result"
    }
   ],
   "source": [
    "# Remove all missing values\n",
    "for feature in datav2.columns:\n",
    "    datav2[feature] = datav2[feature].replace(' ?', np.nan)\n",
    "datav2.dropna(how='any', inplace=True)\n",
    "\n",
    "datav2['native-country'].unique(), datav2['workclass'].unique(), datav2['occupation'].unique()"
   ]
  },
  {
   "cell_type": "markdown",
   "metadata": {},
   "source": [
    "## Categorize native country as US and Non-US"
   ]
  },
  {
   "cell_type": "code",
   "execution_count": 16,
   "metadata": {},
   "outputs": [
    {
     "data": {
      "text/plain": [
       "(41292, 15)"
      ]
     },
     "execution_count": 16,
     "metadata": {},
     "output_type": "execute_result"
    }
   ],
   "source": [
    "datav2[datav2['native-country'] == ' United-States'].shape"
   ]
  },
  {
   "cell_type": "code",
   "execution_count": 17,
   "metadata": {},
   "outputs": [
    {
     "data": {
      "text/html": [
       "<div>\n",
       "<style scoped>\n",
       "    .dataframe tbody tr th:only-of-type {\n",
       "        vertical-align: middle;\n",
       "    }\n",
       "\n",
       "    .dataframe tbody tr th {\n",
       "        vertical-align: top;\n",
       "    }\n",
       "\n",
       "    .dataframe thead th {\n",
       "        text-align: right;\n",
       "    }\n",
       "</style>\n",
       "<table border=\"1\" class=\"dataframe\">\n",
       "  <thead>\n",
       "    <tr style=\"text-align: right;\">\n",
       "      <th></th>\n",
       "      <th>age</th>\n",
       "      <th>workclass</th>\n",
       "      <th>fnlwgt</th>\n",
       "      <th>education</th>\n",
       "      <th>education-num</th>\n",
       "      <th>marital-status</th>\n",
       "      <th>occupation</th>\n",
       "      <th>relationship</th>\n",
       "      <th>race</th>\n",
       "      <th>sex</th>\n",
       "      <th>capital-gain</th>\n",
       "      <th>capital-loss</th>\n",
       "      <th>hours-per-week</th>\n",
       "      <th>native-country</th>\n",
       "      <th>salary</th>\n",
       "    </tr>\n",
       "  </thead>\n",
       "  <tbody>\n",
       "    <tr>\n",
       "      <th>0</th>\n",
       "      <td>39</td>\n",
       "      <td>State-gov</td>\n",
       "      <td>77516.0</td>\n",
       "      <td>Bachelors</td>\n",
       "      <td>13.0</td>\n",
       "      <td>Never-married</td>\n",
       "      <td>Adm-clerical</td>\n",
       "      <td>Not-in-family</td>\n",
       "      <td>White</td>\n",
       "      <td>Male</td>\n",
       "      <td>2174.0</td>\n",
       "      <td>0.0</td>\n",
       "      <td>40.0</td>\n",
       "      <td>US</td>\n",
       "      <td>&lt;=50K</td>\n",
       "    </tr>\n",
       "    <tr>\n",
       "      <th>1</th>\n",
       "      <td>50</td>\n",
       "      <td>Self-emp-not-inc</td>\n",
       "      <td>83311.0</td>\n",
       "      <td>Bachelors</td>\n",
       "      <td>13.0</td>\n",
       "      <td>Married-civ-spouse</td>\n",
       "      <td>Exec-managerial</td>\n",
       "      <td>Husband</td>\n",
       "      <td>White</td>\n",
       "      <td>Male</td>\n",
       "      <td>0.0</td>\n",
       "      <td>0.0</td>\n",
       "      <td>13.0</td>\n",
       "      <td>US</td>\n",
       "      <td>&lt;=50K</td>\n",
       "    </tr>\n",
       "    <tr>\n",
       "      <th>2</th>\n",
       "      <td>38</td>\n",
       "      <td>Private</td>\n",
       "      <td>215646.0</td>\n",
       "      <td>HS-grad</td>\n",
       "      <td>9.0</td>\n",
       "      <td>Divorced</td>\n",
       "      <td>Handlers-cleaners</td>\n",
       "      <td>Not-in-family</td>\n",
       "      <td>White</td>\n",
       "      <td>Male</td>\n",
       "      <td>0.0</td>\n",
       "      <td>0.0</td>\n",
       "      <td>40.0</td>\n",
       "      <td>US</td>\n",
       "      <td>&lt;=50K</td>\n",
       "    </tr>\n",
       "    <tr>\n",
       "      <th>3</th>\n",
       "      <td>53</td>\n",
       "      <td>Private</td>\n",
       "      <td>234721.0</td>\n",
       "      <td>11th</td>\n",
       "      <td>7.0</td>\n",
       "      <td>Married-civ-spouse</td>\n",
       "      <td>Handlers-cleaners</td>\n",
       "      <td>Husband</td>\n",
       "      <td>Black</td>\n",
       "      <td>Male</td>\n",
       "      <td>0.0</td>\n",
       "      <td>0.0</td>\n",
       "      <td>40.0</td>\n",
       "      <td>US</td>\n",
       "      <td>&lt;=50K</td>\n",
       "    </tr>\n",
       "    <tr>\n",
       "      <th>4</th>\n",
       "      <td>28</td>\n",
       "      <td>Private</td>\n",
       "      <td>338409.0</td>\n",
       "      <td>Bachelors</td>\n",
       "      <td>13.0</td>\n",
       "      <td>Married-civ-spouse</td>\n",
       "      <td>Prof-specialty</td>\n",
       "      <td>Wife</td>\n",
       "      <td>Black</td>\n",
       "      <td>Female</td>\n",
       "      <td>0.0</td>\n",
       "      <td>0.0</td>\n",
       "      <td>40.0</td>\n",
       "      <td>Non-US</td>\n",
       "      <td>&lt;=50K</td>\n",
       "    </tr>\n",
       "  </tbody>\n",
       "</table>\n",
       "</div>"
      ],
      "text/plain": [
       "   age          workclass    fnlwgt   education  education-num  \\\n",
       "0   39          State-gov   77516.0   Bachelors           13.0   \n",
       "1   50   Self-emp-not-inc   83311.0   Bachelors           13.0   \n",
       "2   38            Private  215646.0     HS-grad            9.0   \n",
       "3   53            Private  234721.0        11th            7.0   \n",
       "4   28            Private  338409.0   Bachelors           13.0   \n",
       "\n",
       "        marital-status          occupation    relationship    race      sex  \\\n",
       "0        Never-married        Adm-clerical   Not-in-family   White     Male   \n",
       "1   Married-civ-spouse     Exec-managerial         Husband   White     Male   \n",
       "2             Divorced   Handlers-cleaners   Not-in-family   White     Male   \n",
       "3   Married-civ-spouse   Handlers-cleaners         Husband   Black     Male   \n",
       "4   Married-civ-spouse      Prof-specialty            Wife   Black   Female   \n",
       "\n",
       "   capital-gain  capital-loss  hours-per-week native-country salary  \n",
       "0        2174.0           0.0            40.0             US  <=50K  \n",
       "1           0.0           0.0            13.0             US  <=50K  \n",
       "2           0.0           0.0            40.0             US  <=50K  \n",
       "3           0.0           0.0            40.0             US  <=50K  \n",
       "4           0.0           0.0            40.0         Non-US  <=50K  "
      ]
     },
     "execution_count": 17,
     "metadata": {},
     "output_type": "execute_result"
    }
   ],
   "source": [
    "datav2.loc[datav2['native-country']!=' United-States', 'native-country'] = 'Non-US'\n",
    "datav2.loc[datav2['native-country'] == ' United-States', 'native-country'] = 'US'\n",
    "datav2.head()"
   ]
  },
  {
   "cell_type": "markdown",
   "metadata": {},
   "source": [
    "# Convert native-country, sex and salary to binary one-hot"
   ]
  },
  {
   "cell_type": "code",
   "execution_count": 18,
   "metadata": {},
   "outputs": [],
   "source": [
    "FEMALE_LABEL, MALE_LABEL = (0, 1)\n",
    "US_LABEL, NON_US_LABEL = (0, 1)\n",
    "HIGH_SALARY_LABEL, LOW_SALARY_LABEL = (0, 1)"
   ]
  },
  {
   "cell_type": "code",
   "execution_count": 19,
   "metadata": {},
   "outputs": [
    {
     "data": {
      "text/html": [
       "<div>\n",
       "<style scoped>\n",
       "    .dataframe tbody tr th:only-of-type {\n",
       "        vertical-align: middle;\n",
       "    }\n",
       "\n",
       "    .dataframe tbody tr th {\n",
       "        vertical-align: top;\n",
       "    }\n",
       "\n",
       "    .dataframe thead th {\n",
       "        text-align: right;\n",
       "    }\n",
       "</style>\n",
       "<table border=\"1\" class=\"dataframe\">\n",
       "  <thead>\n",
       "    <tr style=\"text-align: right;\">\n",
       "      <th></th>\n",
       "      <th>age</th>\n",
       "      <th>workclass</th>\n",
       "      <th>fnlwgt</th>\n",
       "      <th>education</th>\n",
       "      <th>education-num</th>\n",
       "      <th>marital-status</th>\n",
       "      <th>occupation</th>\n",
       "      <th>relationship</th>\n",
       "      <th>race</th>\n",
       "      <th>sex</th>\n",
       "      <th>capital-gain</th>\n",
       "      <th>capital-loss</th>\n",
       "      <th>hours-per-week</th>\n",
       "      <th>native-country</th>\n",
       "      <th>salary</th>\n",
       "    </tr>\n",
       "  </thead>\n",
       "  <tbody>\n",
       "    <tr>\n",
       "      <th>0</th>\n",
       "      <td>39</td>\n",
       "      <td>State-gov</td>\n",
       "      <td>77516.0</td>\n",
       "      <td>Bachelors</td>\n",
       "      <td>13.0</td>\n",
       "      <td>Never-married</td>\n",
       "      <td>Adm-clerical</td>\n",
       "      <td>Not-in-family</td>\n",
       "      <td>White</td>\n",
       "      <td>1</td>\n",
       "      <td>2174.0</td>\n",
       "      <td>0.0</td>\n",
       "      <td>40.0</td>\n",
       "      <td>0</td>\n",
       "      <td>1</td>\n",
       "    </tr>\n",
       "    <tr>\n",
       "      <th>1</th>\n",
       "      <td>50</td>\n",
       "      <td>Self-emp-not-inc</td>\n",
       "      <td>83311.0</td>\n",
       "      <td>Bachelors</td>\n",
       "      <td>13.0</td>\n",
       "      <td>Married-civ-spouse</td>\n",
       "      <td>Exec-managerial</td>\n",
       "      <td>Husband</td>\n",
       "      <td>White</td>\n",
       "      <td>1</td>\n",
       "      <td>0.0</td>\n",
       "      <td>0.0</td>\n",
       "      <td>13.0</td>\n",
       "      <td>0</td>\n",
       "      <td>1</td>\n",
       "    </tr>\n",
       "    <tr>\n",
       "      <th>2</th>\n",
       "      <td>38</td>\n",
       "      <td>Private</td>\n",
       "      <td>215646.0</td>\n",
       "      <td>HS-grad</td>\n",
       "      <td>9.0</td>\n",
       "      <td>Divorced</td>\n",
       "      <td>Handlers-cleaners</td>\n",
       "      <td>Not-in-family</td>\n",
       "      <td>White</td>\n",
       "      <td>1</td>\n",
       "      <td>0.0</td>\n",
       "      <td>0.0</td>\n",
       "      <td>40.0</td>\n",
       "      <td>0</td>\n",
       "      <td>1</td>\n",
       "    </tr>\n",
       "    <tr>\n",
       "      <th>3</th>\n",
       "      <td>53</td>\n",
       "      <td>Private</td>\n",
       "      <td>234721.0</td>\n",
       "      <td>11th</td>\n",
       "      <td>7.0</td>\n",
       "      <td>Married-civ-spouse</td>\n",
       "      <td>Handlers-cleaners</td>\n",
       "      <td>Husband</td>\n",
       "      <td>Black</td>\n",
       "      <td>1</td>\n",
       "      <td>0.0</td>\n",
       "      <td>0.0</td>\n",
       "      <td>40.0</td>\n",
       "      <td>0</td>\n",
       "      <td>1</td>\n",
       "    </tr>\n",
       "    <tr>\n",
       "      <th>4</th>\n",
       "      <td>28</td>\n",
       "      <td>Private</td>\n",
       "      <td>338409.0</td>\n",
       "      <td>Bachelors</td>\n",
       "      <td>13.0</td>\n",
       "      <td>Married-civ-spouse</td>\n",
       "      <td>Prof-specialty</td>\n",
       "      <td>Wife</td>\n",
       "      <td>Black</td>\n",
       "      <td>0</td>\n",
       "      <td>0.0</td>\n",
       "      <td>0.0</td>\n",
       "      <td>40.0</td>\n",
       "      <td>1</td>\n",
       "      <td>1</td>\n",
       "    </tr>\n",
       "  </tbody>\n",
       "</table>\n",
       "</div>"
      ],
      "text/plain": [
       "   age          workclass    fnlwgt   education  education-num  \\\n",
       "0   39          State-gov   77516.0   Bachelors           13.0   \n",
       "1   50   Self-emp-not-inc   83311.0   Bachelors           13.0   \n",
       "2   38            Private  215646.0     HS-grad            9.0   \n",
       "3   53            Private  234721.0        11th            7.0   \n",
       "4   28            Private  338409.0   Bachelors           13.0   \n",
       "\n",
       "        marital-status          occupation    relationship    race  sex  \\\n",
       "0        Never-married        Adm-clerical   Not-in-family   White    1   \n",
       "1   Married-civ-spouse     Exec-managerial         Husband   White    1   \n",
       "2             Divorced   Handlers-cleaners   Not-in-family   White    1   \n",
       "3   Married-civ-spouse   Handlers-cleaners         Husband   Black    1   \n",
       "4   Married-civ-spouse      Prof-specialty            Wife   Black    0   \n",
       "\n",
       "   capital-gain  capital-loss  hours-per-week  native-country  salary  \n",
       "0        2174.0           0.0            40.0               0       1  \n",
       "1           0.0           0.0            13.0               0       1  \n",
       "2           0.0           0.0            40.0               0       1  \n",
       "3           0.0           0.0            40.0               0       1  \n",
       "4           0.0           0.0            40.0               1       1  "
      ]
     },
     "execution_count": 19,
     "metadata": {},
     "output_type": "execute_result"
    }
   ],
   "source": [
    "datav2['salary'] = datav2['salary'].map({'>50K':HIGH_SALARY_LABEL,'<=50K':LOW_SALARY_LABEL})\n",
    "datav2['native-country'] = datav2['native-country'].map({'US':US_LABEL,'Non-US':NON_US_LABEL}).astype(int)\n",
    "datav2['sex'] = datav2['sex'].map({' Male':MALE_LABEL,' Female':FEMALE_LABEL})\n",
    "datav2.head()"
   ]
  },
  {
   "cell_type": "markdown",
   "metadata": {},
   "source": [
    "# Change marital status to single or couple"
   ]
  },
  {
   "cell_type": "code",
   "execution_count": 20,
   "metadata": {},
   "outputs": [
    {
     "data": {
      "text/plain": [
       "array([' Never-married', ' Married-civ-spouse', ' Divorced',\n",
       "       ' Married-spouse-absent', ' Separated', ' Married-AF-spouse',\n",
       "       ' Widowed'], dtype=object)"
      ]
     },
     "execution_count": 20,
     "metadata": {},
     "output_type": "execute_result"
    }
   ],
   "source": [
    "datav2['marital-status'].unique()"
   ]
  },
  {
   "cell_type": "code",
   "execution_count": 21,
   "metadata": {},
   "outputs": [
    {
     "data": {
      "text/html": [
       "<div>\n",
       "<style scoped>\n",
       "    .dataframe tbody tr th:only-of-type {\n",
       "        vertical-align: middle;\n",
       "    }\n",
       "\n",
       "    .dataframe tbody tr th {\n",
       "        vertical-align: top;\n",
       "    }\n",
       "\n",
       "    .dataframe thead th {\n",
       "        text-align: right;\n",
       "    }\n",
       "</style>\n",
       "<table border=\"1\" class=\"dataframe\">\n",
       "  <thead>\n",
       "    <tr style=\"text-align: right;\">\n",
       "      <th></th>\n",
       "      <th>age</th>\n",
       "      <th>workclass</th>\n",
       "      <th>fnlwgt</th>\n",
       "      <th>education</th>\n",
       "      <th>education-num</th>\n",
       "      <th>marital-status</th>\n",
       "      <th>occupation</th>\n",
       "      <th>relationship</th>\n",
       "      <th>race</th>\n",
       "      <th>sex</th>\n",
       "      <th>capital-gain</th>\n",
       "      <th>capital-loss</th>\n",
       "      <th>hours-per-week</th>\n",
       "      <th>native-country</th>\n",
       "      <th>salary</th>\n",
       "    </tr>\n",
       "  </thead>\n",
       "  <tbody>\n",
       "    <tr>\n",
       "      <th>0</th>\n",
       "      <td>39</td>\n",
       "      <td>State-gov</td>\n",
       "      <td>77516.0</td>\n",
       "      <td>Bachelors</td>\n",
       "      <td>13.0</td>\n",
       "      <td>Single</td>\n",
       "      <td>Adm-clerical</td>\n",
       "      <td>Not-in-family</td>\n",
       "      <td>White</td>\n",
       "      <td>1</td>\n",
       "      <td>2174.0</td>\n",
       "      <td>0.0</td>\n",
       "      <td>40.0</td>\n",
       "      <td>0</td>\n",
       "      <td>1</td>\n",
       "    </tr>\n",
       "    <tr>\n",
       "      <th>1</th>\n",
       "      <td>50</td>\n",
       "      <td>Self-emp-not-inc</td>\n",
       "      <td>83311.0</td>\n",
       "      <td>Bachelors</td>\n",
       "      <td>13.0</td>\n",
       "      <td>Couple</td>\n",
       "      <td>Exec-managerial</td>\n",
       "      <td>Husband</td>\n",
       "      <td>White</td>\n",
       "      <td>1</td>\n",
       "      <td>0.0</td>\n",
       "      <td>0.0</td>\n",
       "      <td>13.0</td>\n",
       "      <td>0</td>\n",
       "      <td>1</td>\n",
       "    </tr>\n",
       "    <tr>\n",
       "      <th>2</th>\n",
       "      <td>38</td>\n",
       "      <td>Private</td>\n",
       "      <td>215646.0</td>\n",
       "      <td>HS-grad</td>\n",
       "      <td>9.0</td>\n",
       "      <td>Single</td>\n",
       "      <td>Handlers-cleaners</td>\n",
       "      <td>Not-in-family</td>\n",
       "      <td>White</td>\n",
       "      <td>1</td>\n",
       "      <td>0.0</td>\n",
       "      <td>0.0</td>\n",
       "      <td>40.0</td>\n",
       "      <td>0</td>\n",
       "      <td>1</td>\n",
       "    </tr>\n",
       "    <tr>\n",
       "      <th>3</th>\n",
       "      <td>53</td>\n",
       "      <td>Private</td>\n",
       "      <td>234721.0</td>\n",
       "      <td>11th</td>\n",
       "      <td>7.0</td>\n",
       "      <td>Couple</td>\n",
       "      <td>Handlers-cleaners</td>\n",
       "      <td>Husband</td>\n",
       "      <td>Black</td>\n",
       "      <td>1</td>\n",
       "      <td>0.0</td>\n",
       "      <td>0.0</td>\n",
       "      <td>40.0</td>\n",
       "      <td>0</td>\n",
       "      <td>1</td>\n",
       "    </tr>\n",
       "    <tr>\n",
       "      <th>4</th>\n",
       "      <td>28</td>\n",
       "      <td>Private</td>\n",
       "      <td>338409.0</td>\n",
       "      <td>Bachelors</td>\n",
       "      <td>13.0</td>\n",
       "      <td>Couple</td>\n",
       "      <td>Prof-specialty</td>\n",
       "      <td>Wife</td>\n",
       "      <td>Black</td>\n",
       "      <td>0</td>\n",
       "      <td>0.0</td>\n",
       "      <td>0.0</td>\n",
       "      <td>40.0</td>\n",
       "      <td>1</td>\n",
       "      <td>1</td>\n",
       "    </tr>\n",
       "  </tbody>\n",
       "</table>\n",
       "</div>"
      ],
      "text/plain": [
       "   age          workclass    fnlwgt   education  education-num marital-status  \\\n",
       "0   39          State-gov   77516.0   Bachelors           13.0         Single   \n",
       "1   50   Self-emp-not-inc   83311.0   Bachelors           13.0         Couple   \n",
       "2   38            Private  215646.0     HS-grad            9.0         Single   \n",
       "3   53            Private  234721.0        11th            7.0         Couple   \n",
       "4   28            Private  338409.0   Bachelors           13.0         Couple   \n",
       "\n",
       "           occupation    relationship    race  sex  capital-gain  \\\n",
       "0        Adm-clerical   Not-in-family   White    1        2174.0   \n",
       "1     Exec-managerial         Husband   White    1           0.0   \n",
       "2   Handlers-cleaners   Not-in-family   White    1           0.0   \n",
       "3   Handlers-cleaners         Husband   Black    1           0.0   \n",
       "4      Prof-specialty            Wife   Black    0           0.0   \n",
       "\n",
       "   capital-loss  hours-per-week  native-country  salary  \n",
       "0           0.0            40.0               0       1  \n",
       "1           0.0            13.0               0       1  \n",
       "2           0.0            40.0               0       1  \n",
       "3           0.0            40.0               0       1  \n",
       "4           0.0            40.0               1       1  "
      ]
     },
     "execution_count": 21,
     "metadata": {},
     "output_type": "execute_result"
    }
   ],
   "source": [
    "datav2['marital-status'] = datav2['marital-status'].replace([' Divorced',' Married-spouse-absent',' Never-married',' Separated',' Widowed'],'Single')\n",
    "datav2['marital-status'] = datav2['marital-status'].replace([' Married-AF-spouse',' Married-civ-spouse'],'Couple')\n",
    "datav2.head()"
   ]
  },
  {
   "cell_type": "code",
   "execution_count": 22,
   "metadata": {},
   "outputs": [
    {
     "data": {
      "text/html": [
       "<div>\n",
       "<style scoped>\n",
       "    .dataframe tbody tr th:only-of-type {\n",
       "        vertical-align: middle;\n",
       "    }\n",
       "\n",
       "    .dataframe tbody tr th {\n",
       "        vertical-align: top;\n",
       "    }\n",
       "\n",
       "    .dataframe thead th {\n",
       "        text-align: right;\n",
       "    }\n",
       "</style>\n",
       "<table border=\"1\" class=\"dataframe\">\n",
       "  <thead>\n",
       "    <tr style=\"text-align: right;\">\n",
       "      <th></th>\n",
       "      <th>age</th>\n",
       "      <th>workclass</th>\n",
       "      <th>fnlwgt</th>\n",
       "      <th>education</th>\n",
       "      <th>education-num</th>\n",
       "      <th>marital-status</th>\n",
       "      <th>occupation</th>\n",
       "      <th>relationship</th>\n",
       "      <th>race</th>\n",
       "      <th>sex</th>\n",
       "      <th>capital-gain</th>\n",
       "      <th>capital-loss</th>\n",
       "      <th>hours-per-week</th>\n",
       "      <th>native-country</th>\n",
       "      <th>salary</th>\n",
       "    </tr>\n",
       "  </thead>\n",
       "  <tbody>\n",
       "    <tr>\n",
       "      <th>0</th>\n",
       "      <td>39</td>\n",
       "      <td>State-gov</td>\n",
       "      <td>77516.0</td>\n",
       "      <td>Bachelors</td>\n",
       "      <td>13.0</td>\n",
       "      <td>1</td>\n",
       "      <td>Adm-clerical</td>\n",
       "      <td>Not-in-family</td>\n",
       "      <td>White</td>\n",
       "      <td>1</td>\n",
       "      <td>2174.0</td>\n",
       "      <td>0.0</td>\n",
       "      <td>40.0</td>\n",
       "      <td>0</td>\n",
       "      <td>1</td>\n",
       "    </tr>\n",
       "    <tr>\n",
       "      <th>1</th>\n",
       "      <td>50</td>\n",
       "      <td>Self-emp-not-inc</td>\n",
       "      <td>83311.0</td>\n",
       "      <td>Bachelors</td>\n",
       "      <td>13.0</td>\n",
       "      <td>0</td>\n",
       "      <td>Exec-managerial</td>\n",
       "      <td>Husband</td>\n",
       "      <td>White</td>\n",
       "      <td>1</td>\n",
       "      <td>0.0</td>\n",
       "      <td>0.0</td>\n",
       "      <td>13.0</td>\n",
       "      <td>0</td>\n",
       "      <td>1</td>\n",
       "    </tr>\n",
       "    <tr>\n",
       "      <th>2</th>\n",
       "      <td>38</td>\n",
       "      <td>Private</td>\n",
       "      <td>215646.0</td>\n",
       "      <td>HS-grad</td>\n",
       "      <td>9.0</td>\n",
       "      <td>1</td>\n",
       "      <td>Handlers-cleaners</td>\n",
       "      <td>Not-in-family</td>\n",
       "      <td>White</td>\n",
       "      <td>1</td>\n",
       "      <td>0.0</td>\n",
       "      <td>0.0</td>\n",
       "      <td>40.0</td>\n",
       "      <td>0</td>\n",
       "      <td>1</td>\n",
       "    </tr>\n",
       "    <tr>\n",
       "      <th>3</th>\n",
       "      <td>53</td>\n",
       "      <td>Private</td>\n",
       "      <td>234721.0</td>\n",
       "      <td>11th</td>\n",
       "      <td>7.0</td>\n",
       "      <td>0</td>\n",
       "      <td>Handlers-cleaners</td>\n",
       "      <td>Husband</td>\n",
       "      <td>Black</td>\n",
       "      <td>1</td>\n",
       "      <td>0.0</td>\n",
       "      <td>0.0</td>\n",
       "      <td>40.0</td>\n",
       "      <td>0</td>\n",
       "      <td>1</td>\n",
       "    </tr>\n",
       "    <tr>\n",
       "      <th>4</th>\n",
       "      <td>28</td>\n",
       "      <td>Private</td>\n",
       "      <td>338409.0</td>\n",
       "      <td>Bachelors</td>\n",
       "      <td>13.0</td>\n",
       "      <td>0</td>\n",
       "      <td>Prof-specialty</td>\n",
       "      <td>Wife</td>\n",
       "      <td>Black</td>\n",
       "      <td>0</td>\n",
       "      <td>0.0</td>\n",
       "      <td>0.0</td>\n",
       "      <td>40.0</td>\n",
       "      <td>1</td>\n",
       "      <td>1</td>\n",
       "    </tr>\n",
       "  </tbody>\n",
       "</table>\n",
       "</div>"
      ],
      "text/plain": [
       "   age          workclass    fnlwgt   education  education-num  \\\n",
       "0   39          State-gov   77516.0   Bachelors           13.0   \n",
       "1   50   Self-emp-not-inc   83311.0   Bachelors           13.0   \n",
       "2   38            Private  215646.0     HS-grad            9.0   \n",
       "3   53            Private  234721.0        11th            7.0   \n",
       "4   28            Private  338409.0   Bachelors           13.0   \n",
       "\n",
       "   marital-status          occupation    relationship    race  sex  \\\n",
       "0               1        Adm-clerical   Not-in-family   White    1   \n",
       "1               0     Exec-managerial         Husband   White    1   \n",
       "2               1   Handlers-cleaners   Not-in-family   White    1   \n",
       "3               0   Handlers-cleaners         Husband   Black    1   \n",
       "4               0      Prof-specialty            Wife   Black    0   \n",
       "\n",
       "   capital-gain  capital-loss  hours-per-week  native-country  salary  \n",
       "0        2174.0           0.0            40.0               0       1  \n",
       "1           0.0           0.0            13.0               0       1  \n",
       "2           0.0           0.0            40.0               0       1  \n",
       "3           0.0           0.0            40.0               0       1  \n",
       "4           0.0           0.0            40.0               1       1  "
      ]
     },
     "execution_count": 22,
     "metadata": {},
     "output_type": "execute_result"
    }
   ],
   "source": [
    "COUPLE_STATUS_LABEL, SINGLE_STATUS_LABEL = (0, 1)\n",
    "datav2['marital-status'] = datav2['marital-status'].map({'Couple':COUPLE_STATUS_LABEL,'Single':SINGLE_STATUS_LABEL})\n",
    "datav2.head()"
   ]
  },
  {
   "cell_type": "markdown",
   "metadata": {},
   "source": [
    "# Convert relationships to one-hot\n",
    "\n",
    "Remember that one-hot encoding helps us represent data of multiple categories. Let's do this for relationships"
   ]
  },
  {
   "cell_type": "code",
   "execution_count": 23,
   "metadata": {},
   "outputs": [
    {
     "data": {
      "text/html": [
       "<div>\n",
       "<style scoped>\n",
       "    .dataframe tbody tr th:only-of-type {\n",
       "        vertical-align: middle;\n",
       "    }\n",
       "\n",
       "    .dataframe tbody tr th {\n",
       "        vertical-align: top;\n",
       "    }\n",
       "\n",
       "    .dataframe thead th {\n",
       "        text-align: right;\n",
       "    }\n",
       "</style>\n",
       "<table border=\"1\" class=\"dataframe\">\n",
       "  <thead>\n",
       "    <tr style=\"text-align: right;\">\n",
       "      <th></th>\n",
       "      <th>age</th>\n",
       "      <th>workclass</th>\n",
       "      <th>fnlwgt</th>\n",
       "      <th>education</th>\n",
       "      <th>education-num</th>\n",
       "      <th>marital-status</th>\n",
       "      <th>occupation</th>\n",
       "      <th>relationship</th>\n",
       "      <th>race</th>\n",
       "      <th>sex</th>\n",
       "      <th>capital-gain</th>\n",
       "      <th>capital-loss</th>\n",
       "      <th>hours-per-week</th>\n",
       "      <th>native-country</th>\n",
       "      <th>salary</th>\n",
       "    </tr>\n",
       "  </thead>\n",
       "  <tbody>\n",
       "    <tr>\n",
       "      <th>0</th>\n",
       "      <td>39</td>\n",
       "      <td>State-gov</td>\n",
       "      <td>77516.0</td>\n",
       "      <td>Bachelors</td>\n",
       "      <td>13.0</td>\n",
       "      <td>1</td>\n",
       "      <td>Adm-clerical</td>\n",
       "      <td>3</td>\n",
       "      <td>White</td>\n",
       "      <td>1</td>\n",
       "      <td>2174.0</td>\n",
       "      <td>0.0</td>\n",
       "      <td>40.0</td>\n",
       "      <td>0</td>\n",
       "      <td>1</td>\n",
       "    </tr>\n",
       "    <tr>\n",
       "      <th>1</th>\n",
       "      <td>50</td>\n",
       "      <td>Self-emp-not-inc</td>\n",
       "      <td>83311.0</td>\n",
       "      <td>Bachelors</td>\n",
       "      <td>13.0</td>\n",
       "      <td>0</td>\n",
       "      <td>Exec-managerial</td>\n",
       "      <td>2</td>\n",
       "      <td>White</td>\n",
       "      <td>1</td>\n",
       "      <td>0.0</td>\n",
       "      <td>0.0</td>\n",
       "      <td>13.0</td>\n",
       "      <td>0</td>\n",
       "      <td>1</td>\n",
       "    </tr>\n",
       "    <tr>\n",
       "      <th>2</th>\n",
       "      <td>38</td>\n",
       "      <td>Private</td>\n",
       "      <td>215646.0</td>\n",
       "      <td>HS-grad</td>\n",
       "      <td>9.0</td>\n",
       "      <td>1</td>\n",
       "      <td>Handlers-cleaners</td>\n",
       "      <td>3</td>\n",
       "      <td>White</td>\n",
       "      <td>1</td>\n",
       "      <td>0.0</td>\n",
       "      <td>0.0</td>\n",
       "      <td>40.0</td>\n",
       "      <td>0</td>\n",
       "      <td>1</td>\n",
       "    </tr>\n",
       "    <tr>\n",
       "      <th>3</th>\n",
       "      <td>53</td>\n",
       "      <td>Private</td>\n",
       "      <td>234721.0</td>\n",
       "      <td>11th</td>\n",
       "      <td>7.0</td>\n",
       "      <td>0</td>\n",
       "      <td>Handlers-cleaners</td>\n",
       "      <td>2</td>\n",
       "      <td>Black</td>\n",
       "      <td>1</td>\n",
       "      <td>0.0</td>\n",
       "      <td>0.0</td>\n",
       "      <td>40.0</td>\n",
       "      <td>0</td>\n",
       "      <td>1</td>\n",
       "    </tr>\n",
       "    <tr>\n",
       "      <th>4</th>\n",
       "      <td>28</td>\n",
       "      <td>Private</td>\n",
       "      <td>338409.0</td>\n",
       "      <td>Bachelors</td>\n",
       "      <td>13.0</td>\n",
       "      <td>0</td>\n",
       "      <td>Prof-specialty</td>\n",
       "      <td>1</td>\n",
       "      <td>Black</td>\n",
       "      <td>0</td>\n",
       "      <td>0.0</td>\n",
       "      <td>0.0</td>\n",
       "      <td>40.0</td>\n",
       "      <td>1</td>\n",
       "      <td>1</td>\n",
       "    </tr>\n",
       "    <tr>\n",
       "      <th>5</th>\n",
       "      <td>37</td>\n",
       "      <td>Private</td>\n",
       "      <td>284582.0</td>\n",
       "      <td>Masters</td>\n",
       "      <td>14.0</td>\n",
       "      <td>0</td>\n",
       "      <td>Exec-managerial</td>\n",
       "      <td>1</td>\n",
       "      <td>White</td>\n",
       "      <td>0</td>\n",
       "      <td>0.0</td>\n",
       "      <td>0.0</td>\n",
       "      <td>40.0</td>\n",
       "      <td>0</td>\n",
       "      <td>1</td>\n",
       "    </tr>\n",
       "    <tr>\n",
       "      <th>6</th>\n",
       "      <td>49</td>\n",
       "      <td>Private</td>\n",
       "      <td>160187.0</td>\n",
       "      <td>9th</td>\n",
       "      <td>5.0</td>\n",
       "      <td>1</td>\n",
       "      <td>Other-service</td>\n",
       "      <td>3</td>\n",
       "      <td>Black</td>\n",
       "      <td>0</td>\n",
       "      <td>0.0</td>\n",
       "      <td>0.0</td>\n",
       "      <td>16.0</td>\n",
       "      <td>1</td>\n",
       "      <td>1</td>\n",
       "    </tr>\n",
       "    <tr>\n",
       "      <th>7</th>\n",
       "      <td>52</td>\n",
       "      <td>Self-emp-not-inc</td>\n",
       "      <td>209642.0</td>\n",
       "      <td>HS-grad</td>\n",
       "      <td>9.0</td>\n",
       "      <td>0</td>\n",
       "      <td>Exec-managerial</td>\n",
       "      <td>2</td>\n",
       "      <td>White</td>\n",
       "      <td>1</td>\n",
       "      <td>0.0</td>\n",
       "      <td>0.0</td>\n",
       "      <td>45.0</td>\n",
       "      <td>0</td>\n",
       "      <td>0</td>\n",
       "    </tr>\n",
       "    <tr>\n",
       "      <th>8</th>\n",
       "      <td>31</td>\n",
       "      <td>Private</td>\n",
       "      <td>45781.0</td>\n",
       "      <td>Masters</td>\n",
       "      <td>14.0</td>\n",
       "      <td>1</td>\n",
       "      <td>Prof-specialty</td>\n",
       "      <td>3</td>\n",
       "      <td>White</td>\n",
       "      <td>0</td>\n",
       "      <td>14084.0</td>\n",
       "      <td>0.0</td>\n",
       "      <td>50.0</td>\n",
       "      <td>0</td>\n",
       "      <td>0</td>\n",
       "    </tr>\n",
       "    <tr>\n",
       "      <th>9</th>\n",
       "      <td>42</td>\n",
       "      <td>Private</td>\n",
       "      <td>159449.0</td>\n",
       "      <td>Bachelors</td>\n",
       "      <td>13.0</td>\n",
       "      <td>0</td>\n",
       "      <td>Exec-managerial</td>\n",
       "      <td>2</td>\n",
       "      <td>White</td>\n",
       "      <td>1</td>\n",
       "      <td>5178.0</td>\n",
       "      <td>0.0</td>\n",
       "      <td>40.0</td>\n",
       "      <td>0</td>\n",
       "      <td>0</td>\n",
       "    </tr>\n",
       "  </tbody>\n",
       "</table>\n",
       "</div>"
      ],
      "text/plain": [
       "   age          workclass    fnlwgt   education  education-num  \\\n",
       "0   39          State-gov   77516.0   Bachelors           13.0   \n",
       "1   50   Self-emp-not-inc   83311.0   Bachelors           13.0   \n",
       "2   38            Private  215646.0     HS-grad            9.0   \n",
       "3   53            Private  234721.0        11th            7.0   \n",
       "4   28            Private  338409.0   Bachelors           13.0   \n",
       "5   37            Private  284582.0     Masters           14.0   \n",
       "6   49            Private  160187.0         9th            5.0   \n",
       "7   52   Self-emp-not-inc  209642.0     HS-grad            9.0   \n",
       "8   31            Private   45781.0     Masters           14.0   \n",
       "9   42            Private  159449.0   Bachelors           13.0   \n",
       "\n",
       "   marital-status          occupation  relationship    race  sex  \\\n",
       "0               1        Adm-clerical             3   White    1   \n",
       "1               0     Exec-managerial             2   White    1   \n",
       "2               1   Handlers-cleaners             3   White    1   \n",
       "3               0   Handlers-cleaners             2   Black    1   \n",
       "4               0      Prof-specialty             1   Black    0   \n",
       "5               0     Exec-managerial             1   White    0   \n",
       "6               1       Other-service             3   Black    0   \n",
       "7               0     Exec-managerial             2   White    1   \n",
       "8               1      Prof-specialty             3   White    0   \n",
       "9               0     Exec-managerial             2   White    1   \n",
       "\n",
       "   capital-gain  capital-loss  hours-per-week  native-country  salary  \n",
       "0        2174.0           0.0            40.0               0       1  \n",
       "1           0.0           0.0            13.0               0       1  \n",
       "2           0.0           0.0            40.0               0       1  \n",
       "3           0.0           0.0            40.0               0       1  \n",
       "4           0.0           0.0            40.0               1       1  \n",
       "5           0.0           0.0            40.0               0       1  \n",
       "6           0.0           0.0            16.0               1       1  \n",
       "7           0.0           0.0            45.0               0       0  \n",
       "8       14084.0           0.0            50.0               0       0  \n",
       "9        5178.0           0.0            40.0               0       0  "
      ]
     },
     "execution_count": 23,
     "metadata": {},
     "output_type": "execute_result"
    }
   ],
   "source": [
    "# First convert relationship to integers\n",
    "rel_map = {' Unmarried':0,' Wife':1,' Husband':2,' Not-in-family':3,' Own-child':4,' Other-relative':5}\n",
    "datav2['relationship'] = datav2['relationship'].map(rel_map)\n",
    "datav2.head(10)"
   ]
  },
  {
   "cell_type": "code",
   "execution_count": 24,
   "metadata": {},
   "outputs": [
    {
     "data": {
      "text/html": [
       "<div>\n",
       "<style scoped>\n",
       "    .dataframe tbody tr th:only-of-type {\n",
       "        vertical-align: middle;\n",
       "    }\n",
       "\n",
       "    .dataframe tbody tr th {\n",
       "        vertical-align: top;\n",
       "    }\n",
       "\n",
       "    .dataframe thead th {\n",
       "        text-align: right;\n",
       "    }\n",
       "</style>\n",
       "<table border=\"1\" class=\"dataframe\">\n",
       "  <thead>\n",
       "    <tr style=\"text-align: right;\">\n",
       "      <th></th>\n",
       "      <th>age</th>\n",
       "      <th>workclass</th>\n",
       "      <th>fnlwgt</th>\n",
       "      <th>education</th>\n",
       "      <th>education-num</th>\n",
       "      <th>marital-status</th>\n",
       "      <th>occupation</th>\n",
       "      <th>race</th>\n",
       "      <th>sex</th>\n",
       "      <th>capital-gain</th>\n",
       "      <th>capital-loss</th>\n",
       "      <th>hours-per-week</th>\n",
       "      <th>native-country</th>\n",
       "      <th>salary</th>\n",
       "      <th>relationship_0</th>\n",
       "      <th>relationship_1</th>\n",
       "      <th>relationship_2</th>\n",
       "      <th>relationship_3</th>\n",
       "      <th>relationship_4</th>\n",
       "      <th>relationship_5</th>\n",
       "    </tr>\n",
       "  </thead>\n",
       "  <tbody>\n",
       "    <tr>\n",
       "      <th>0</th>\n",
       "      <td>39</td>\n",
       "      <td>State-gov</td>\n",
       "      <td>77516.0</td>\n",
       "      <td>Bachelors</td>\n",
       "      <td>13.0</td>\n",
       "      <td>1</td>\n",
       "      <td>Adm-clerical</td>\n",
       "      <td>White</td>\n",
       "      <td>1</td>\n",
       "      <td>2174.0</td>\n",
       "      <td>0.0</td>\n",
       "      <td>40.0</td>\n",
       "      <td>0</td>\n",
       "      <td>1</td>\n",
       "      <td>0</td>\n",
       "      <td>0</td>\n",
       "      <td>0</td>\n",
       "      <td>1</td>\n",
       "      <td>0</td>\n",
       "      <td>0</td>\n",
       "    </tr>\n",
       "    <tr>\n",
       "      <th>1</th>\n",
       "      <td>50</td>\n",
       "      <td>Self-emp-not-inc</td>\n",
       "      <td>83311.0</td>\n",
       "      <td>Bachelors</td>\n",
       "      <td>13.0</td>\n",
       "      <td>0</td>\n",
       "      <td>Exec-managerial</td>\n",
       "      <td>White</td>\n",
       "      <td>1</td>\n",
       "      <td>0.0</td>\n",
       "      <td>0.0</td>\n",
       "      <td>13.0</td>\n",
       "      <td>0</td>\n",
       "      <td>1</td>\n",
       "      <td>0</td>\n",
       "      <td>0</td>\n",
       "      <td>1</td>\n",
       "      <td>0</td>\n",
       "      <td>0</td>\n",
       "      <td>0</td>\n",
       "    </tr>\n",
       "    <tr>\n",
       "      <th>2</th>\n",
       "      <td>38</td>\n",
       "      <td>Private</td>\n",
       "      <td>215646.0</td>\n",
       "      <td>HS-grad</td>\n",
       "      <td>9.0</td>\n",
       "      <td>1</td>\n",
       "      <td>Handlers-cleaners</td>\n",
       "      <td>White</td>\n",
       "      <td>1</td>\n",
       "      <td>0.0</td>\n",
       "      <td>0.0</td>\n",
       "      <td>40.0</td>\n",
       "      <td>0</td>\n",
       "      <td>1</td>\n",
       "      <td>0</td>\n",
       "      <td>0</td>\n",
       "      <td>0</td>\n",
       "      <td>1</td>\n",
       "      <td>0</td>\n",
       "      <td>0</td>\n",
       "    </tr>\n",
       "    <tr>\n",
       "      <th>3</th>\n",
       "      <td>53</td>\n",
       "      <td>Private</td>\n",
       "      <td>234721.0</td>\n",
       "      <td>11th</td>\n",
       "      <td>7.0</td>\n",
       "      <td>0</td>\n",
       "      <td>Handlers-cleaners</td>\n",
       "      <td>Black</td>\n",
       "      <td>1</td>\n",
       "      <td>0.0</td>\n",
       "      <td>0.0</td>\n",
       "      <td>40.0</td>\n",
       "      <td>0</td>\n",
       "      <td>1</td>\n",
       "      <td>0</td>\n",
       "      <td>0</td>\n",
       "      <td>1</td>\n",
       "      <td>0</td>\n",
       "      <td>0</td>\n",
       "      <td>0</td>\n",
       "    </tr>\n",
       "    <tr>\n",
       "      <th>4</th>\n",
       "      <td>28</td>\n",
       "      <td>Private</td>\n",
       "      <td>338409.0</td>\n",
       "      <td>Bachelors</td>\n",
       "      <td>13.0</td>\n",
       "      <td>0</td>\n",
       "      <td>Prof-specialty</td>\n",
       "      <td>Black</td>\n",
       "      <td>0</td>\n",
       "      <td>0.0</td>\n",
       "      <td>0.0</td>\n",
       "      <td>40.0</td>\n",
       "      <td>1</td>\n",
       "      <td>1</td>\n",
       "      <td>0</td>\n",
       "      <td>1</td>\n",
       "      <td>0</td>\n",
       "      <td>0</td>\n",
       "      <td>0</td>\n",
       "      <td>0</td>\n",
       "    </tr>\n",
       "  </tbody>\n",
       "</table>\n",
       "</div>"
      ],
      "text/plain": [
       "   age          workclass    fnlwgt   education  education-num  \\\n",
       "0   39          State-gov   77516.0   Bachelors           13.0   \n",
       "1   50   Self-emp-not-inc   83311.0   Bachelors           13.0   \n",
       "2   38            Private  215646.0     HS-grad            9.0   \n",
       "3   53            Private  234721.0        11th            7.0   \n",
       "4   28            Private  338409.0   Bachelors           13.0   \n",
       "\n",
       "   marital-status          occupation    race  sex  capital-gain  \\\n",
       "0               1        Adm-clerical   White    1        2174.0   \n",
       "1               0     Exec-managerial   White    1           0.0   \n",
       "2               1   Handlers-cleaners   White    1           0.0   \n",
       "3               0   Handlers-cleaners   Black    1           0.0   \n",
       "4               0      Prof-specialty   Black    0           0.0   \n",
       "\n",
       "   capital-loss  hours-per-week  native-country  salary  relationship_0  \\\n",
       "0           0.0            40.0               0       1               0   \n",
       "1           0.0            13.0               0       1               0   \n",
       "2           0.0            40.0               0       1               0   \n",
       "3           0.0            40.0               0       1               0   \n",
       "4           0.0            40.0               1       1               0   \n",
       "\n",
       "   relationship_1  relationship_2  relationship_3  relationship_4  \\\n",
       "0               0               0               1               0   \n",
       "1               0               1               0               0   \n",
       "2               0               0               1               0   \n",
       "3               0               1               0               0   \n",
       "4               1               0               0               0   \n",
       "\n",
       "   relationship_5  \n",
       "0               0  \n",
       "1               0  \n",
       "2               0  \n",
       "3               0  \n",
       "4               0  "
      ]
     },
     "execution_count": 24,
     "metadata": {},
     "output_type": "execute_result"
    }
   ],
   "source": [
    "# Now convert relationship from integer to one-hot\n",
    "datav2 = pd.get_dummies(datav2, columns=['relationship'])\n",
    "datav2.head()"
   ]
  },
  {
   "cell_type": "markdown",
   "metadata": {},
   "source": [
    "##  Convert race to one-hot\n",
    "\n",
    "As we did for relationships, we know convert race representation to one-hot encoding"
   ]
  },
  {
   "cell_type": "code",
   "execution_count": 25,
   "metadata": {},
   "outputs": [
    {
     "data": {
      "text/html": [
       "<div>\n",
       "<style scoped>\n",
       "    .dataframe tbody tr th:only-of-type {\n",
       "        vertical-align: middle;\n",
       "    }\n",
       "\n",
       "    .dataframe tbody tr th {\n",
       "        vertical-align: top;\n",
       "    }\n",
       "\n",
       "    .dataframe thead th {\n",
       "        text-align: right;\n",
       "    }\n",
       "</style>\n",
       "<table border=\"1\" class=\"dataframe\">\n",
       "  <thead>\n",
       "    <tr style=\"text-align: right;\">\n",
       "      <th></th>\n",
       "      <th>age</th>\n",
       "      <th>workclass</th>\n",
       "      <th>fnlwgt</th>\n",
       "      <th>education</th>\n",
       "      <th>education-num</th>\n",
       "      <th>marital-status</th>\n",
       "      <th>occupation</th>\n",
       "      <th>sex</th>\n",
       "      <th>capital-gain</th>\n",
       "      <th>capital-loss</th>\n",
       "      <th>...</th>\n",
       "      <th>relationship_1</th>\n",
       "      <th>relationship_2</th>\n",
       "      <th>relationship_3</th>\n",
       "      <th>relationship_4</th>\n",
       "      <th>relationship_5</th>\n",
       "      <th>race_0</th>\n",
       "      <th>race_1</th>\n",
       "      <th>race_2</th>\n",
       "      <th>race_3</th>\n",
       "      <th>race_4</th>\n",
       "    </tr>\n",
       "  </thead>\n",
       "  <tbody>\n",
       "    <tr>\n",
       "      <th>0</th>\n",
       "      <td>39</td>\n",
       "      <td>State-gov</td>\n",
       "      <td>77516.0</td>\n",
       "      <td>Bachelors</td>\n",
       "      <td>13.0</td>\n",
       "      <td>1</td>\n",
       "      <td>Adm-clerical</td>\n",
       "      <td>1</td>\n",
       "      <td>2174.0</td>\n",
       "      <td>0.0</td>\n",
       "      <td>...</td>\n",
       "      <td>0</td>\n",
       "      <td>0</td>\n",
       "      <td>1</td>\n",
       "      <td>0</td>\n",
       "      <td>0</td>\n",
       "      <td>1</td>\n",
       "      <td>0</td>\n",
       "      <td>0</td>\n",
       "      <td>0</td>\n",
       "      <td>0</td>\n",
       "    </tr>\n",
       "    <tr>\n",
       "      <th>1</th>\n",
       "      <td>50</td>\n",
       "      <td>Self-emp-not-inc</td>\n",
       "      <td>83311.0</td>\n",
       "      <td>Bachelors</td>\n",
       "      <td>13.0</td>\n",
       "      <td>0</td>\n",
       "      <td>Exec-managerial</td>\n",
       "      <td>1</td>\n",
       "      <td>0.0</td>\n",
       "      <td>0.0</td>\n",
       "      <td>...</td>\n",
       "      <td>0</td>\n",
       "      <td>1</td>\n",
       "      <td>0</td>\n",
       "      <td>0</td>\n",
       "      <td>0</td>\n",
       "      <td>1</td>\n",
       "      <td>0</td>\n",
       "      <td>0</td>\n",
       "      <td>0</td>\n",
       "      <td>0</td>\n",
       "    </tr>\n",
       "    <tr>\n",
       "      <th>2</th>\n",
       "      <td>38</td>\n",
       "      <td>Private</td>\n",
       "      <td>215646.0</td>\n",
       "      <td>HS-grad</td>\n",
       "      <td>9.0</td>\n",
       "      <td>1</td>\n",
       "      <td>Handlers-cleaners</td>\n",
       "      <td>1</td>\n",
       "      <td>0.0</td>\n",
       "      <td>0.0</td>\n",
       "      <td>...</td>\n",
       "      <td>0</td>\n",
       "      <td>0</td>\n",
       "      <td>1</td>\n",
       "      <td>0</td>\n",
       "      <td>0</td>\n",
       "      <td>1</td>\n",
       "      <td>0</td>\n",
       "      <td>0</td>\n",
       "      <td>0</td>\n",
       "      <td>0</td>\n",
       "    </tr>\n",
       "    <tr>\n",
       "      <th>3</th>\n",
       "      <td>53</td>\n",
       "      <td>Private</td>\n",
       "      <td>234721.0</td>\n",
       "      <td>11th</td>\n",
       "      <td>7.0</td>\n",
       "      <td>0</td>\n",
       "      <td>Handlers-cleaners</td>\n",
       "      <td>1</td>\n",
       "      <td>0.0</td>\n",
       "      <td>0.0</td>\n",
       "      <td>...</td>\n",
       "      <td>0</td>\n",
       "      <td>1</td>\n",
       "      <td>0</td>\n",
       "      <td>0</td>\n",
       "      <td>0</td>\n",
       "      <td>0</td>\n",
       "      <td>0</td>\n",
       "      <td>0</td>\n",
       "      <td>1</td>\n",
       "      <td>0</td>\n",
       "    </tr>\n",
       "    <tr>\n",
       "      <th>4</th>\n",
       "      <td>28</td>\n",
       "      <td>Private</td>\n",
       "      <td>338409.0</td>\n",
       "      <td>Bachelors</td>\n",
       "      <td>13.0</td>\n",
       "      <td>0</td>\n",
       "      <td>Prof-specialty</td>\n",
       "      <td>0</td>\n",
       "      <td>0.0</td>\n",
       "      <td>0.0</td>\n",
       "      <td>...</td>\n",
       "      <td>1</td>\n",
       "      <td>0</td>\n",
       "      <td>0</td>\n",
       "      <td>0</td>\n",
       "      <td>0</td>\n",
       "      <td>0</td>\n",
       "      <td>0</td>\n",
       "      <td>0</td>\n",
       "      <td>1</td>\n",
       "      <td>0</td>\n",
       "    </tr>\n",
       "  </tbody>\n",
       "</table>\n",
       "<p>5 rows × 24 columns</p>\n",
       "</div>"
      ],
      "text/plain": [
       "   age          workclass    fnlwgt   education  education-num  \\\n",
       "0   39          State-gov   77516.0   Bachelors           13.0   \n",
       "1   50   Self-emp-not-inc   83311.0   Bachelors           13.0   \n",
       "2   38            Private  215646.0     HS-grad            9.0   \n",
       "3   53            Private  234721.0        11th            7.0   \n",
       "4   28            Private  338409.0   Bachelors           13.0   \n",
       "\n",
       "   marital-status          occupation  sex  capital-gain  capital-loss  ...  \\\n",
       "0               1        Adm-clerical    1        2174.0           0.0  ...   \n",
       "1               0     Exec-managerial    1           0.0           0.0  ...   \n",
       "2               1   Handlers-cleaners    1           0.0           0.0  ...   \n",
       "3               0   Handlers-cleaners    1           0.0           0.0  ...   \n",
       "4               0      Prof-specialty    0           0.0           0.0  ...   \n",
       "\n",
       "   relationship_1  relationship_2  relationship_3  relationship_4  \\\n",
       "0               0               0               1               0   \n",
       "1               0               1               0               0   \n",
       "2               0               0               1               0   \n",
       "3               0               1               0               0   \n",
       "4               1               0               0               0   \n",
       "\n",
       "   relationship_5  race_0  race_1  race_2  race_3  race_4  \n",
       "0               0       1       0       0       0       0  \n",
       "1               0       1       0       0       0       0  \n",
       "2               0       1       0       0       0       0  \n",
       "3               0       0       0       0       1       0  \n",
       "4               0       0       0       0       1       0  \n",
       "\n",
       "[5 rows x 24 columns]"
      ]
     },
     "execution_count": 25,
     "metadata": {},
     "output_type": "execute_result"
    }
   ],
   "source": [
    "# Convert to integers first\n",
    "race_map={' White':0,' Amer-Indian-Eskimo':1,' Asian-Pac-Islander':2,' Black':3,' Other':4}\n",
    "datav2['race']= datav2['race'].map(race_map)\n",
    "# Convert from integer to one_hot\n",
    "datav2 = pd.get_dummies(datav2, columns=['race'])\n",
    "datav2.head()"
   ]
  },
  {
   "cell_type": "markdown",
   "metadata": {},
   "source": [
    "# Transform workclass feature\n",
    "\n",
    "We first start by categorizing workclass as government, private or without pay"
   ]
  },
  {
   "cell_type": "code",
   "execution_count": 26,
   "metadata": {},
   "outputs": [
    {
     "data": {
      "text/html": [
       "<div>\n",
       "<style scoped>\n",
       "    .dataframe tbody tr th:only-of-type {\n",
       "        vertical-align: middle;\n",
       "    }\n",
       "\n",
       "    .dataframe tbody tr th {\n",
       "        vertical-align: top;\n",
       "    }\n",
       "\n",
       "    .dataframe thead th {\n",
       "        text-align: right;\n",
       "    }\n",
       "</style>\n",
       "<table border=\"1\" class=\"dataframe\">\n",
       "  <thead>\n",
       "    <tr style=\"text-align: right;\">\n",
       "      <th></th>\n",
       "      <th>age</th>\n",
       "      <th>fnlwgt</th>\n",
       "      <th>education</th>\n",
       "      <th>education-num</th>\n",
       "      <th>marital-status</th>\n",
       "      <th>occupation</th>\n",
       "      <th>sex</th>\n",
       "      <th>capital-gain</th>\n",
       "      <th>capital-loss</th>\n",
       "      <th>hours-per-week</th>\n",
       "      <th>...</th>\n",
       "      <th>relationship_5</th>\n",
       "      <th>race_0</th>\n",
       "      <th>race_1</th>\n",
       "      <th>race_2</th>\n",
       "      <th>race_3</th>\n",
       "      <th>race_4</th>\n",
       "      <th>workclass_0</th>\n",
       "      <th>workclass_1</th>\n",
       "      <th>workclass_2</th>\n",
       "      <th>workclass_3</th>\n",
       "    </tr>\n",
       "  </thead>\n",
       "  <tbody>\n",
       "    <tr>\n",
       "      <th>0</th>\n",
       "      <td>39</td>\n",
       "      <td>77516.0</td>\n",
       "      <td>Bachelors</td>\n",
       "      <td>13.0</td>\n",
       "      <td>1</td>\n",
       "      <td>Adm-clerical</td>\n",
       "      <td>1</td>\n",
       "      <td>2174.0</td>\n",
       "      <td>0.0</td>\n",
       "      <td>40.0</td>\n",
       "      <td>...</td>\n",
       "      <td>0</td>\n",
       "      <td>1</td>\n",
       "      <td>0</td>\n",
       "      <td>0</td>\n",
       "      <td>0</td>\n",
       "      <td>0</td>\n",
       "      <td>1</td>\n",
       "      <td>0</td>\n",
       "      <td>0</td>\n",
       "      <td>0</td>\n",
       "    </tr>\n",
       "    <tr>\n",
       "      <th>1</th>\n",
       "      <td>50</td>\n",
       "      <td>83311.0</td>\n",
       "      <td>Bachelors</td>\n",
       "      <td>13.0</td>\n",
       "      <td>0</td>\n",
       "      <td>Exec-managerial</td>\n",
       "      <td>1</td>\n",
       "      <td>0.0</td>\n",
       "      <td>0.0</td>\n",
       "      <td>13.0</td>\n",
       "      <td>...</td>\n",
       "      <td>0</td>\n",
       "      <td>1</td>\n",
       "      <td>0</td>\n",
       "      <td>0</td>\n",
       "      <td>0</td>\n",
       "      <td>0</td>\n",
       "      <td>0</td>\n",
       "      <td>0</td>\n",
       "      <td>1</td>\n",
       "      <td>0</td>\n",
       "    </tr>\n",
       "    <tr>\n",
       "      <th>2</th>\n",
       "      <td>38</td>\n",
       "      <td>215646.0</td>\n",
       "      <td>HS-grad</td>\n",
       "      <td>9.0</td>\n",
       "      <td>1</td>\n",
       "      <td>Handlers-cleaners</td>\n",
       "      <td>1</td>\n",
       "      <td>0.0</td>\n",
       "      <td>0.0</td>\n",
       "      <td>40.0</td>\n",
       "      <td>...</td>\n",
       "      <td>0</td>\n",
       "      <td>1</td>\n",
       "      <td>0</td>\n",
       "      <td>0</td>\n",
       "      <td>0</td>\n",
       "      <td>0</td>\n",
       "      <td>0</td>\n",
       "      <td>1</td>\n",
       "      <td>0</td>\n",
       "      <td>0</td>\n",
       "    </tr>\n",
       "    <tr>\n",
       "      <th>3</th>\n",
       "      <td>53</td>\n",
       "      <td>234721.0</td>\n",
       "      <td>11th</td>\n",
       "      <td>7.0</td>\n",
       "      <td>0</td>\n",
       "      <td>Handlers-cleaners</td>\n",
       "      <td>1</td>\n",
       "      <td>0.0</td>\n",
       "      <td>0.0</td>\n",
       "      <td>40.0</td>\n",
       "      <td>...</td>\n",
       "      <td>0</td>\n",
       "      <td>0</td>\n",
       "      <td>0</td>\n",
       "      <td>0</td>\n",
       "      <td>1</td>\n",
       "      <td>0</td>\n",
       "      <td>0</td>\n",
       "      <td>1</td>\n",
       "      <td>0</td>\n",
       "      <td>0</td>\n",
       "    </tr>\n",
       "    <tr>\n",
       "      <th>4</th>\n",
       "      <td>28</td>\n",
       "      <td>338409.0</td>\n",
       "      <td>Bachelors</td>\n",
       "      <td>13.0</td>\n",
       "      <td>0</td>\n",
       "      <td>Prof-specialty</td>\n",
       "      <td>0</td>\n",
       "      <td>0.0</td>\n",
       "      <td>0.0</td>\n",
       "      <td>40.0</td>\n",
       "      <td>...</td>\n",
       "      <td>0</td>\n",
       "      <td>0</td>\n",
       "      <td>0</td>\n",
       "      <td>0</td>\n",
       "      <td>1</td>\n",
       "      <td>0</td>\n",
       "      <td>0</td>\n",
       "      <td>1</td>\n",
       "      <td>0</td>\n",
       "      <td>0</td>\n",
       "    </tr>\n",
       "  </tbody>\n",
       "</table>\n",
       "<p>5 rows × 27 columns</p>\n",
       "</div>"
      ],
      "text/plain": [
       "   age    fnlwgt   education  education-num  marital-status  \\\n",
       "0   39   77516.0   Bachelors           13.0               1   \n",
       "1   50   83311.0   Bachelors           13.0               0   \n",
       "2   38  215646.0     HS-grad            9.0               1   \n",
       "3   53  234721.0        11th            7.0               0   \n",
       "4   28  338409.0   Bachelors           13.0               0   \n",
       "\n",
       "           occupation  sex  capital-gain  capital-loss  hours-per-week  ...  \\\n",
       "0        Adm-clerical    1        2174.0           0.0            40.0  ...   \n",
       "1     Exec-managerial    1           0.0           0.0            13.0  ...   \n",
       "2   Handlers-cleaners    1           0.0           0.0            40.0  ...   \n",
       "3   Handlers-cleaners    1           0.0           0.0            40.0  ...   \n",
       "4      Prof-specialty    0           0.0           0.0            40.0  ...   \n",
       "\n",
       "   relationship_5  race_0  race_1  race_2  race_3  race_4  workclass_0  \\\n",
       "0               0       1       0       0       0       0            1   \n",
       "1               0       1       0       0       0       0            0   \n",
       "2               0       1       0       0       0       0            0   \n",
       "3               0       0       0       0       1       0            0   \n",
       "4               0       0       0       0       1       0            0   \n",
       "\n",
       "   workclass_1  workclass_2  workclass_3  \n",
       "0            0            0            0  \n",
       "1            0            1            0  \n",
       "2            1            0            0  \n",
       "3            1            0            0  \n",
       "4            1            0            0  \n",
       "\n",
       "[5 rows x 27 columns]"
      ]
     },
     "execution_count": 26,
     "metadata": {},
     "output_type": "execute_result"
    }
   ],
   "source": [
    "def group_workclass(x):\n",
    "    if x['workclass'] == ' Federal-gov' or x['workclass']== ' Local-gov' or x['workclass']==' State-gov': return 'govt'\n",
    "    elif x['workclass'] == ' Private':return 'private'\n",
    "    elif x['workclass'] == ' Self-emp-inc' or x['workclass'] == ' Self-emp-not-inc': return 'self_employed'\n",
    "    else: return 'without_pay'\n",
    "    \n",
    "datav2['workclass']=datav2.apply(group_workclass, axis=1)\n",
    "\n",
    "datav2['workclass'] = datav2['workclass'].map({'govt':0,'private':1,'self_employed':2,'without_pay':3})\n",
    "datav2 = pd.get_dummies(datav2, columns=['workclass'])\n",
    "datav2.head()"
   ]
  },
  {
   "cell_type": "markdown",
   "metadata": {},
   "source": [
    "# Convert occupation to one-hot"
   ]
  },
  {
   "cell_type": "code",
   "execution_count": 27,
   "metadata": {},
   "outputs": [
    {
     "data": {
      "text/html": [
       "<div>\n",
       "<style scoped>\n",
       "    .dataframe tbody tr th:only-of-type {\n",
       "        vertical-align: middle;\n",
       "    }\n",
       "\n",
       "    .dataframe tbody tr th {\n",
       "        vertical-align: top;\n",
       "    }\n",
       "\n",
       "    .dataframe thead th {\n",
       "        text-align: right;\n",
       "    }\n",
       "</style>\n",
       "<table border=\"1\" class=\"dataframe\">\n",
       "  <thead>\n",
       "    <tr style=\"text-align: right;\">\n",
       "      <th></th>\n",
       "      <th>age</th>\n",
       "      <th>fnlwgt</th>\n",
       "      <th>education</th>\n",
       "      <th>education-num</th>\n",
       "      <th>marital-status</th>\n",
       "      <th>sex</th>\n",
       "      <th>capital-gain</th>\n",
       "      <th>capital-loss</th>\n",
       "      <th>hours-per-week</th>\n",
       "      <th>native-country</th>\n",
       "      <th>...</th>\n",
       "      <th>occupation_4</th>\n",
       "      <th>occupation_5</th>\n",
       "      <th>occupation_6</th>\n",
       "      <th>occupation_7</th>\n",
       "      <th>occupation_8</th>\n",
       "      <th>occupation_9</th>\n",
       "      <th>occupation_10</th>\n",
       "      <th>occupation_11</th>\n",
       "      <th>occupation_12</th>\n",
       "      <th>occupation_13</th>\n",
       "    </tr>\n",
       "  </thead>\n",
       "  <tbody>\n",
       "    <tr>\n",
       "      <th>0</th>\n",
       "      <td>39</td>\n",
       "      <td>77516.0</td>\n",
       "      <td>Bachelors</td>\n",
       "      <td>13.0</td>\n",
       "      <td>1</td>\n",
       "      <td>1</td>\n",
       "      <td>2174.0</td>\n",
       "      <td>0.0</td>\n",
       "      <td>40.0</td>\n",
       "      <td>0</td>\n",
       "      <td>...</td>\n",
       "      <td>0</td>\n",
       "      <td>0</td>\n",
       "      <td>0</td>\n",
       "      <td>0</td>\n",
       "      <td>0</td>\n",
       "      <td>0</td>\n",
       "      <td>0</td>\n",
       "      <td>0</td>\n",
       "      <td>0</td>\n",
       "      <td>0</td>\n",
       "    </tr>\n",
       "    <tr>\n",
       "      <th>1</th>\n",
       "      <td>50</td>\n",
       "      <td>83311.0</td>\n",
       "      <td>Bachelors</td>\n",
       "      <td>13.0</td>\n",
       "      <td>0</td>\n",
       "      <td>1</td>\n",
       "      <td>0.0</td>\n",
       "      <td>0.0</td>\n",
       "      <td>13.0</td>\n",
       "      <td>0</td>\n",
       "      <td>...</td>\n",
       "      <td>0</td>\n",
       "      <td>0</td>\n",
       "      <td>0</td>\n",
       "      <td>0</td>\n",
       "      <td>0</td>\n",
       "      <td>0</td>\n",
       "      <td>0</td>\n",
       "      <td>0</td>\n",
       "      <td>0</td>\n",
       "      <td>0</td>\n",
       "    </tr>\n",
       "    <tr>\n",
       "      <th>2</th>\n",
       "      <td>38</td>\n",
       "      <td>215646.0</td>\n",
       "      <td>HS-grad</td>\n",
       "      <td>9.0</td>\n",
       "      <td>1</td>\n",
       "      <td>1</td>\n",
       "      <td>0.0</td>\n",
       "      <td>0.0</td>\n",
       "      <td>40.0</td>\n",
       "      <td>0</td>\n",
       "      <td>...</td>\n",
       "      <td>0</td>\n",
       "      <td>0</td>\n",
       "      <td>0</td>\n",
       "      <td>0</td>\n",
       "      <td>0</td>\n",
       "      <td>0</td>\n",
       "      <td>0</td>\n",
       "      <td>0</td>\n",
       "      <td>0</td>\n",
       "      <td>0</td>\n",
       "    </tr>\n",
       "    <tr>\n",
       "      <th>3</th>\n",
       "      <td>53</td>\n",
       "      <td>234721.0</td>\n",
       "      <td>11th</td>\n",
       "      <td>7.0</td>\n",
       "      <td>0</td>\n",
       "      <td>1</td>\n",
       "      <td>0.0</td>\n",
       "      <td>0.0</td>\n",
       "      <td>40.0</td>\n",
       "      <td>0</td>\n",
       "      <td>...</td>\n",
       "      <td>0</td>\n",
       "      <td>0</td>\n",
       "      <td>0</td>\n",
       "      <td>0</td>\n",
       "      <td>0</td>\n",
       "      <td>0</td>\n",
       "      <td>0</td>\n",
       "      <td>0</td>\n",
       "      <td>0</td>\n",
       "      <td>0</td>\n",
       "    </tr>\n",
       "    <tr>\n",
       "      <th>4</th>\n",
       "      <td>28</td>\n",
       "      <td>338409.0</td>\n",
       "      <td>Bachelors</td>\n",
       "      <td>13.0</td>\n",
       "      <td>0</td>\n",
       "      <td>0</td>\n",
       "      <td>0.0</td>\n",
       "      <td>0.0</td>\n",
       "      <td>40.0</td>\n",
       "      <td>1</td>\n",
       "      <td>...</td>\n",
       "      <td>0</td>\n",
       "      <td>0</td>\n",
       "      <td>0</td>\n",
       "      <td>0</td>\n",
       "      <td>0</td>\n",
       "      <td>0</td>\n",
       "      <td>0</td>\n",
       "      <td>0</td>\n",
       "      <td>0</td>\n",
       "      <td>0</td>\n",
       "    </tr>\n",
       "  </tbody>\n",
       "</table>\n",
       "<p>5 rows × 40 columns</p>\n",
       "</div>"
      ],
      "text/plain": [
       "   age    fnlwgt   education  education-num  marital-status  sex  \\\n",
       "0   39   77516.0   Bachelors           13.0               1    1   \n",
       "1   50   83311.0   Bachelors           13.0               0    1   \n",
       "2   38  215646.0     HS-grad            9.0               1    1   \n",
       "3   53  234721.0        11th            7.0               0    1   \n",
       "4   28  338409.0   Bachelors           13.0               0    0   \n",
       "\n",
       "   capital-gain  capital-loss  hours-per-week  native-country  ...  \\\n",
       "0        2174.0           0.0            40.0               0  ...   \n",
       "1           0.0           0.0            13.0               0  ...   \n",
       "2           0.0           0.0            40.0               0  ...   \n",
       "3           0.0           0.0            40.0               0  ...   \n",
       "4           0.0           0.0            40.0               1  ...   \n",
       "\n",
       "   occupation_4  occupation_5  occupation_6  occupation_7  occupation_8  \\\n",
       "0             0             0             0             0             0   \n",
       "1             0             0             0             0             0   \n",
       "2             0             0             0             0             0   \n",
       "3             0             0             0             0             0   \n",
       "4             0             0             0             0             0   \n",
       "\n",
       "   occupation_9  occupation_10  occupation_11  occupation_12  occupation_13  \n",
       "0             0              0              0              0              0  \n",
       "1             0              0              0              0              0  \n",
       "2             0              0              0              0              0  \n",
       "3             0              0              0              0              0  \n",
       "4             0              0              0              0              0  \n",
       "\n",
       "[5 rows x 40 columns]"
      ]
     },
     "execution_count": 27,
     "metadata": {},
     "output_type": "execute_result"
    }
   ],
   "source": [
    "occupation_map = dict((value, key) for (key, value) in enumerate(datav2.occupation.unique()))\n",
    "datav2['occupation'] = datav2['occupation'].map(occupation_map)\n",
    "datav2 = pd.get_dummies(datav2, columns=['occupation'])\n",
    "datav2.head()"
   ]
  },
  {
   "cell_type": "markdown",
   "metadata": {},
   "source": [
    "##  Convert capita-gain and capital-loss to categorical"
   ]
  },
  {
   "cell_type": "code",
   "execution_count": 28,
   "metadata": {},
   "outputs": [
    {
     "data": {
      "image/png": "[encoded data removed]",
      "text/plain": [
       "<Figure size 432x288 with 1 Axes>"
      ]
     },
     "metadata": {
      "needs_background": "light"
     },
     "output_type": "display_data"
    }
   ],
   "source": [
    "capital_gain, capital_loss, =datav2['capital-gain'], datav2['capital-loss']\n",
    "plt.hist(capital_gain,bins=None,normed=None)\n",
    "plt.show()"
   ]
  },
  {
   "cell_type": "code",
   "execution_count": 29,
   "metadata": {},
   "outputs": [
    {
     "data": {
      "text/html": [
       "<div>\n",
       "<style scoped>\n",
       "    .dataframe tbody tr th:only-of-type {\n",
       "        vertical-align: middle;\n",
       "    }\n",
       "\n",
       "    .dataframe tbody tr th {\n",
       "        vertical-align: top;\n",
       "    }\n",
       "\n",
       "    .dataframe thead th {\n",
       "        text-align: right;\n",
       "    }\n",
       "</style>\n",
       "<table border=\"1\" class=\"dataframe\">\n",
       "  <thead>\n",
       "    <tr style=\"text-align: right;\">\n",
       "      <th></th>\n",
       "      <th>age</th>\n",
       "      <th>fnlwgt</th>\n",
       "      <th>education</th>\n",
       "      <th>education-num</th>\n",
       "      <th>marital-status</th>\n",
       "      <th>sex</th>\n",
       "      <th>capital-gain</th>\n",
       "      <th>capital-loss</th>\n",
       "      <th>hours-per-week</th>\n",
       "      <th>native-country</th>\n",
       "      <th>...</th>\n",
       "      <th>occupation_4</th>\n",
       "      <th>occupation_5</th>\n",
       "      <th>occupation_6</th>\n",
       "      <th>occupation_7</th>\n",
       "      <th>occupation_8</th>\n",
       "      <th>occupation_9</th>\n",
       "      <th>occupation_10</th>\n",
       "      <th>occupation_11</th>\n",
       "      <th>occupation_12</th>\n",
       "      <th>occupation_13</th>\n",
       "    </tr>\n",
       "  </thead>\n",
       "  <tbody>\n",
       "    <tr>\n",
       "      <th>0</th>\n",
       "      <td>39</td>\n",
       "      <td>77516.0</td>\n",
       "      <td>Bachelors</td>\n",
       "      <td>13.0</td>\n",
       "      <td>1</td>\n",
       "      <td>1</td>\n",
       "      <td>1.0</td>\n",
       "      <td>0.0</td>\n",
       "      <td>40.0</td>\n",
       "      <td>0</td>\n",
       "      <td>...</td>\n",
       "      <td>0</td>\n",
       "      <td>0</td>\n",
       "      <td>0</td>\n",
       "      <td>0</td>\n",
       "      <td>0</td>\n",
       "      <td>0</td>\n",
       "      <td>0</td>\n",
       "      <td>0</td>\n",
       "      <td>0</td>\n",
       "      <td>0</td>\n",
       "    </tr>\n",
       "    <tr>\n",
       "      <th>1</th>\n",
       "      <td>50</td>\n",
       "      <td>83311.0</td>\n",
       "      <td>Bachelors</td>\n",
       "      <td>13.0</td>\n",
       "      <td>0</td>\n",
       "      <td>1</td>\n",
       "      <td>0.0</td>\n",
       "      <td>0.0</td>\n",
       "      <td>13.0</td>\n",
       "      <td>0</td>\n",
       "      <td>...</td>\n",
       "      <td>0</td>\n",
       "      <td>0</td>\n",
       "      <td>0</td>\n",
       "      <td>0</td>\n",
       "      <td>0</td>\n",
       "      <td>0</td>\n",
       "      <td>0</td>\n",
       "      <td>0</td>\n",
       "      <td>0</td>\n",
       "      <td>0</td>\n",
       "    </tr>\n",
       "    <tr>\n",
       "      <th>2</th>\n",
       "      <td>38</td>\n",
       "      <td>215646.0</td>\n",
       "      <td>HS-grad</td>\n",
       "      <td>9.0</td>\n",
       "      <td>1</td>\n",
       "      <td>1</td>\n",
       "      <td>0.0</td>\n",
       "      <td>0.0</td>\n",
       "      <td>40.0</td>\n",
       "      <td>0</td>\n",
       "      <td>...</td>\n",
       "      <td>0</td>\n",
       "      <td>0</td>\n",
       "      <td>0</td>\n",
       "      <td>0</td>\n",
       "      <td>0</td>\n",
       "      <td>0</td>\n",
       "      <td>0</td>\n",
       "      <td>0</td>\n",
       "      <td>0</td>\n",
       "      <td>0</td>\n",
       "    </tr>\n",
       "    <tr>\n",
       "      <th>3</th>\n",
       "      <td>53</td>\n",
       "      <td>234721.0</td>\n",
       "      <td>11th</td>\n",
       "      <td>7.0</td>\n",
       "      <td>0</td>\n",
       "      <td>1</td>\n",
       "      <td>0.0</td>\n",
       "      <td>0.0</td>\n",
       "      <td>40.0</td>\n",
       "      <td>0</td>\n",
       "      <td>...</td>\n",
       "      <td>0</td>\n",
       "      <td>0</td>\n",
       "      <td>0</td>\n",
       "      <td>0</td>\n",
       "      <td>0</td>\n",
       "      <td>0</td>\n",
       "      <td>0</td>\n",
       "      <td>0</td>\n",
       "      <td>0</td>\n",
       "      <td>0</td>\n",
       "    </tr>\n",
       "    <tr>\n",
       "      <th>4</th>\n",
       "      <td>28</td>\n",
       "      <td>338409.0</td>\n",
       "      <td>Bachelors</td>\n",
       "      <td>13.0</td>\n",
       "      <td>0</td>\n",
       "      <td>0</td>\n",
       "      <td>0.0</td>\n",
       "      <td>0.0</td>\n",
       "      <td>40.0</td>\n",
       "      <td>1</td>\n",
       "      <td>...</td>\n",
       "      <td>0</td>\n",
       "      <td>0</td>\n",
       "      <td>0</td>\n",
       "      <td>0</td>\n",
       "      <td>0</td>\n",
       "      <td>0</td>\n",
       "      <td>0</td>\n",
       "      <td>0</td>\n",
       "      <td>0</td>\n",
       "      <td>0</td>\n",
       "    </tr>\n",
       "  </tbody>\n",
       "</table>\n",
       "<p>5 rows × 40 columns</p>\n",
       "</div>"
      ],
      "text/plain": [
       "   age    fnlwgt   education  education-num  marital-status  sex  \\\n",
       "0   39   77516.0   Bachelors           13.0               1    1   \n",
       "1   50   83311.0   Bachelors           13.0               0    1   \n",
       "2   38  215646.0     HS-grad            9.0               1    1   \n",
       "3   53  234721.0        11th            7.0               0    1   \n",
       "4   28  338409.0   Bachelors           13.0               0    0   \n",
       "\n",
       "   capital-gain  capital-loss  hours-per-week  native-country  ...  \\\n",
       "0           1.0           0.0            40.0               0  ...   \n",
       "1           0.0           0.0            13.0               0  ...   \n",
       "2           0.0           0.0            40.0               0  ...   \n",
       "3           0.0           0.0            40.0               0  ...   \n",
       "4           0.0           0.0            40.0               1  ...   \n",
       "\n",
       "   occupation_4  occupation_5  occupation_6  occupation_7  occupation_8  \\\n",
       "0             0             0             0             0             0   \n",
       "1             0             0             0             0             0   \n",
       "2             0             0             0             0             0   \n",
       "3             0             0             0             0             0   \n",
       "4             0             0             0             0             0   \n",
       "\n",
       "   occupation_9  occupation_10  occupation_11  occupation_12  occupation_13  \n",
       "0             0              0              0              0              0  \n",
       "1             0              0              0              0              0  \n",
       "2             0              0              0              0              0  \n",
       "3             0              0              0              0              0  \n",
       "4             0              0              0              0              0  \n",
       "\n",
       "[5 rows x 40 columns]"
      ]
     },
     "execution_count": 29,
     "metadata": {},
     "output_type": "execute_result"
    }
   ],
   "source": [
    "datav2.loc[(datav2['capital-gain'] > 0),'capital-gain'] = 1\n",
    "datav2.loc[(datav2['capital-gain'] == 0 ,'capital-gain')]= 0\n",
    "datav2.head()"
   ]
  },
  {
   "cell_type": "code",
   "execution_count": 30,
   "metadata": {},
   "outputs": [
    {
     "data": {
      "image/png": "[encoded data removed]",
      "text/plain": [
       "<Figure size 432x288 with 1 Axes>"
      ]
     },
     "metadata": {
      "needs_background": "light"
     },
     "output_type": "display_data"
    }
   ],
   "source": [
    "x=datav2['capital-loss']\n",
    "plt.hist(x,bins=None)\n",
    "plt.show()"
   ]
  },
  {
   "cell_type": "code",
   "execution_count": 31,
   "metadata": {},
   "outputs": [
    {
     "data": {
      "text/html": [
       "<div>\n",
       "<style scoped>\n",
       "    .dataframe tbody tr th:only-of-type {\n",
       "        vertical-align: middle;\n",
       "    }\n",
       "\n",
       "    .dataframe tbody tr th {\n",
       "        vertical-align: top;\n",
       "    }\n",
       "\n",
       "    .dataframe thead th {\n",
       "        text-align: right;\n",
       "    }\n",
       "</style>\n",
       "<table border=\"1\" class=\"dataframe\">\n",
       "  <thead>\n",
       "    <tr style=\"text-align: right;\">\n",
       "      <th></th>\n",
       "      <th>age</th>\n",
       "      <th>fnlwgt</th>\n",
       "      <th>education</th>\n",
       "      <th>education-num</th>\n",
       "      <th>marital-status</th>\n",
       "      <th>sex</th>\n",
       "      <th>capital-gain</th>\n",
       "      <th>capital-loss</th>\n",
       "      <th>hours-per-week</th>\n",
       "      <th>native-country</th>\n",
       "      <th>...</th>\n",
       "      <th>occupation_4</th>\n",
       "      <th>occupation_5</th>\n",
       "      <th>occupation_6</th>\n",
       "      <th>occupation_7</th>\n",
       "      <th>occupation_8</th>\n",
       "      <th>occupation_9</th>\n",
       "      <th>occupation_10</th>\n",
       "      <th>occupation_11</th>\n",
       "      <th>occupation_12</th>\n",
       "      <th>occupation_13</th>\n",
       "    </tr>\n",
       "  </thead>\n",
       "  <tbody>\n",
       "    <tr>\n",
       "      <th>0</th>\n",
       "      <td>39</td>\n",
       "      <td>77516.0</td>\n",
       "      <td>Bachelors</td>\n",
       "      <td>13.0</td>\n",
       "      <td>1</td>\n",
       "      <td>1</td>\n",
       "      <td>1.0</td>\n",
       "      <td>0.0</td>\n",
       "      <td>40.0</td>\n",
       "      <td>0</td>\n",
       "      <td>...</td>\n",
       "      <td>0</td>\n",
       "      <td>0</td>\n",
       "      <td>0</td>\n",
       "      <td>0</td>\n",
       "      <td>0</td>\n",
       "      <td>0</td>\n",
       "      <td>0</td>\n",
       "      <td>0</td>\n",
       "      <td>0</td>\n",
       "      <td>0</td>\n",
       "    </tr>\n",
       "    <tr>\n",
       "      <th>1</th>\n",
       "      <td>50</td>\n",
       "      <td>83311.0</td>\n",
       "      <td>Bachelors</td>\n",
       "      <td>13.0</td>\n",
       "      <td>0</td>\n",
       "      <td>1</td>\n",
       "      <td>0.0</td>\n",
       "      <td>0.0</td>\n",
       "      <td>13.0</td>\n",
       "      <td>0</td>\n",
       "      <td>...</td>\n",
       "      <td>0</td>\n",
       "      <td>0</td>\n",
       "      <td>0</td>\n",
       "      <td>0</td>\n",
       "      <td>0</td>\n",
       "      <td>0</td>\n",
       "      <td>0</td>\n",
       "      <td>0</td>\n",
       "      <td>0</td>\n",
       "      <td>0</td>\n",
       "    </tr>\n",
       "    <tr>\n",
       "      <th>2</th>\n",
       "      <td>38</td>\n",
       "      <td>215646.0</td>\n",
       "      <td>HS-grad</td>\n",
       "      <td>9.0</td>\n",
       "      <td>1</td>\n",
       "      <td>1</td>\n",
       "      <td>0.0</td>\n",
       "      <td>0.0</td>\n",
       "      <td>40.0</td>\n",
       "      <td>0</td>\n",
       "      <td>...</td>\n",
       "      <td>0</td>\n",
       "      <td>0</td>\n",
       "      <td>0</td>\n",
       "      <td>0</td>\n",
       "      <td>0</td>\n",
       "      <td>0</td>\n",
       "      <td>0</td>\n",
       "      <td>0</td>\n",
       "      <td>0</td>\n",
       "      <td>0</td>\n",
       "    </tr>\n",
       "    <tr>\n",
       "      <th>3</th>\n",
       "      <td>53</td>\n",
       "      <td>234721.0</td>\n",
       "      <td>11th</td>\n",
       "      <td>7.0</td>\n",
       "      <td>0</td>\n",
       "      <td>1</td>\n",
       "      <td>0.0</td>\n",
       "      <td>0.0</td>\n",
       "      <td>40.0</td>\n",
       "      <td>0</td>\n",
       "      <td>...</td>\n",
       "      <td>0</td>\n",
       "      <td>0</td>\n",
       "      <td>0</td>\n",
       "      <td>0</td>\n",
       "      <td>0</td>\n",
       "      <td>0</td>\n",
       "      <td>0</td>\n",
       "      <td>0</td>\n",
       "      <td>0</td>\n",
       "      <td>0</td>\n",
       "    </tr>\n",
       "    <tr>\n",
       "      <th>4</th>\n",
       "      <td>28</td>\n",
       "      <td>338409.0</td>\n",
       "      <td>Bachelors</td>\n",
       "      <td>13.0</td>\n",
       "      <td>0</td>\n",
       "      <td>0</td>\n",
       "      <td>0.0</td>\n",
       "      <td>0.0</td>\n",
       "      <td>40.0</td>\n",
       "      <td>1</td>\n",
       "      <td>...</td>\n",
       "      <td>0</td>\n",
       "      <td>0</td>\n",
       "      <td>0</td>\n",
       "      <td>0</td>\n",
       "      <td>0</td>\n",
       "      <td>0</td>\n",
       "      <td>0</td>\n",
       "      <td>0</td>\n",
       "      <td>0</td>\n",
       "      <td>0</td>\n",
       "    </tr>\n",
       "  </tbody>\n",
       "</table>\n",
       "<p>5 rows × 40 columns</p>\n",
       "</div>"
      ],
      "text/plain": [
       "   age    fnlwgt   education  education-num  marital-status  sex  \\\n",
       "0   39   77516.0   Bachelors           13.0               1    1   \n",
       "1   50   83311.0   Bachelors           13.0               0    1   \n",
       "2   38  215646.0     HS-grad            9.0               1    1   \n",
       "3   53  234721.0        11th            7.0               0    1   \n",
       "4   28  338409.0   Bachelors           13.0               0    0   \n",
       "\n",
       "   capital-gain  capital-loss  hours-per-week  native-country  ...  \\\n",
       "0           1.0           0.0            40.0               0  ...   \n",
       "1           0.0           0.0            13.0               0  ...   \n",
       "2           0.0           0.0            40.0               0  ...   \n",
       "3           0.0           0.0            40.0               0  ...   \n",
       "4           0.0           0.0            40.0               1  ...   \n",
       "\n",
       "   occupation_4  occupation_5  occupation_6  occupation_7  occupation_8  \\\n",
       "0             0             0             0             0             0   \n",
       "1             0             0             0             0             0   \n",
       "2             0             0             0             0             0   \n",
       "3             0             0             0             0             0   \n",
       "4             0             0             0             0             0   \n",
       "\n",
       "   occupation_9  occupation_10  occupation_11  occupation_12  occupation_13  \n",
       "0             0              0              0              0              0  \n",
       "1             0              0              0              0              0  \n",
       "2             0              0              0              0              0  \n",
       "3             0              0              0              0              0  \n",
       "4             0              0              0              0              0  \n",
       "\n",
       "[5 rows x 40 columns]"
      ]
     },
     "execution_count": 31,
     "metadata": {},
     "output_type": "execute_result"
    }
   ],
   "source": [
    "datav2.loc[(datav2['capital-loss'] > 0),'capital-loss'] = 1\n",
    "datav2.loc[(datav2['capital-loss'] == 0 ,'capital-loss')]= 0\n",
    "datav2.head()"
   ]
  },
  {
   "cell_type": "markdown",
   "metadata": {},
   "source": [
    "# III. Predicting individual's income"
   ]
  },
  {
   "cell_type": "code",
   "execution_count": 32,
   "metadata": {},
   "outputs": [
    {
     "data": {
      "text/html": [
       "<div>\n",
       "<style scoped>\n",
       "    .dataframe tbody tr th:only-of-type {\n",
       "        vertical-align: middle;\n",
       "    }\n",
       "\n",
       "    .dataframe tbody tr th {\n",
       "        vertical-align: top;\n",
       "    }\n",
       "\n",
       "    .dataframe thead th {\n",
       "        text-align: right;\n",
       "    }\n",
       "</style>\n",
       "<table border=\"1\" class=\"dataframe\">\n",
       "  <thead>\n",
       "    <tr style=\"text-align: right;\">\n",
       "      <th></th>\n",
       "      <th>age</th>\n",
       "      <th>fnlwgt</th>\n",
       "      <th>education</th>\n",
       "      <th>education-num</th>\n",
       "      <th>marital-status</th>\n",
       "      <th>sex</th>\n",
       "      <th>capital-gain</th>\n",
       "      <th>capital-loss</th>\n",
       "      <th>hours-per-week</th>\n",
       "      <th>native-country</th>\n",
       "      <th>...</th>\n",
       "      <th>occupation_4</th>\n",
       "      <th>occupation_5</th>\n",
       "      <th>occupation_6</th>\n",
       "      <th>occupation_7</th>\n",
       "      <th>occupation_8</th>\n",
       "      <th>occupation_9</th>\n",
       "      <th>occupation_10</th>\n",
       "      <th>occupation_11</th>\n",
       "      <th>occupation_12</th>\n",
       "      <th>occupation_13</th>\n",
       "    </tr>\n",
       "  </thead>\n",
       "  <tbody>\n",
       "    <tr>\n",
       "      <th>0</th>\n",
       "      <td>0.034201</td>\n",
       "      <td>-1.062295</td>\n",
       "      <td>Bachelors</td>\n",
       "      <td>1.128753</td>\n",
       "      <td>1</td>\n",
       "      <td>1</td>\n",
       "      <td>1.0</td>\n",
       "      <td>0.0</td>\n",
       "      <td>-0.078120</td>\n",
       "      <td>0</td>\n",
       "      <td>...</td>\n",
       "      <td>0</td>\n",
       "      <td>0</td>\n",
       "      <td>0</td>\n",
       "      <td>0</td>\n",
       "      <td>0</td>\n",
       "      <td>0</td>\n",
       "      <td>0</td>\n",
       "      <td>0</td>\n",
       "      <td>0</td>\n",
       "      <td>0</td>\n",
       "    </tr>\n",
       "    <tr>\n",
       "      <th>1</th>\n",
       "      <td>0.866417</td>\n",
       "      <td>-1.007438</td>\n",
       "      <td>Bachelors</td>\n",
       "      <td>1.128753</td>\n",
       "      <td>0</td>\n",
       "      <td>1</td>\n",
       "      <td>0.0</td>\n",
       "      <td>0.0</td>\n",
       "      <td>-2.326738</td>\n",
       "      <td>0</td>\n",
       "      <td>...</td>\n",
       "      <td>0</td>\n",
       "      <td>0</td>\n",
       "      <td>0</td>\n",
       "      <td>0</td>\n",
       "      <td>0</td>\n",
       "      <td>0</td>\n",
       "      <td>0</td>\n",
       "      <td>0</td>\n",
       "      <td>0</td>\n",
       "      <td>0</td>\n",
       "    </tr>\n",
       "    <tr>\n",
       "      <th>2</th>\n",
       "      <td>-0.041455</td>\n",
       "      <td>0.245284</td>\n",
       "      <td>HS-grad</td>\n",
       "      <td>-0.438122</td>\n",
       "      <td>1</td>\n",
       "      <td>1</td>\n",
       "      <td>0.0</td>\n",
       "      <td>0.0</td>\n",
       "      <td>-0.078120</td>\n",
       "      <td>0</td>\n",
       "      <td>...</td>\n",
       "      <td>0</td>\n",
       "      <td>0</td>\n",
       "      <td>0</td>\n",
       "      <td>0</td>\n",
       "      <td>0</td>\n",
       "      <td>0</td>\n",
       "      <td>0</td>\n",
       "      <td>0</td>\n",
       "      <td>0</td>\n",
       "      <td>0</td>\n",
       "    </tr>\n",
       "    <tr>\n",
       "      <th>3</th>\n",
       "      <td>1.093385</td>\n",
       "      <td>0.425853</td>\n",
       "      <td>11th</td>\n",
       "      <td>-1.221559</td>\n",
       "      <td>0</td>\n",
       "      <td>1</td>\n",
       "      <td>0.0</td>\n",
       "      <td>0.0</td>\n",
       "      <td>-0.078120</td>\n",
       "      <td>0</td>\n",
       "      <td>...</td>\n",
       "      <td>0</td>\n",
       "      <td>0</td>\n",
       "      <td>0</td>\n",
       "      <td>0</td>\n",
       "      <td>0</td>\n",
       "      <td>0</td>\n",
       "      <td>0</td>\n",
       "      <td>0</td>\n",
       "      <td>0</td>\n",
       "      <td>0</td>\n",
       "    </tr>\n",
       "    <tr>\n",
       "      <th>4</th>\n",
       "      <td>-0.798015</td>\n",
       "      <td>1.407393</td>\n",
       "      <td>Bachelors</td>\n",
       "      <td>1.128753</td>\n",
       "      <td>0</td>\n",
       "      <td>0</td>\n",
       "      <td>0.0</td>\n",
       "      <td>0.0</td>\n",
       "      <td>-0.078120</td>\n",
       "      <td>1</td>\n",
       "      <td>...</td>\n",
       "      <td>0</td>\n",
       "      <td>0</td>\n",
       "      <td>0</td>\n",
       "      <td>0</td>\n",
       "      <td>0</td>\n",
       "      <td>0</td>\n",
       "      <td>0</td>\n",
       "      <td>0</td>\n",
       "      <td>0</td>\n",
       "      <td>0</td>\n",
       "    </tr>\n",
       "  </tbody>\n",
       "</table>\n",
       "<p>5 rows × 40 columns</p>\n",
       "</div>"
      ],
      "text/plain": [
       "        age    fnlwgt   education  education-num  marital-status  sex  \\\n",
       "0  0.034201 -1.062295   Bachelors       1.128753               1    1   \n",
       "1  0.866417 -1.007438   Bachelors       1.128753               0    1   \n",
       "2 -0.041455  0.245284     HS-grad      -0.438122               1    1   \n",
       "3  1.093385  0.425853        11th      -1.221559               0    1   \n",
       "4 -0.798015  1.407393   Bachelors       1.128753               0    0   \n",
       "\n",
       "   capital-gain  capital-loss  hours-per-week  native-country  ...  \\\n",
       "0           1.0           0.0       -0.078120               0  ...   \n",
       "1           0.0           0.0       -2.326738               0  ...   \n",
       "2           0.0           0.0       -0.078120               0  ...   \n",
       "3           0.0           0.0       -0.078120               0  ...   \n",
       "4           0.0           0.0       -0.078120               1  ...   \n",
       "\n",
       "   occupation_4  occupation_5  occupation_6  occupation_7  occupation_8  \\\n",
       "0             0             0             0             0             0   \n",
       "1             0             0             0             0             0   \n",
       "2             0             0             0             0             0   \n",
       "3             0             0             0             0             0   \n",
       "4             0             0             0             0             0   \n",
       "\n",
       "   occupation_9  occupation_10  occupation_11  occupation_12  occupation_13  \n",
       "0             0              0              0              0              0  \n",
       "1             0              0              0              0              0  \n",
       "2             0              0              0              0              0  \n",
       "3             0              0              0              0              0  \n",
       "4             0              0              0              0              0  \n",
       "\n",
       "[5 rows x 40 columns]"
      ]
     },
     "execution_count": 32,
     "metadata": {},
     "output_type": "execute_result"
    }
   ],
   "source": [
    "continuous_features = ['age', 'fnlwgt', 'education-num', 'hours-per-week']\n",
    "X = datav2[continuous_features]\n",
    "datav2[continuous_features] = (X - np.mean(X))/ np.std(X)\n",
    "datav2.head()"
   ]
  },
  {
   "cell_type": "code",
   "execution_count": 33,
   "metadata": {},
   "outputs": [],
   "source": [
    "datav2 = datav2.drop(['education'], axis=1)"
   ]
  },
  {
   "cell_type": "markdown",
   "metadata": {},
   "source": [
    "# Train a machine learning algorithm on the data\n",
    "\n",
    "We will train a classifier on the dataset, and use it to make predictions.\n",
    "Let's use a Multi-layer Perceptron classifier with default parameters. This model optimizes the log-loss function using LBFGS or stochastic gradient descent. Checkout [Multi-layer Perceptron(MLPClassifier)](https://scikit-learn.org/stable/modules/generated/sklearn.neural_network.MLPClassifier.html) to learn how you can customize it."
   ]
  },
  {
   "cell_type": "code",
   "execution_count": 34,
   "metadata": {},
   "outputs": [],
   "source": [
    "from sklearn.neural_network import MLPClassifier\n",
    "from sklearn.model_selection import train_test_split"
   ]
  },
  {
   "cell_type": "code",
   "execution_count": 35,
   "metadata": {},
   "outputs": [],
   "source": [
    "def get_naive_dataset(dataset):\n",
    "    data_shuffled = dataset.sample(frac=1).reset_index(drop=True)\n",
    "    X = data_shuffled.drop(['salary'], axis=1)\n",
    "    y = data_shuffled['salary']\n",
    "    x_train, x_test, y_train, y_test = train_test_split(X, y, test_size=0.25)\n",
    "    return (x_train, y_train), (x_test, y_test)"
   ]
  },
  {
   "cell_type": "code",
   "execution_count": 36,
   "metadata": {},
   "outputs": [
    {
     "name": "stderr",
     "output_type": "stream",
     "text": [
      "/Users/audace/anaconda3/lib/python3.7/site-packages/sklearn/neural_network/multilayer_perceptron.py:562: ConvergenceWarning: Stochastic Optimizer: Maximum iterations (200) reached and the optimization hasn't converged yet.\n",
      "  % self.max_iter, ConvergenceWarning)\n"
     ]
    }
   ],
   "source": [
    "(x_train, y_train), (x_test, y_test) = get_naive_dataset(datav2)\n",
    "model = MLPClassifier()\n",
    "model.fit(x_train,y_train)\n",
    "prediction = model.predict(x_test)"
   ]
  },
  {
   "cell_type": "markdown",
   "metadata": {},
   "source": [
    "# Evaluating algorithm's performance"
   ]
  },
  {
   "cell_type": "code",
   "execution_count": 37,
   "metadata": {},
   "outputs": [
    {
     "data": {
      "text/html": [
       "<div>\n",
       "<style scoped>\n",
       "    .dataframe tbody tr th:only-of-type {\n",
       "        vertical-align: middle;\n",
       "    }\n",
       "\n",
       "    .dataframe tbody tr th {\n",
       "        vertical-align: top;\n",
       "    }\n",
       "\n",
       "    .dataframe thead th {\n",
       "        text-align: right;\n",
       "    }\n",
       "</style>\n",
       "<table border=\"1\" class=\"dataframe\">\n",
       "  <thead>\n",
       "    <tr style=\"text-align: right;\">\n",
       "      <th></th>\n",
       "      <th>age</th>\n",
       "      <th>fnlwgt</th>\n",
       "      <th>education-num</th>\n",
       "      <th>marital-status</th>\n",
       "      <th>sex</th>\n",
       "      <th>capital-gain</th>\n",
       "      <th>capital-loss</th>\n",
       "      <th>hours-per-week</th>\n",
       "      <th>native-country</th>\n",
       "      <th>relationship_0</th>\n",
       "      <th>...</th>\n",
       "      <th>occupation_7</th>\n",
       "      <th>occupation_8</th>\n",
       "      <th>occupation_9</th>\n",
       "      <th>occupation_10</th>\n",
       "      <th>occupation_11</th>\n",
       "      <th>occupation_12</th>\n",
       "      <th>occupation_13</th>\n",
       "      <th>salary</th>\n",
       "      <th>pred</th>\n",
       "      <th>accurate</th>\n",
       "    </tr>\n",
       "  </thead>\n",
       "  <tbody>\n",
       "    <tr>\n",
       "      <th>20811</th>\n",
       "      <td>1.244697</td>\n",
       "      <td>-1.547215</td>\n",
       "      <td>0.345316</td>\n",
       "      <td>1</td>\n",
       "      <td>0</td>\n",
       "      <td>0.0</td>\n",
       "      <td>0.0</td>\n",
       "      <td>-0.244684</td>\n",
       "      <td>0</td>\n",
       "      <td>0</td>\n",
       "      <td>...</td>\n",
       "      <td>0</td>\n",
       "      <td>0</td>\n",
       "      <td>0</td>\n",
       "      <td>0</td>\n",
       "      <td>0</td>\n",
       "      <td>0</td>\n",
       "      <td>0</td>\n",
       "      <td>1</td>\n",
       "      <td>1</td>\n",
       "      <td>True</td>\n",
       "    </tr>\n",
       "    <tr>\n",
       "      <th>26755</th>\n",
       "      <td>2.606505</td>\n",
       "      <td>-0.884840</td>\n",
       "      <td>-0.438122</td>\n",
       "      <td>1</td>\n",
       "      <td>0</td>\n",
       "      <td>0.0</td>\n",
       "      <td>0.0</td>\n",
       "      <td>-0.078120</td>\n",
       "      <td>0</td>\n",
       "      <td>0</td>\n",
       "      <td>...</td>\n",
       "      <td>0</td>\n",
       "      <td>0</td>\n",
       "      <td>0</td>\n",
       "      <td>0</td>\n",
       "      <td>0</td>\n",
       "      <td>0</td>\n",
       "      <td>0</td>\n",
       "      <td>1</td>\n",
       "      <td>1</td>\n",
       "      <td>True</td>\n",
       "    </tr>\n",
       "    <tr>\n",
       "      <th>24585</th>\n",
       "      <td>-0.571047</td>\n",
       "      <td>1.201625</td>\n",
       "      <td>-0.438122</td>\n",
       "      <td>1</td>\n",
       "      <td>0</td>\n",
       "      <td>0.0</td>\n",
       "      <td>0.0</td>\n",
       "      <td>-0.078120</td>\n",
       "      <td>1</td>\n",
       "      <td>1</td>\n",
       "      <td>...</td>\n",
       "      <td>0</td>\n",
       "      <td>0</td>\n",
       "      <td>0</td>\n",
       "      <td>0</td>\n",
       "      <td>0</td>\n",
       "      <td>0</td>\n",
       "      <td>0</td>\n",
       "      <td>1</td>\n",
       "      <td>1</td>\n",
       "      <td>True</td>\n",
       "    </tr>\n",
       "    <tr>\n",
       "      <th>14077</th>\n",
       "      <td>0.942073</td>\n",
       "      <td>-0.603237</td>\n",
       "      <td>-0.438122</td>\n",
       "      <td>0</td>\n",
       "      <td>1</td>\n",
       "      <td>0.0</td>\n",
       "      <td>0.0</td>\n",
       "      <td>-0.078120</td>\n",
       "      <td>0</td>\n",
       "      <td>0</td>\n",
       "      <td>...</td>\n",
       "      <td>0</td>\n",
       "      <td>0</td>\n",
       "      <td>0</td>\n",
       "      <td>1</td>\n",
       "      <td>0</td>\n",
       "      <td>0</td>\n",
       "      <td>0</td>\n",
       "      <td>1</td>\n",
       "      <td>1</td>\n",
       "      <td>True</td>\n",
       "    </tr>\n",
       "    <tr>\n",
       "      <th>29987</th>\n",
       "      <td>-1.554575</td>\n",
       "      <td>-0.014140</td>\n",
       "      <td>-1.221559</td>\n",
       "      <td>1</td>\n",
       "      <td>1</td>\n",
       "      <td>0.0</td>\n",
       "      <td>0.0</td>\n",
       "      <td>-2.076892</td>\n",
       "      <td>0</td>\n",
       "      <td>0</td>\n",
       "      <td>...</td>\n",
       "      <td>0</td>\n",
       "      <td>0</td>\n",
       "      <td>0</td>\n",
       "      <td>0</td>\n",
       "      <td>0</td>\n",
       "      <td>0</td>\n",
       "      <td>0</td>\n",
       "      <td>1</td>\n",
       "      <td>1</td>\n",
       "      <td>True</td>\n",
       "    </tr>\n",
       "  </tbody>\n",
       "</table>\n",
       "<p>5 rows × 41 columns</p>\n",
       "</div>"
      ],
      "text/plain": [
       "            age    fnlwgt  education-num  marital-status  sex  capital-gain  \\\n",
       "20811  1.244697 -1.547215       0.345316               1    0           0.0   \n",
       "26755  2.606505 -0.884840      -0.438122               1    0           0.0   \n",
       "24585 -0.571047  1.201625      -0.438122               1    0           0.0   \n",
       "14077  0.942073 -0.603237      -0.438122               0    1           0.0   \n",
       "29987 -1.554575 -0.014140      -1.221559               1    1           0.0   \n",
       "\n",
       "       capital-loss  hours-per-week  native-country  relationship_0  ...  \\\n",
       "20811           0.0       -0.244684               0               0  ...   \n",
       "26755           0.0       -0.078120               0               0  ...   \n",
       "24585           0.0       -0.078120               1               1  ...   \n",
       "14077           0.0       -0.078120               0               0  ...   \n",
       "29987           0.0       -2.076892               0               0  ...   \n",
       "\n",
       "       occupation_7  occupation_8  occupation_9  occupation_10  occupation_11  \\\n",
       "20811             0             0             0              0              0   \n",
       "26755             0             0             0              0              0   \n",
       "24585             0             0             0              0              0   \n",
       "14077             0             0             0              1              0   \n",
       "29987             0             0             0              0              0   \n",
       "\n",
       "       occupation_12  occupation_13  salary  pred  accurate  \n",
       "20811              0              0       1     1      True  \n",
       "26755              0              0       1     1      True  \n",
       "24585              0              0       1     1      True  \n",
       "14077              0              0       1     1      True  \n",
       "29987              0              0       1     1      True  \n",
       "\n",
       "[5 rows x 41 columns]"
      ]
     },
     "execution_count": 37,
     "metadata": {},
     "output_type": "execute_result"
    }
   ],
   "source": [
    "test_df = x_test.copy()\n",
    "test_df['salary'] = y_test\n",
    "test_df['pred'] = pd.Series(prediction, index=test_df.index)\n",
    "test_df['accurate'] = (test_df['pred'] == test_df['salary'])\n",
    "test_df.head()"
   ]
  },
  {
   "cell_type": "code",
   "execution_count": 38,
   "metadata": {},
   "outputs": [
    {
     "data": {
      "text/plain": [
       "('Accuracy: ', 0.8372545551034849)"
      ]
     },
     "execution_count": 38,
     "metadata": {},
     "output_type": "execute_result"
    }
   ],
   "source": [
    "\"Accuracy: \", test_df.accurate.mean()"
   ]
  },
  {
   "cell_type": "markdown",
   "metadata": {},
   "source": [
    "\n",
    "# Understanding gender bias in machine learning predictions\n"
   ]
  },
  {
   "cell_type": "code",
   "execution_count": 94,
   "metadata": {},
   "outputs": [],
   "source": [
    "def evaluate_gender_performance(results_df, print_stats=False):\n",
    "    \"\"\"\n",
    "    TODO: \n",
    "        - method documentation\n",
    "        - DRYing\n",
    "    \"\"\"\n",
    "    def printline():\n",
    "        _print('-------------------------------------------------')\n",
    "        \n",
    "    def _print(*args, **kwargs):\n",
    "        if print_stats:\n",
    "            print (args, kwargs)\n",
    "    \n",
    "    summaries = {}\n",
    "    overall_accuracy = results_df.accurate.mean()\n",
    "    summaries['accuracy_overall'] = overall_accuracy\n",
    "    printline()\n",
    "    _print(\"\\n1.Overall accuracy: \", overall_accuracy)\n",
    "    \n",
    "    printline()\n",
    "    \n",
    "    # Accuracy accross gender\n",
    "    _print(\"\\n2.Accuracy accross gender \\n \")\n",
    "    printline\n",
    "    for gender in [(FEMALE_LABEL, \"Female\"), (MALE_LABEL, \"Male\")]:\n",
    "        rows = results_df[results_df.sex==gender[0]]\n",
    "        accuracy_for_gender = rows.accurate.mean();\n",
    "        summaries['accuracy_'+gender[1]] = accuracy_for_gender\n",
    "        _print(\"P(((high, HIGH) or (low, LOW)) |\", gender[1], \"): \", accuracy_for_gender)\n",
    "    printline()\n",
    "    \n",
    "    _print(\"\\n3.Positive Rates: \\n\")\n",
    "    # High income rate given gender\n",
    "    for gender in [(FEMALE_LABEL, \"Female\"), (MALE_LABEL, \"Male\")]:\n",
    "        rows = results_df[results_df.sex==gender[0]]\n",
    "        positive_rate_for_gender = (rows['pred'] ==HIGH_SALARY_LABEL).mean()\n",
    "        summaries['positive_rate_'+gender[1]] = positive_rate_for_gender\n",
    "        _print(\"P(high|\", gender[1], \"): \", positive_rate_for_gender)\n",
    "    printline()\n",
    "    \n",
    "    _print(\"\\n4. Negative Rates: \\n\")\n",
    "    \n",
    "    # Low income rate given gender\n",
    "    # High income rate given gender\n",
    "    for gender in [(FEMALE_LABEL, \"Female\"), (MALE_LABEL, \"Male\")]:\n",
    "        rows = results_df[results_df.sex==gender[0]]\n",
    "        positive_rate_for_gender = (rows['pred'] ==LOW_SALARY_LABEL).mean()\n",
    "        summaries['negative_rate_'+gender[1]] = positive_rate_for_gender\n",
    "        _print(\"P(low|\", gender[1], \"): \", positive_rate_for_gender)\n",
    "    printline()\n",
    "    \n",
    "    _print(\"\\n4. True positive and True negative rates\")\n",
    "    \n",
    "    printline()\n",
    "    \n",
    "    for index, gender in enumerate([(FEMALE_LABEL, \"Female\"), (MALE_LABEL, \"Male\")]):\n",
    "        \n",
    "        _print(\"\\n4.\"+(\"i\")*(1+index), \" True positive and negative rates on sex=\"+gender[1], \"\\n\")\n",
    "        rows = results_df[results_df.sex==gender[0]]\n",
    "        \n",
    "        high_income = rows[rows.salary== HIGH_SALARY_LABEL]\n",
    "        low_income=rows[rows.salary == LOW_SALARY_LABEL]\n",
    "        if high_income.shape[0] > 0:\n",
    "            assert high_income.salary.mean() == HIGH_SALARY_LABEL, \"high_mean: \" + str(high_income.salary.mean())\n",
    "        if low_income.shape[0] > 0:\n",
    "            assert low_income.salary.mean() == LOW_SALARY_LABEL, \"low_mean: \" + str(low_income.salary.mean())\n",
    "        \n",
    "        high_pred = rows[rows.pred == HIGH_SALARY_LABEL]\n",
    "        low_pred = rows[rows.pred == LOW_SALARY_LABEL]\n",
    "        if high_pred.shape[0] > 0:\n",
    "            assert high_pred.pred.mean() == HIGH_SALARY_LABEL, \"high_pred_mean: \" + str(high_pred.pred.mean())\n",
    "        if low_pred.shape[0] > 0:\n",
    "            assert low_pred.pred.mean() == LOW_SALARY_LABEL, \"low_pred_mean: \" + str(low_pred.pred.mean())\n",
    "        \n",
    "        printline() \n",
    "        true_positive_rate = high_income.accurate.mean()\n",
    "        true_negative_rate = low_income.accurate.mean()\n",
    "        summaries['true_positive_rate_'+gender[1]] = true_positive_rate\n",
    "        summaries['true_negative_rate_'+gender[1]] = true_negative_rate\n",
    "        \n",
    "        _print(str.format(\"P((high, HIGH)| HIGH,{0})\", gender[1]), \": \",true_positive_rate)\n",
    "        _print(str.format(\"P((low, LOW)| LOW,{0})\", gender[1]), \":\",true_negative_rate)\n",
    "        \n",
    "        printline()\n",
    "        #true_positive_rate_on_positive_predictions = high_pred.accurate.mean()\n",
    "        #true_negative_rate_on_negative_predictions = low_pred.accurate.mean()\n",
    "        #summaries['true_positive_rate_on_positive_predictions_'+gender[1]] = true_positive_rate_on_positive_predictions\n",
    "        #summaries['true_negative_rate_on_negative_predictions_'+gender[1]] = true_negative_rate_on_negative_predictions\n",
    "        #_print(str.format(\"P((high,HIGH) | high, {0})\", gender[1]), \": \",true_positive_rate_on_positive_predictions)\n",
    "        #_print(str.format(\"P((low,LOW) |low,{0})\", gender[1]), \":\", true_negative_rate_on_negative_predictions)\n",
    "        \n",
    "        \n",
    "    return summaries\n",
    "\n",
    "def plot_performance_per_group(accuracy_results, title, fignum=1, rotation='horizontal', labels=[\"Male\", \"Female\"]):\n",
    "    \n",
    "    \"\"\"\n",
    "    Plot results for 2 groups stacked together\n",
    "    \"\"\"\n",
    "    assert isinstance(accuracy_results, list), \"Accuracy results must be a list\"\n",
    "    \n",
    "    \n",
    "    indices = [0]\n",
    "    colors = ['red', 'blue']\n",
    "    fig, ax = plt.subplots()\n",
    "    \n",
    "    for index in indices:\n",
    "        ax.scatter(index, accuracy_results[0][index], c=colors[0], label=labels[0] if labels and index ==0 else None)\n",
    "        ax.scatter(index, accuracy_results[1][index], c=colors[1], label=labels[1] if labels and index ==0 else None)\n",
    "        \n",
    "    if labels:\n",
    "        ax.legend()\n",
    "        \n",
    "    #plt.xticks(indices, approaches, rotation=rotation)\n",
    "    plt.title(title)\n",
    "    \n",
    "    plt.show()\n",
    "    \n",
    "    \n",
    "def plot_comparisons_groups(approaches, accuracy_results, title, fignum=1, rotation='horizontal', labels=[\"Male\", \"Female\"]):    \n",
    "    \"\"\"\n",
    "    Plot results for 2 groups stacked together\n",
    "    \"\"\"\n",
    "    assert isinstance(accuracy_results, list), \"Accuracy results must be a list\"\n",
    "    \n",
    "    \n",
    "    indices = list(range(len(approaches)))\n",
    "    colors = ['red', 'blue']\n",
    "    fig, ax = plt.subplots()\n",
    "    \n",
    "    for index in indices:\n",
    "        ax.scatter(index, accuracy_results[0][index], c=colors[0], label=labels[0] if labels and index ==0 else None)\n",
    "        ax.scatter(index, accuracy_results[1][index], c=colors[1], label=labels[1] if labels and index ==0 else None)\n",
    "        \n",
    "    if labels:\n",
    "        ax.legend()\n",
    "        \n",
    "    plt.xticks(indices, approaches, rotation=rotation)\n",
    "    plt.title(title)\n",
    "    \n",
    "    plt.show()\n",
    "    \n",
    "def plot_model_gender_metrics(_feature, _summaries, _modelNames, _title, rotation='vertical'):\n",
    "    gender_metrics = [[summary[_feature+'_Male'] for summary in _summaries], \n",
    "                         [summary[_feature+'_Female'] for summary in _summaries]\n",
    "                        ]\n",
    "    plot_comparisons_groups(_modelNames,gender_metrics, _title, rotation=rotation)\n",
    "\n",
    "def model_summary(model_name, title, summary):\n",
    "    summaries = []\n",
    "    model_names = []\n",
    "    \n",
    "    for key in [\"accuracy\", \"positive_rate\", \"negative_rate\", \"true_positive_rate\", \"true_negative_rate\"]:\n",
    "        new_summary = {\"accuracy_Male\": summary[key+\"_Male\"], \"accuracy_Female\": summary[key+\"_Female\"]}\n",
    "        summaries.append(new_summary)\n",
    "        model_names.append(key)   \n",
    "    plot_model_gender_metrics(\"accuracy\", summaries, model_names, model_name)\n",
    "    #plot_model_gender_metrics(key, [summary], [model_name], \"Model=\"+model_name+\", Metric=\"+key, rotation=\"horizontal\")\n",
    "        "
   ]
  },
  {
   "cell_type": "code",
   "execution_count": 95,
   "metadata": {},
   "outputs": [
    {
     "data": {
      "image/png": "[encoded data removed]",
      "text/plain": [
       "<Figure size 432x288 with 1 Axes>"
      ]
     },
     "metadata": {
      "needs_background": "light"
     },
     "output_type": "display_data"
    }
   ],
   "source": [
    "original_approach = evaluate_gender_performance(test_df)\n",
    "model_summary(\"MLP_no_debias\", \"\", original_approach)"
   ]
  },
  {
   "cell_type": "markdown",
   "metadata": {},
   "source": [
    "# Plot learning curve"
   ]
  },
  {
   "cell_type": "code",
   "execution_count": 41,
   "metadata": {},
   "outputs": [],
   "source": [
    "default_training_sizes = [1000, 5000, 10000, 15000, 20000, 25000, 30000, 35000, 40000, 45000]\n",
    "\n",
    "from sklearn.model_selection import learning_curve\n",
    "\n",
    "def plot_learning_curve(estimator, lrxtrain, lrytrain, train_sizes, title=None):\n",
    "    _train_sizes = []\n",
    "    for size in train_sizes:\n",
    "        if size <= lrxtrain.shape[0]*.65:\n",
    "            _train_sizes.append(size)\n",
    "        else:\n",
    "            break\n",
    "    train_sizes, train_scores, validation_scores = learning_curve(\n",
    "                                                 estimator, lrxtrain, lrytrain, train_sizes = _train_sizes, scoring = 'neg_log_loss')\n",
    "    train_scores_mean = -train_scores.mean(axis = 1)\n",
    "    validation_scores_mean = -validation_scores.mean(axis = 1)\n",
    "\n",
    "    plt.plot(train_sizes, train_scores_mean, label = 'Training error')\n",
    "    plt.plot(train_sizes, validation_scores_mean, label = 'Validation error')\n",
    "\n",
    "    plt.ylabel('NLL', fontsize = 14)\n",
    "    plt.xlabel('Training set size', fontsize = 14)\n",
    "    plt.title(title, fontsize = 18, y = 1.03)\n",
    "    plt.legend()"
   ]
  },
  {
   "cell_type": "code",
   "execution_count": 42,
   "metadata": {},
   "outputs": [],
   "source": [
    "#plot_learning_curve(MLPClassifier(), X, y, default_training_sizes, \"Learning curve, Naive approach\")"
   ]
  },
  {
   "cell_type": "markdown",
   "metadata": {},
   "source": [
    "## Introducing Bias metrics\n",
    "\n",
    "The two most used bias metrics are **statistical parity**, and **equality of opportunity**."
   ]
  },
  {
   "cell_type": "markdown",
   "metadata": {},
   "source": [
    "# IV. Bias mitigation Techniques\n",
    "\n",
    "In this section, we will be exploring two main techniques for reducing bias in machine learning. The first technique is called unawareness, and the second technique is database re-balancing."
   ]
  },
  {
   "cell_type": "markdown",
   "metadata": {},
   "source": [
    "## IV.1 Mitigation through unawareness\n",
    "\n",
    "In this technique, we attempt to decrease algorithmic bias by removing sensitive/protected attributes from training data. This is called unawareness. "
   ]
  },
  {
   "cell_type": "code",
   "execution_count": 43,
   "metadata": {},
   "outputs": [],
   "source": [
    "def get_unawareness_dataset(dataset):\n",
    "    (x_train, y_train), (x_test, y_test) = get_naive_dataset(dataset)\n",
    "    testdata = x_test.copy()\n",
    "    assert \"sex\" in list(testdata.columns), (\"columns: \", list(testdata.columns))\n",
    "    \n",
    "    x_train, x_test = [v.drop(['sex'], axis=1) for v in (x_train, x_test)]\n",
    "    return (x_train, y_train), (x_test, y_test), testdata"
   ]
  },
  {
   "cell_type": "code",
   "execution_count": 44,
   "metadata": {},
   "outputs": [
    {
     "name": "stderr",
     "output_type": "stream",
     "text": [
      "/Users/audace/anaconda3/lib/python3.7/site-packages/sklearn/neural_network/multilayer_perceptron.py:562: ConvergenceWarning: Stochastic Optimizer: Maximum iterations (200) reached and the optimization hasn't converged yet.\n",
      "  % self.max_iter, ConvergenceWarning)\n"
     ]
    },
    {
     "data": {
      "text/plain": [
       "MLPClassifier(activation='relu', alpha=0.0001, batch_size='auto', beta_1=0.9,\n",
       "       beta_2=0.999, early_stopping=False, epsilon=1e-08,\n",
       "       hidden_layer_sizes=(100,), learning_rate='constant',\n",
       "       learning_rate_init=0.001, max_iter=200, momentum=0.9,\n",
       "       n_iter_no_change=10, nesterovs_momentum=True, power_t=0.5,\n",
       "       random_state=None, shuffle=True, solver='adam', tol=0.0001,\n",
       "       validation_fraction=0.1, verbose=False, warm_start=False)"
      ]
     },
     "execution_count": 44,
     "metadata": {},
     "output_type": "execute_result"
    }
   ],
   "source": [
    "predictor = MLPClassifier()\n",
    "(x_train, ytrain), (x_test, y_test), testdata = get_unawareness_dataset(datav2)\n",
    "predictor.fit(x_train, y_train)"
   ]
  },
  {
   "cell_type": "code",
   "execution_count": 45,
   "metadata": {},
   "outputs": [],
   "source": [
    "def evaluate_predictor_performance(predictions, x_test, y_test):\n",
    "    \"\"\"\n",
    "    Returns summary statistics for the predictor's performance\n",
    "    \n",
    "    Input:\n",
    "        - predictions: model's predictions on x_test\n",
    "        - x_test: test input\n",
    "        - y_test: test labels\n",
    "        \n",
    "    Requires:\n",
    "        - predictor must have been fitted on x_train and y_train from the same dataset\n",
    "    \n",
    "    Check method evaluate_gender_performance for more on the produced summary statistics\n",
    "    \"\"\"\n",
    "    testdata = x_test.copy()\n",
    "    testdata['salary'] = y_test\n",
    "    testdata['pred'] = pd.Series(predictions, index=x_test.index)\n",
    "    testdata['accurate'] = (testdata['pred'] == testdata['salary'])\n",
    "    return evaluate_gender_performance(testdata)"
   ]
  },
  {
   "cell_type": "markdown",
   "metadata": {},
   "source": [
    "# Analysing performance"
   ]
  },
  {
   "cell_type": "code",
   "execution_count": 46,
   "metadata": {},
   "outputs": [
    {
     "data": {
      "image/png": "[encoded data removed]",
      "text/plain": [
       "<Figure size 432x288 with 1 Axes>"
      ]
     },
     "metadata": {
      "needs_background": "light"
     },
     "output_type": "display_data"
    },
    {
     "data": {
      "image/png": "[encoded data removed]",
      "text/plain": [
       "<Figure size 432x288 with 1 Axes>"
      ]
     },
     "metadata": {
      "needs_background": "light"
     },
     "output_type": "display_data"
    },
    {
     "data": {
      "image/png": "[encoded data removed]",
      "text/plain": [
       "<Figure size 432x288 with 1 Axes>"
      ]
     },
     "metadata": {
      "needs_background": "light"
     },
     "output_type": "display_data"
    },
    {
     "data": {
      "image/png": "[encoded data removed]",
      "text/plain": [
       "<Figure size 432x288 with 1 Axes>"
      ]
     },
     "metadata": {
      "needs_background": "light"
     },
     "output_type": "display_data"
    },
    {
     "data": {
      "image/png": "[encoded data removed]",
      "text/plain": [
       "<Figure size 432x288 with 1 Axes>"
      ]
     },
     "metadata": {
      "needs_background": "light"
     },
     "output_type": "display_data"
    }
   ],
   "source": [
    "predictions = predictor.predict(x_test)\n",
    "approach_1 = evaluate_predictor_performance(predictions, testdata, y_test)\n",
    "model_summary(\"MLP, gender unaware\", \"\", approach_1)"
   ]
  },
  {
   "cell_type": "code",
   "execution_count": 47,
   "metadata": {},
   "outputs": [],
   "source": [
    "# TODO: Change X, Y\n",
    "#plot_learning_curve(MLPClassifier(), X, y, default_training_sizes, 'Learning curves, Unawareness')"
   ]
  },
  {
   "cell_type": "markdown",
   "metadata": {},
   "source": [
    "## IV.2 Mitigation through dataset balancing"
   ]
  },
  {
   "cell_type": "markdown",
   "metadata": {},
   "source": [
    "### IV.2.1 Equal number of datapoints per demographic\n",
    "\n",
    "In this approach, we attempt to balance the dataset by drawing equal number of samples from the male and female demographics."
   ]
  },
  {
   "cell_type": "code",
   "execution_count": 48,
   "metadata": {},
   "outputs": [],
   "source": [
    "def get_gender_balanced_dataset(dataset, test_size=0.25):\n",
    "    \"\"\"\n",
    "    Returns (x_train, y_train), (x_test, y_test) with equal number of samples for each gender\n",
    "    \"\"\"\n",
    "    males, females = dataset[dataset.sex == MALE_LABEL], dataset[dataset.sex==FEMALE_LABEL]\n",
    "    sampled_males = males.sample(n=int(min(females.shape[0], males.shape[0]))).reset_index(drop=True)\n",
    "    combined = pd.concat([sampled_males, females]).sample(frac=1).reset_index(drop=True)\n",
    "    Xvals=combined.drop([\"salary\"], axis=1)\n",
    "    Yvals = combined[\"salary\"]\n",
    "    x_train, x_test, y_train, y_test = train_test_split(Xvals, Yvals, test_size=test_size)\n",
    "    return (x_train, y_train), (x_test, y_test)\n",
    "    "
   ]
  },
  {
   "cell_type": "code",
   "execution_count": 49,
   "metadata": {},
   "outputs": [
    {
     "data": {
      "text/html": [
       "<div>\n",
       "<style scoped>\n",
       "    .dataframe tbody tr th:only-of-type {\n",
       "        vertical-align: middle;\n",
       "    }\n",
       "\n",
       "    .dataframe tbody tr th {\n",
       "        vertical-align: top;\n",
       "    }\n",
       "\n",
       "    .dataframe thead th {\n",
       "        text-align: right;\n",
       "    }\n",
       "</style>\n",
       "<table border=\"1\" class=\"dataframe\">\n",
       "  <thead>\n",
       "    <tr style=\"text-align: right;\">\n",
       "      <th></th>\n",
       "      <th>age</th>\n",
       "      <th>fnlwgt</th>\n",
       "      <th>education-num</th>\n",
       "      <th>marital-status</th>\n",
       "      <th>sex</th>\n",
       "      <th>capital-gain</th>\n",
       "      <th>capital-loss</th>\n",
       "      <th>hours-per-week</th>\n",
       "      <th>native-country</th>\n",
       "      <th>salary</th>\n",
       "      <th>...</th>\n",
       "      <th>occupation_4</th>\n",
       "      <th>occupation_5</th>\n",
       "      <th>occupation_6</th>\n",
       "      <th>occupation_7</th>\n",
       "      <th>occupation_8</th>\n",
       "      <th>occupation_9</th>\n",
       "      <th>occupation_10</th>\n",
       "      <th>occupation_11</th>\n",
       "      <th>occupation_12</th>\n",
       "      <th>occupation_13</th>\n",
       "    </tr>\n",
       "  </thead>\n",
       "  <tbody>\n",
       "    <tr>\n",
       "      <th>0</th>\n",
       "      <td>0.034201</td>\n",
       "      <td>-1.062295</td>\n",
       "      <td>1.128753</td>\n",
       "      <td>1</td>\n",
       "      <td>1</td>\n",
       "      <td>1.0</td>\n",
       "      <td>0.0</td>\n",
       "      <td>-0.078120</td>\n",
       "      <td>0</td>\n",
       "      <td>1</td>\n",
       "      <td>...</td>\n",
       "      <td>0</td>\n",
       "      <td>0</td>\n",
       "      <td>0</td>\n",
       "      <td>0</td>\n",
       "      <td>0</td>\n",
       "      <td>0</td>\n",
       "      <td>0</td>\n",
       "      <td>0</td>\n",
       "      <td>0</td>\n",
       "      <td>0</td>\n",
       "    </tr>\n",
       "    <tr>\n",
       "      <th>1</th>\n",
       "      <td>0.866417</td>\n",
       "      <td>-1.007438</td>\n",
       "      <td>1.128753</td>\n",
       "      <td>0</td>\n",
       "      <td>1</td>\n",
       "      <td>0.0</td>\n",
       "      <td>0.0</td>\n",
       "      <td>-2.326738</td>\n",
       "      <td>0</td>\n",
       "      <td>1</td>\n",
       "      <td>...</td>\n",
       "      <td>0</td>\n",
       "      <td>0</td>\n",
       "      <td>0</td>\n",
       "      <td>0</td>\n",
       "      <td>0</td>\n",
       "      <td>0</td>\n",
       "      <td>0</td>\n",
       "      <td>0</td>\n",
       "      <td>0</td>\n",
       "      <td>0</td>\n",
       "    </tr>\n",
       "    <tr>\n",
       "      <th>2</th>\n",
       "      <td>-0.041455</td>\n",
       "      <td>0.245284</td>\n",
       "      <td>-0.438122</td>\n",
       "      <td>1</td>\n",
       "      <td>1</td>\n",
       "      <td>0.0</td>\n",
       "      <td>0.0</td>\n",
       "      <td>-0.078120</td>\n",
       "      <td>0</td>\n",
       "      <td>1</td>\n",
       "      <td>...</td>\n",
       "      <td>0</td>\n",
       "      <td>0</td>\n",
       "      <td>0</td>\n",
       "      <td>0</td>\n",
       "      <td>0</td>\n",
       "      <td>0</td>\n",
       "      <td>0</td>\n",
       "      <td>0</td>\n",
       "      <td>0</td>\n",
       "      <td>0</td>\n",
       "    </tr>\n",
       "    <tr>\n",
       "      <th>3</th>\n",
       "      <td>1.093385</td>\n",
       "      <td>0.425853</td>\n",
       "      <td>-1.221559</td>\n",
       "      <td>0</td>\n",
       "      <td>1</td>\n",
       "      <td>0.0</td>\n",
       "      <td>0.0</td>\n",
       "      <td>-0.078120</td>\n",
       "      <td>0</td>\n",
       "      <td>1</td>\n",
       "      <td>...</td>\n",
       "      <td>0</td>\n",
       "      <td>0</td>\n",
       "      <td>0</td>\n",
       "      <td>0</td>\n",
       "      <td>0</td>\n",
       "      <td>0</td>\n",
       "      <td>0</td>\n",
       "      <td>0</td>\n",
       "      <td>0</td>\n",
       "      <td>0</td>\n",
       "    </tr>\n",
       "    <tr>\n",
       "      <th>4</th>\n",
       "      <td>-0.798015</td>\n",
       "      <td>1.407393</td>\n",
       "      <td>1.128753</td>\n",
       "      <td>0</td>\n",
       "      <td>0</td>\n",
       "      <td>0.0</td>\n",
       "      <td>0.0</td>\n",
       "      <td>-0.078120</td>\n",
       "      <td>1</td>\n",
       "      <td>1</td>\n",
       "      <td>...</td>\n",
       "      <td>0</td>\n",
       "      <td>0</td>\n",
       "      <td>0</td>\n",
       "      <td>0</td>\n",
       "      <td>0</td>\n",
       "      <td>0</td>\n",
       "      <td>0</td>\n",
       "      <td>0</td>\n",
       "      <td>0</td>\n",
       "      <td>0</td>\n",
       "    </tr>\n",
       "  </tbody>\n",
       "</table>\n",
       "<p>5 rows × 39 columns</p>\n",
       "</div>"
      ],
      "text/plain": [
       "        age    fnlwgt  education-num  marital-status  sex  capital-gain  \\\n",
       "0  0.034201 -1.062295       1.128753               1    1           1.0   \n",
       "1  0.866417 -1.007438       1.128753               0    1           0.0   \n",
       "2 -0.041455  0.245284      -0.438122               1    1           0.0   \n",
       "3  1.093385  0.425853      -1.221559               0    1           0.0   \n",
       "4 -0.798015  1.407393       1.128753               0    0           0.0   \n",
       "\n",
       "   capital-loss  hours-per-week  native-country  salary  ...  occupation_4  \\\n",
       "0           0.0       -0.078120               0       1  ...             0   \n",
       "1           0.0       -2.326738               0       1  ...             0   \n",
       "2           0.0       -0.078120               0       1  ...             0   \n",
       "3           0.0       -0.078120               0       1  ...             0   \n",
       "4           0.0       -0.078120               1       1  ...             0   \n",
       "\n",
       "   occupation_5  occupation_6  occupation_7  occupation_8  occupation_9  \\\n",
       "0             0             0             0             0             0   \n",
       "1             0             0             0             0             0   \n",
       "2             0             0             0             0             0   \n",
       "3             0             0             0             0             0   \n",
       "4             0             0             0             0             0   \n",
       "\n",
       "   occupation_10  occupation_11  occupation_12  occupation_13  \n",
       "0              0              0              0              0  \n",
       "1              0              0              0              0  \n",
       "2              0              0              0              0  \n",
       "3              0              0              0              0  \n",
       "4              0              0              0              0  \n",
       "\n",
       "[5 rows x 39 columns]"
      ]
     },
     "execution_count": 49,
     "metadata": {},
     "output_type": "execute_result"
    }
   ],
   "source": [
    "datav3 = datav2.copy()\n",
    "datav3.head()"
   ]
  },
  {
   "cell_type": "code",
   "execution_count": 50,
   "metadata": {},
   "outputs": [
    {
     "data": {
      "text/plain": [
       "((22042, 38), (7348, 38))"
      ]
     },
     "execution_count": 50,
     "metadata": {},
     "output_type": "execute_result"
    }
   ],
   "source": [
    "(x_train, y_train), (x_test, y_test) = get_gender_balanced_dataset(datav3)\n",
    "x_train.shape, x_test.shape"
   ]
  },
  {
   "cell_type": "code",
   "execution_count": 51,
   "metadata": {},
   "outputs": [
    {
     "name": "stderr",
     "output_type": "stream",
     "text": [
      "/Users/audace/anaconda3/lib/python3.7/site-packages/sklearn/neural_network/multilayer_perceptron.py:562: ConvergenceWarning: Stochastic Optimizer: Maximum iterations (200) reached and the optimization hasn't converged yet.\n",
      "  % self.max_iter, ConvergenceWarning)\n"
     ]
    },
    {
     "data": {
      "image/png": "[encoded data removed]",
      "text/plain": [
       "<Figure size 432x288 with 1 Axes>"
      ]
     },
     "metadata": {
      "needs_background": "light"
     },
     "output_type": "display_data"
    },
    {
     "data": {
      "image/png": "[encoded data removed]",
      "text/plain": [
       "<Figure size 432x288 with 1 Axes>"
      ]
     },
     "metadata": {
      "needs_background": "light"
     },
     "output_type": "display_data"
    },
    {
     "data": {
      "image/png": "[encoded data removed]",
      "text/plain": [
       "<Figure size 432x288 with 1 Axes>"
      ]
     },
     "metadata": {
      "needs_background": "light"
     },
     "output_type": "display_data"
    },
    {
     "data": {
      "image/png": "[encoded data removed]",
      "text/plain": [
       "<Figure size 432x288 with 1 Axes>"
      ]
     },
     "metadata": {
      "needs_background": "light"
     },
     "output_type": "display_data"
    },
    {
     "data": {
      "image/png": "[encoded data removed]",
      "text/plain": [
       "<Figure size 432x288 with 1 Axes>"
      ]
     },
     "metadata": {
      "needs_background": "light"
     },
     "output_type": "display_data"
    }
   ],
   "source": [
    "predictor = MLPClassifier()\n",
    "predictor.fit(x_train, y_train)\n",
    "approach_2 = evaluate_predictor_performance(predictor.predict(x_test), x_test, y_test)\n",
    "model_summary(\"MLP, equal_datapoints\", \"\", approach_2)"
   ]
  },
  {
   "cell_type": "code",
   "execution_count": 52,
   "metadata": {},
   "outputs": [],
   "source": [
    "# TODO: Set to correct values\n",
    "#plot_learning_curve(MLPClassifier(), Xvals, Yvals, default_training_sizes, 'Learning curve, 3.2')"
   ]
  },
  {
   "cell_type": "code",
   "execution_count": 53,
   "metadata": {},
   "outputs": [
    {
     "name": "stderr",
     "output_type": "stream",
     "text": [
      "/Users/audace/anaconda3/lib/python3.7/site-packages/sklearn/neural_network/multilayer_perceptron.py:562: ConvergenceWarning: Stochastic Optimizer: Maximum iterations (200) reached and the optimization hasn't converged yet.\n",
      "  % self.max_iter, ConvergenceWarning)\n"
     ]
    },
    {
     "data": {
      "image/png": "[encoded data removed]",
      "text/plain": [
       "<Figure size 432x288 with 1 Axes>"
      ]
     },
     "metadata": {
      "needs_background": "light"
     },
     "output_type": "display_data"
    },
    {
     "data": {
      "image/png": "[encoded data removed]",
      "text/plain": [
       "<Figure size 432x288 with 1 Axes>"
      ]
     },
     "metadata": {
      "needs_background": "light"
     },
     "output_type": "display_data"
    },
    {
     "data": {
      "image/png": "[encoded data removed]",
      "text/plain": [
       "<Figure size 432x288 with 1 Axes>"
      ]
     },
     "metadata": {
      "needs_background": "light"
     },
     "output_type": "display_data"
    },
    {
     "data": {
      "image/png": "[encoded data removed]",
      "text/plain": [
       "<Figure size 432x288 with 1 Axes>"
      ]
     },
     "metadata": {
      "needs_background": "light"
     },
     "output_type": "display_data"
    },
    {
     "data": {
      "image/png": "[encoded data removed]",
      "text/plain": [
       "<Figure size 432x288 with 1 Axes>"
      ]
     },
     "metadata": {
      "needs_background": "light"
     },
     "output_type": "display_data"
    }
   ],
   "source": [
    "predictor = MLPClassifier()\n",
    "predictor.fit(x_train.drop(['sex'], axis=1), y_train)\n",
    "approach_2_blind = evaluate_predictor_performance(predictor.predict(x_test.drop(['sex'], axis=1)), x_test, y_test)\n",
    "model_summary(\"MLP, equal_datapoints_blind\", \"\", approach_2_blind)"
   ]
  },
  {
   "cell_type": "markdown",
   "metadata": {},
   "source": [
    "### IV.2.2 Equal number of datapoints per demographic in each category\n",
    "\n",
    "In this approach, we draw an equal number of data points from the subset of male individuals with a high income, male individuals with a low income, female individuals with a high income and female individuals with a low income"
   ]
  },
  {
   "cell_type": "code",
   "execution_count": 54,
   "metadata": {},
   "outputs": [],
   "source": [
    "# TODO: Implement random sampling\n",
    "def get_gender_category_balanced_dataset(dataset, test_size=0.25):\n",
    "    \"\"\"\n",
    "    Equal number of datapoints per category. Limited by the smallest number of points\n",
    "    \"\"\"\n",
    "    # Old distribution categories\n",
    "    males = dataset[(dataset.sex==MALE_LABEL)]\n",
    "    females = dataset[(dataset.sex==FEMALE_LABEL)]\n",
    "    male_high = males[(males.salary == HIGH_SALARY_LABEL)]\n",
    "    male_low = males[(males.salary == LOW_SALARY_LABEL)]\n",
    "    female_high = females[(females.salary == HIGH_SALARY_LABEL)]\n",
    "    female_low = females[(females.salary == LOW_SALARY_LABEL)]\n",
    "    \n",
    "    # Smallest is the bottleneck\n",
    "    smallest = min((x.shape[0] for x in [male_high, male_low, female_high, female_low]))\n",
    "    \n",
    "    # New distribution categories\n",
    "    _male_high = male_high.sample(n=smallest).reset_index(drop=True)\n",
    "    _male_low = male_low.sample(n=smallest).reset_index(drop=True)\n",
    "    _female_high = female_high.sample(n=smallest).reset_index(drop=True)\n",
    "    _female_low = female_low.sample(n=smallest).reset_index(drop=True)\n",
    "    _combined = pd.concat([_male_high, _male_low, _female_high, _female_low]).sample(frac=1).reset_index(drop=True)\n",
    "    \n",
    "    Xvals=_combined.drop([\"salary\"], axis=1)\n",
    "    Yvals = _combined[\"salary\"]\n",
    "    x_train, x_test, y_train, y_test = train_test_split(Xvals, Yvals, test_size=test_size)\n",
    "    return (x_train, y_train), (x_test, y_test)"
   ]
  },
  {
   "cell_type": "markdown",
   "metadata": {},
   "source": [
    "**Think:** Note how the size of the training set has changed\n",
    "\n",
    "We now train a new predictor on this new dataset"
   ]
  },
  {
   "cell_type": "code",
   "execution_count": 55,
   "metadata": {},
   "outputs": [
    {
     "name": "stderr",
     "output_type": "stream",
     "text": [
      "/Users/audace/anaconda3/lib/python3.7/site-packages/sklearn/neural_network/multilayer_perceptron.py:562: ConvergenceWarning: Stochastic Optimizer: Maximum iterations (200) reached and the optimization hasn't converged yet.\n",
      "  % self.max_iter, ConvergenceWarning)\n"
     ]
    }
   ],
   "source": [
    "(x_train, y_train), (x_test, y_test) = get_gender_category_balanced_dataset(datav3)\n",
    "\n",
    "predictor = MLPClassifier()\n",
    "predictor.fit(x_train, y_train)\n",
    "predictions = predictor.predict(x_test)"
   ]
  },
  {
   "cell_type": "code",
   "execution_count": 56,
   "metadata": {},
   "outputs": [
    {
     "data": {
      "image/png": "[encoded data removed]",
      "text/plain": [
       "<Figure size 432x288 with 1 Axes>"
      ]
     },
     "metadata": {
      "needs_background": "light"
     },
     "output_type": "display_data"
    },
    {
     "data": {
      "image/png": "[encoded data removed]",
      "text/plain": [
       "<Figure size 432x288 with 1 Axes>"
      ]
     },
     "metadata": {
      "needs_background": "light"
     },
     "output_type": "display_data"
    },
    {
     "data": {
      "image/png": "[encoded data removed]",
      "text/plain": [
       "<Figure size 432x288 with 1 Axes>"
      ]
     },
     "metadata": {
      "needs_background": "light"
     },
     "output_type": "display_data"
    },
    {
     "data": {
      "image/png": "[encoded data removed]",
      "text/plain": [
       "<Figure size 432x288 with 1 Axes>"
      ]
     },
     "metadata": {
      "needs_background": "light"
     },
     "output_type": "display_data"
    },
    {
     "data": {
      "image/png": "[encoded data removed]",
      "text/plain": [
       "<Figure size 432x288 with 1 Axes>"
      ]
     },
     "metadata": {
      "needs_background": "light"
     },
     "output_type": "display_data"
    }
   ],
   "source": [
    "approach_3 = evaluate_predictor_performance(predictions, x_test, y_test)\n",
    "model_summary(\"MLP, equal_datapoints_per_category\", \"\", approach_3)"
   ]
  },
  {
   "cell_type": "markdown",
   "metadata": {},
   "source": [
    "**Equal datapoints, gender_unaware**"
   ]
  },
  {
   "cell_type": "code",
   "execution_count": 57,
   "metadata": {},
   "outputs": [
    {
     "name": "stderr",
     "output_type": "stream",
     "text": [
      "/Users/audace/anaconda3/lib/python3.7/site-packages/sklearn/neural_network/multilayer_perceptron.py:562: ConvergenceWarning: Stochastic Optimizer: Maximum iterations (200) reached and the optimization hasn't converged yet.\n",
      "  % self.max_iter, ConvergenceWarning)\n"
     ]
    },
    {
     "data": {
      "text/plain": [
       "{'accuracy_overall': 0.8142600359496704,\n",
       " 'accuracy_Female': 0.8612862547288777,\n",
       " 'accuracy_Male': 0.771689497716895,\n",
       " 'positive_rate_Female': 0.4817150063051702,\n",
       " 'positive_rate_Male': 0.5502283105022832,\n",
       " 'negative_rate_Female': 0.5182849936948297,\n",
       " 'negative_rate_Male': 0.4497716894977169,\n",
       " 'true_positive_rate_Female': 0.8578947368421053,\n",
       " 'true_negative_rate_Female': 0.864406779661017,\n",
       " 'true_positive_rate_Male': 0.8294392523364486,\n",
       " 'true_negative_rate_Male': 0.7165178571428571}"
      ]
     },
     "execution_count": 57,
     "metadata": {},
     "output_type": "execute_result"
    }
   ],
   "source": [
    "(x_train, y_train), (x_test, y_test) = get_gender_category_balanced_dataset(datav3)\n",
    "\n",
    "predictor = MLPClassifier()\n",
    "predictor.fit(x_train.drop(['sex'], axis=1), y_train)\n",
    "predictions = predictor.predict(x_test.drop(['sex'], axis=1))\n",
    "approach_3_blind = evaluate_predictor_performance(predictions, x_test, y_test)\n",
    "approach_3_blind"
   ]
  },
  {
   "cell_type": "markdown",
   "metadata": {},
   "source": [
    "### IV.2.3 Equal ratios instead of equal number of datapoints\n",
    "\n",
    "In this section, we balance the dataset by preserving the ratio of the the size of the population in a given demographic with a given income level in a way that maximizes the number of datapoints."
   ]
  },
  {
   "cell_type": "code",
   "execution_count": 58,
   "metadata": {},
   "outputs": [],
   "source": [
    "def get_gender_category_ratio_balanced_dataset(dataset):\n",
    "    \n",
    "    \"\"\"\n",
    "    Ratio of (male_high, male_row) = Ratio of (female_high, female_low), maximize number of real datapoints\n",
    "    \"\"\"\n",
    "    \n",
    "    # Old distribution categories\n",
    "    males = dataset[(dataset.sex==MALE_LABEL)]\n",
    "    females = dataset[(dataset.sex==FEMALE_LABEL)]\n",
    "    assert males.shape[0] > 0 and females.shape[0] > 0, \"Empty males or females\"\n",
    "    \n",
    "    male_high = males[(males.salary == HIGH_SALARY_LABEL)]\n",
    "    male_low = males[(males.salary == LOW_SALARY_LABEL)]\n",
    "    \n",
    "    assert male_high.shape[0] > 0 and male_low.shape[0] > 0, \" empty male high or low\"\n",
    "    \n",
    "    female_high = females[(females.salary == HIGH_SALARY_LABEL)]\n",
    "    female_low = females[(females.salary == LOW_SALARY_LABEL)]\n",
    "    \n",
    "    assert female_high.shape[0] > 0 and female_low.shape[0] > 0, \"empty female high or low\"\n",
    "    \n",
    "    \n",
    "    print(\"shapes mh, ml, fh, fl: \", [x.shape[0] for x in [male_high, male_low, female_high, female_low]])\n",
    "    \n",
    "    ratio = float(male_high.shape[0]) / float(male_low.shape[0])\n",
    "    assert ratio > 0, \" ratio must be greater than 0\"\n",
    "    \n",
    "    print (\"Ratio is \", ratio)\n",
    "    n_female_high = female_high.shape[0]\n",
    "    n_female_low = int(n_female_high / ratio)\n",
    "\n",
    "    _male_low = male_low.copy()\n",
    "    _male_high = male_high.copy()\n",
    "    _female_high = female_high.copy()\n",
    "    _female_low = female_low.sample(n=n_female_low).reset_index(drop=True)\n",
    "    _combined = pd.concat([_male_high, _male_low, _female_high, _female_low]).sample(frac=1).reset_index(drop=True)\n",
    "    \n",
    "    Xvals=_combined.drop([\"salary\"], axis=1)\n",
    "    Yvals = _combined[\"salary\"]\n",
    "    x_train, x_test, y_train, y_test = train_test_split(Xvals, Yvals, test_size=0.25)\n",
    "    \n",
    "    return (x_train, y_train), (x_test, y_test)\n",
    "    "
   ]
  },
  {
   "cell_type": "markdown",
   "metadata": {},
   "source": [
    "**Explanation** :\n",
    "Among the 4 subsets, the smallest one is the subset of female individuals who earn a high income. In this section, instead of restricting the size of all other subsets to this size in our new distribution, we can instead create a new distribution that preserves either the ratio of female individuals who earn high income to the ratio of female individuals who earn low income, or the ratio of male individuals who earn high income to the ratio of male individuals who earn low income.\n",
    "\n",
    "In the example above, we ensure that the ratio of the number of male individuals who earn a high income to the ratio of the number of female individuals who earn a low income is equal to the ratio of female individuals who earn a high income to the ratio of female individuals who earn a low income.\n",
    "\n",
    "This has an advantage of being able to use more data points for our training set than the previous approach."
   ]
  },
  {
   "cell_type": "code",
   "execution_count": 59,
   "metadata": {},
   "outputs": [
    {
     "data": {
      "text/plain": [
       "(45222, 39)"
      ]
     },
     "execution_count": 59,
     "metadata": {},
     "output_type": "execute_result"
    }
   ],
   "source": [
    "datav3.shape"
   ]
  },
  {
   "cell_type": "code",
   "execution_count": 60,
   "metadata": {},
   "outputs": [
    {
     "name": "stdout",
     "output_type": "stream",
     "text": [
      "shapes mh, ml, fh, fl:  [9539, 20988, 1669, 13026]\n",
      "Ratio is  0.4544978082713932\n"
     ]
    },
    {
     "name": "stderr",
     "output_type": "stream",
     "text": [
      "/Users/audace/anaconda3/lib/python3.7/site-packages/sklearn/neural_network/multilayer_perceptron.py:562: ConvergenceWarning: Stochastic Optimizer: Maximum iterations (200) reached and the optimization hasn't converged yet.\n",
      "  % self.max_iter, ConvergenceWarning)\n"
     ]
    }
   ],
   "source": [
    "(x_train, y_train), (x_test, y_test) = get_gender_category_ratio_balanced_dataset(datav3)\n",
    "predictor = MLPClassifier()\n",
    "predictor.fit(x_train, y_train)\n",
    "predictions = predictor.predict(x_test)"
   ]
  },
  {
   "cell_type": "code",
   "execution_count": 61,
   "metadata": {},
   "outputs": [
    {
     "data": {
      "text/plain": [
       "{'accuracy_overall': 0.810862049737928,\n",
       " 'accuracy_Female': 0.8571428571428571,\n",
       " 'accuracy_Male': 0.8026523109243697,\n",
       " 'positive_rate_Female': 0.306439674315322,\n",
       " 'positive_rate_Male': 0.28807773109243695,\n",
       " 'negative_rate_Female': 0.6935603256846781,\n",
       " 'negative_rate_Male': 0.711922268907563,\n",
       " 'true_positive_rate_Female': 0.7675544794188862,\n",
       " 'true_negative_rate_Female': 0.896588486140725,\n",
       " 'true_positive_rate_Male': 0.6441385064664163,\n",
       " 'true_negative_rate_Male': 0.8754550680206936}"
      ]
     },
     "execution_count": 61,
     "metadata": {},
     "output_type": "execute_result"
    }
   ],
   "source": [
    "approach_4 = evaluate_predictor_performance(predictions, x_test, y_test)\n",
    "approach_4"
   ]
  },
  {
   "cell_type": "code",
   "execution_count": 62,
   "metadata": {},
   "outputs": [
    {
     "name": "stderr",
     "output_type": "stream",
     "text": [
      "/Users/audace/anaconda3/lib/python3.7/site-packages/sklearn/neural_network/multilayer_perceptron.py:562: ConvergenceWarning: Stochastic Optimizer: Maximum iterations (200) reached and the optimization hasn't converged yet.\n",
      "  % self.max_iter, ConvergenceWarning)\n"
     ]
    },
    {
     "data": {
      "text/plain": [
       "{'accuracy_overall': 0.8074049291847887,\n",
       " 'accuracy_Female': 0.8667653589933383,\n",
       " 'accuracy_Male': 0.796875,\n",
       " 'positive_rate_Female': 0.2908956328645448,\n",
       " 'positive_rate_Male': 0.31985294117647056,\n",
       " 'negative_rate_Female': 0.7091043671354552,\n",
       " 'negative_rate_Male': 0.6801470588235294,\n",
       " 'true_positive_rate_Female': 0.7578692493946732,\n",
       " 'true_negative_rate_Female': 0.9147121535181236,\n",
       " 'true_positive_rate_Male': 0.6854401335002086,\n",
       " 'true_negative_rate_Male': 0.8480551829852462}"
      ]
     },
     "execution_count": 62,
     "metadata": {},
     "output_type": "execute_result"
    }
   ],
   "source": [
    "predictor = MLPClassifier()\n",
    "predictor.fit(x_train.drop(['sex'], axis=1), y_train)\n",
    "predictions = predictor.predict(x_test.drop(['sex'], axis=1))\n",
    "approach_4_blind = evaluate_predictor_performance(predictions, x_test, y_test)\n",
    "approach_4_blind"
   ]
  },
  {
   "cell_type": "markdown",
   "metadata": {},
   "source": [
    "# IV. Bias mitigation through data augmentation\n",
    "\n",
    "In this sectionn we explore bias mitigation approaches that augment existing data with synthetic examples"
   ]
  },
  {
   "cell_type": "markdown",
   "metadata": {},
   "source": [
    "## IV.1 Counterfactual augmentation"
   ]
  },
  {
   "cell_type": "code",
   "execution_count": 63,
   "metadata": {},
   "outputs": [],
   "source": [
    "def with_gender_counterfacts(df):\n",
    "    df_out = df.copy()\n",
    "    df_out['sex'] = df_out['sex'].apply(lambda value: 1-value)\n",
    "    result = pd.concat([df.copy(), df_out])\n",
    "    return result"
   ]
  },
  {
   "cell_type": "code",
   "execution_count": 64,
   "metadata": {},
   "outputs": [
    {
     "name": "stderr",
     "output_type": "stream",
     "text": [
      "/Users/audace/anaconda3/lib/python3.7/site-packages/sklearn/neural_network/multilayer_perceptron.py:562: ConvergenceWarning: Stochastic Optimizer: Maximum iterations (200) reached and the optimization hasn't converged yet.\n",
      "  % self.max_iter, ConvergenceWarning)\n"
     ]
    },
    {
     "data": {
      "image/png": "[encoded data removed]",
      "text/plain": [
       "<Figure size 432x288 with 1 Axes>"
      ]
     },
     "metadata": {
      "needs_background": "light"
     },
     "output_type": "display_data"
    },
    {
     "data": {
      "image/png": "[encoded data removed]",
      "text/plain": [
       "<Figure size 432x288 with 1 Axes>"
      ]
     },
     "metadata": {
      "needs_background": "light"
     },
     "output_type": "display_data"
    },
    {
     "data": {
      "image/png": "[encoded data removed]",
      "text/plain": [
       "<Figure size 432x288 with 1 Axes>"
      ]
     },
     "metadata": {
      "needs_background": "light"
     },
     "output_type": "display_data"
    },
    {
     "data": {
      "image/png": "[encoded data removed]",
      "text/plain": [
       "<Figure size 432x288 with 1 Axes>"
      ]
     },
     "metadata": {
      "needs_background": "light"
     },
     "output_type": "display_data"
    },
    {
     "data": {
      "image/png": "[encoded data removed]",
      "text/plain": [
       "<Figure size 432x288 with 1 Axes>"
      ]
     },
     "metadata": {
      "needs_background": "light"
     },
     "output_type": "display_data"
    }
   ],
   "source": [
    "ctf_gender_augmented = with_gender_counterfacts(datav2)\n",
    "(x_train, y_train), (x_test, y_test) = get_naive_dataset(ctf_gender_augmented)\n",
    "\n",
    "predictor = MLPClassifier()\n",
    "predictor.fit(x_train, y_train)\n",
    "ctf_1 = evaluate_predictor_performance(predictor.predict(x_test), x_test, y_test)\n",
    "model_summary(\"counterfactual_augmentation\", \"\", ctf_1)"
   ]
  },
  {
   "cell_type": "code",
   "execution_count": 65,
   "metadata": {},
   "outputs": [
    {
     "name": "stderr",
     "output_type": "stream",
     "text": [
      "/Users/audace/anaconda3/lib/python3.7/site-packages/sklearn/neural_network/multilayer_perceptron.py:562: ConvergenceWarning: Stochastic Optimizer: Maximum iterations (200) reached and the optimization hasn't converged yet.\n",
      "  % self.max_iter, ConvergenceWarning)\n"
     ]
    },
    {
     "data": {
      "text/plain": [
       "MLPClassifier(activation='relu', alpha=0.0001, batch_size='auto', beta_1=0.9,\n",
       "       beta_2=0.999, early_stopping=False, epsilon=1e-08,\n",
       "       hidden_layer_sizes=(100,), learning_rate='constant',\n",
       "       learning_rate_init=0.001, max_iter=200, momentum=0.9,\n",
       "       n_iter_no_change=10, nesterovs_momentum=True, power_t=0.5,\n",
       "       random_state=None, shuffle=True, solver='adam', tol=0.0001,\n",
       "       validation_fraction=0.1, verbose=False, warm_start=False)"
      ]
     },
     "execution_count": 65,
     "metadata": {},
     "output_type": "execute_result"
    }
   ],
   "source": [
    "predictor = MLPClassifier()\n",
    "predictor.fit(x_train.drop(['sex'], axis=1), y_train)\n"
   ]
  },
  {
   "cell_type": "code",
   "execution_count": 66,
   "metadata": {},
   "outputs": [
    {
     "data": {
      "image/png": "[encoded data removed]",
      "text/plain": [
       "<Figure size 432x288 with 1 Axes>"
      ]
     },
     "metadata": {
      "needs_background": "light"
     },
     "output_type": "display_data"
    },
    {
     "data": {
      "image/png": "[encoded data removed]",
      "text/plain": [
       "<Figure size 432x288 with 1 Axes>"
      ]
     },
     "metadata": {
      "needs_background": "light"
     },
     "output_type": "display_data"
    },
    {
     "data": {
      "image/png": "[encoded data removed]",
      "text/plain": [
       "<Figure size 432x288 with 1 Axes>"
      ]
     },
     "metadata": {
      "needs_background": "light"
     },
     "output_type": "display_data"
    },
    {
     "data": {
      "image/png": "[encoded data removed]",
      "text/plain": [
       "<Figure size 432x288 with 1 Axes>"
      ]
     },
     "metadata": {
      "needs_background": "light"
     },
     "output_type": "display_data"
    },
    {
     "data": {
      "image/png": "[encoded data removed]",
      "text/plain": [
       "<Figure size 432x288 with 1 Axes>"
      ]
     },
     "metadata": {
      "needs_background": "light"
     },
     "output_type": "display_data"
    }
   ],
   "source": [
    "ctf_blind = evaluate_predictor_performance(predictor.predict(x_test.drop(['sex'], axis=1)), x_test, y_test)\n",
    "model_summary(\"counterfactual_augmentation_blind\", \"\", ctf_blind)"
   ]
  },
  {
   "cell_type": "markdown",
   "metadata": {},
   "source": [
    "# Comparing bias mitigation approaches\n",
    "\n",
    "- In the naïve approach, we trained on the entire dataset\n",
    "- In approach 2, we used gender from our features ( unawareness )\n",
    "- In approach 3, we  used dataset with equal number of samples from the male and female demographics\n",
    "- In approach 4, we used a dataset with equal number of samples within each income category for the male and female demographics\n",
    "- In approach 5, we used a dataset with same ratio of number of samples within each income category for the male and female demographics.\n",
    "\n",
    "In this section, we will be comparing the results of these different approaches"
   ]
  },
  {
   "cell_type": "code",
   "execution_count": 67,
   "metadata": {},
   "outputs": [],
   "source": [
    "def plot_comparisons(approach_names, accuracy_results, title, fignum=1, rotation='horizontal'):\n",
    "    \"\"\"\n",
    "    Args:\n",
    "        - summary: Dictionary describing the approach's gender performance\n",
    "        - approach_name: The name of the technique, to be displayed\n",
    "    \"\"\"\n",
    "    assert isinstance(accuracy_results, list) and not isinstance(accuracy_results[0], list), accuracy_results\n",
    "    \n",
    "    \n",
    "    indices = list(range(len(approach_names)))\n",
    "    colors = cm.rainbow(np.linspace(0, 1, len(indices)))\n",
    "    plt.figure(fignum)\n",
    "    \n",
    "    for index in indices:\n",
    "        plt.scatter(index, accuracy_results[index], color=colors[index])\n",
    "        \n",
    "    plt.xticks(indices, approach_names, rotation=rotation)\n",
    "    \n",
    "    plt.title(title)\n",
    "    plt.show()\n",
    "    \n",
    "def plot_comparisons_groups(approaches, accuracy_results, title, fignum=1, rotation='horizontal', labels=[\"Male\", \"Female\"]):    \n",
    "    \"\"\"\n",
    "    Plot results for 2 groups stacked together\n",
    "    \"\"\"\n",
    "    assert isinstance(accuracy_results, list), \"Accuracy results must be a list\"\n",
    "    \n",
    "    \n",
    "    indices = list(range(len(approaches)))\n",
    "    colors = ['red', 'blue']\n",
    "    fig, ax = plt.subplots()\n",
    "    \n",
    "    for index in indices:\n",
    "        ax.scatter(index, accuracy_results[0][index], c=colors[0], label=labels[0] if labels and index ==0 else None)\n",
    "        ax.scatter(index, accuracy_results[1][index], c=colors[1], label=labels[1] if labels and index ==0 else None)\n",
    "        \n",
    "    if labels:\n",
    "        ax.legend()\n",
    "        \n",
    "    plt.xticks(indices, approaches, rotation=rotation)\n",
    "    plt.title(title)\n",
    "    \n",
    "    plt.show()\n",
    "    "
   ]
  },
  {
   "cell_type": "code",
   "execution_count": 68,
   "metadata": {},
   "outputs": [],
   "source": [
    "approaches = ['no_mitigation', 'gender_unaware', 'equal_|data|_per_gender', 'if_gender_blind', 'equal_|data|_per_(gender, category)', 'if_gender_blind' 'equal_|data ratio| per_gender', 'if_blind', 'ctf', 'ctf_blind']\n",
    "summaries = [original_approach, approach_1, approach_2, approach_2_blind, approach_3, approach_3_blind, approach_4, approach_4_blind, ctf_1, ctf_blind]"
   ]
  },
  {
   "cell_type": "markdown",
   "metadata": {},
   "source": [
    "# Comparing overall accuracies\n",
    "\n",
    "Here we compare the overall accuracies of each of the 4 approaches"
   ]
  },
  {
   "cell_type": "code",
   "execution_count": 69,
   "metadata": {},
   "outputs": [
    {
     "data": {
      "image/png": "[encoded data removed]",
      "text/plain": [
       "<Figure size 432x288 with 1 Axes>"
      ]
     },
     "metadata": {
      "needs_background": "light"
     },
     "output_type": "display_data"
    }
   ],
   "source": [
    "\n",
    "accuracy_results = [summary['accuracy_overall'] for summary in summaries]\n",
    "plot_comparisons(approaches, accuracy_results, 'Comparisons of overall accuracy', rotation='vertical')"
   ]
  },
  {
   "cell_type": "code",
   "execution_count": 70,
   "metadata": {},
   "outputs": [],
   "source": [
    "def plot_model_gender_metrics(_feature, _summaries, _modelNames, _title, rotation='vertical'):\n",
    "    gender_metrics = [[summary[_feature+'_Male'] for summary in _summaries], \n",
    "                         [summary[_feature+'_Female'] for summary in _summaries]\n",
    "                        ]\n",
    "    plot_comparisons_groups(_modelNames,gender_metrics, _title, rotation=rotation)\n",
    "    "
   ]
  },
  {
   "cell_type": "markdown",
   "metadata": {},
   "source": [
    "# Comparing overall accuracy accross gender"
   ]
  },
  {
   "cell_type": "code",
   "execution_count": 71,
   "metadata": {},
   "outputs": [
    {
     "data": {
      "image/png": "[encoded data removed]",
      "text/plain": [
       "<Figure size 432x288 with 1 Axes>"
      ]
     },
     "metadata": {
      "needs_background": "light"
     },
     "output_type": "display_data"
    }
   ],
   "source": [
    "plot_model_gender_metrics('accuracy', summaries, approaches, \"Accuracy on Male vs Accuracy on Female\")"
   ]
  },
  {
   "cell_type": "markdown",
   "metadata": {},
   "source": [
    "# Positive and negative rates accross gender"
   ]
  },
  {
   "cell_type": "code",
   "execution_count": 72,
   "metadata": {},
   "outputs": [
    {
     "data": {
      "image/png": "[encoded data removed]",
      "text/plain": [
       "<Figure size 432x288 with 1 Axes>"
      ]
     },
     "metadata": {
      "needs_background": "light"
     },
     "output_type": "display_data"
    },
    {
     "data": {
      "image/png": "[encoded data removed]",
      "text/plain": [
       "<Figure size 432x288 with 1 Axes>"
      ]
     },
     "metadata": {
      "needs_background": "light"
     },
     "output_type": "display_data"
    }
   ],
   "source": [
    "plot_model_gender_metrics('positive_rate', summaries, approaches, \"Positive rates accross gender\")\n",
    "plot_model_gender_metrics('negative_rate', summaries, approaches, \"Negative rates accross gender\")"
   ]
  },
  {
   "cell_type": "markdown",
   "metadata": {},
   "source": [
    "# True positive and True negative rates accross gender"
   ]
  },
  {
   "cell_type": "code",
   "execution_count": 73,
   "metadata": {},
   "outputs": [
    {
     "data": {
      "image/png": "[encoded data removed]",
      "text/plain": [
       "<Figure size 432x288 with 1 Axes>"
      ]
     },
     "metadata": {
      "needs_background": "light"
     },
     "output_type": "display_data"
    },
    {
     "data": {
      "image/png": "[encoded data removed]",
      "text/plain": [
       "<Figure size 432x288 with 1 Axes>"
      ]
     },
     "metadata": {
      "needs_background": "light"
     },
     "output_type": "display_data"
    }
   ],
   "source": [
    "plot_model_gender_metrics('true_positive_rate', summaries, approaches, \"True positive rates accross gender\")\n",
    "plot_model_gender_metrics('true_negative_rate', summaries, approaches, \"True negative rates accross gender\")"
   ]
  },
  {
   "cell_type": "markdown",
   "metadata": {},
   "source": [
    "# True positive rate on positive predictions, and true negative rate on negative predictions\n"
   ]
  },
  {
   "cell_type": "code",
   "execution_count": 74,
   "metadata": {},
   "outputs": [
    {
     "ename": "KeyError",
     "evalue": "'true_positive_rate_on_positive_predictions_Male'",
     "output_type": "error",
     "traceback": [
      "\u001b[0;31m---------------------------------------------------------------------------\u001b[0m",
      "\u001b[0;31mKeyError\u001b[0m                                  Traceback (most recent call last)",
      "\u001b[0;32m<ipython-input-74-116fe2b0e26d>\u001b[0m in \u001b[0;36m<module>\u001b[0;34m\u001b[0m\n\u001b[0;32m----> 1\u001b[0;31m \u001b[0mplot_model_gender_metrics\u001b[0m\u001b[0;34m(\u001b[0m\u001b[0;34m'true_positive_rate_on_positive_predictions'\u001b[0m\u001b[0;34m,\u001b[0m \u001b[0msummaries\u001b[0m\u001b[0;34m,\u001b[0m \u001b[0mapproaches\u001b[0m\u001b[0;34m,\u001b[0m \u001b[0;34m\"True positive rates on positive predictions\"\u001b[0m\u001b[0;34m)\u001b[0m\u001b[0;34m\u001b[0m\u001b[0;34m\u001b[0m\u001b[0m\n\u001b[0m\u001b[1;32m      2\u001b[0m \u001b[0mplot_model_gender_metrics\u001b[0m\u001b[0;34m(\u001b[0m\u001b[0;34m'true_negative_rate_on_negative_predictions'\u001b[0m\u001b[0;34m,\u001b[0m \u001b[0msummaries\u001b[0m\u001b[0;34m,\u001b[0m \u001b[0mapproaches\u001b[0m\u001b[0;34m,\u001b[0m \u001b[0;34m\"True negative rates on negative predictions\"\u001b[0m\u001b[0;34m)\u001b[0m\u001b[0;34m\u001b[0m\u001b[0;34m\u001b[0m\u001b[0m\n",
      "\u001b[0;32m<ipython-input-70-bd17a2693c4b>\u001b[0m in \u001b[0;36mplot_model_gender_metrics\u001b[0;34m(_feature, _summaries, _modelNames, _title, rotation)\u001b[0m\n\u001b[1;32m      1\u001b[0m \u001b[0;32mdef\u001b[0m \u001b[0mplot_model_gender_metrics\u001b[0m\u001b[0;34m(\u001b[0m\u001b[0m_feature\u001b[0m\u001b[0;34m,\u001b[0m \u001b[0m_summaries\u001b[0m\u001b[0;34m,\u001b[0m \u001b[0m_modelNames\u001b[0m\u001b[0;34m,\u001b[0m \u001b[0m_title\u001b[0m\u001b[0;34m,\u001b[0m \u001b[0mrotation\u001b[0m\u001b[0;34m=\u001b[0m\u001b[0;34m'vertical'\u001b[0m\u001b[0;34m)\u001b[0m\u001b[0;34m:\u001b[0m\u001b[0;34m\u001b[0m\u001b[0;34m\u001b[0m\u001b[0m\n\u001b[0;32m----> 2\u001b[0;31m     gender_metrics = [[summary[_feature+'_Male'] for summary in _summaries], \n\u001b[0m\u001b[1;32m      3\u001b[0m                          \u001b[0;34m[\u001b[0m\u001b[0msummary\u001b[0m\u001b[0;34m[\u001b[0m\u001b[0m_feature\u001b[0m\u001b[0;34m+\u001b[0m\u001b[0;34m'_Female'\u001b[0m\u001b[0;34m]\u001b[0m \u001b[0;32mfor\u001b[0m \u001b[0msummary\u001b[0m \u001b[0;32min\u001b[0m \u001b[0m_summaries\u001b[0m\u001b[0;34m]\u001b[0m\u001b[0;34m\u001b[0m\u001b[0;34m\u001b[0m\u001b[0m\n\u001b[1;32m      4\u001b[0m                         ]\n\u001b[1;32m      5\u001b[0m     \u001b[0mplot_comparisons_groups\u001b[0m\u001b[0;34m(\u001b[0m\u001b[0m_modelNames\u001b[0m\u001b[0;34m,\u001b[0m\u001b[0mgender_metrics\u001b[0m\u001b[0;34m,\u001b[0m \u001b[0m_title\u001b[0m\u001b[0;34m,\u001b[0m \u001b[0mrotation\u001b[0m\u001b[0;34m=\u001b[0m\u001b[0mrotation\u001b[0m\u001b[0;34m)\u001b[0m\u001b[0;34m\u001b[0m\u001b[0;34m\u001b[0m\u001b[0m\n",
      "\u001b[0;32m<ipython-input-70-bd17a2693c4b>\u001b[0m in \u001b[0;36m<listcomp>\u001b[0;34m(.0)\u001b[0m\n\u001b[1;32m      1\u001b[0m \u001b[0;32mdef\u001b[0m \u001b[0mplot_model_gender_metrics\u001b[0m\u001b[0;34m(\u001b[0m\u001b[0m_feature\u001b[0m\u001b[0;34m,\u001b[0m \u001b[0m_summaries\u001b[0m\u001b[0;34m,\u001b[0m \u001b[0m_modelNames\u001b[0m\u001b[0;34m,\u001b[0m \u001b[0m_title\u001b[0m\u001b[0;34m,\u001b[0m \u001b[0mrotation\u001b[0m\u001b[0;34m=\u001b[0m\u001b[0;34m'vertical'\u001b[0m\u001b[0;34m)\u001b[0m\u001b[0;34m:\u001b[0m\u001b[0;34m\u001b[0m\u001b[0;34m\u001b[0m\u001b[0m\n\u001b[0;32m----> 2\u001b[0;31m     gender_metrics = [[summary[_feature+'_Male'] for summary in _summaries], \n\u001b[0m\u001b[1;32m      3\u001b[0m                          \u001b[0;34m[\u001b[0m\u001b[0msummary\u001b[0m\u001b[0;34m[\u001b[0m\u001b[0m_feature\u001b[0m\u001b[0;34m+\u001b[0m\u001b[0;34m'_Female'\u001b[0m\u001b[0;34m]\u001b[0m \u001b[0;32mfor\u001b[0m \u001b[0msummary\u001b[0m \u001b[0;32min\u001b[0m \u001b[0m_summaries\u001b[0m\u001b[0;34m]\u001b[0m\u001b[0;34m\u001b[0m\u001b[0;34m\u001b[0m\u001b[0m\n\u001b[1;32m      4\u001b[0m                         ]\n\u001b[1;32m      5\u001b[0m     \u001b[0mplot_comparisons_groups\u001b[0m\u001b[0;34m(\u001b[0m\u001b[0m_modelNames\u001b[0m\u001b[0;34m,\u001b[0m\u001b[0mgender_metrics\u001b[0m\u001b[0;34m,\u001b[0m \u001b[0m_title\u001b[0m\u001b[0;34m,\u001b[0m \u001b[0mrotation\u001b[0m\u001b[0;34m=\u001b[0m\u001b[0mrotation\u001b[0m\u001b[0;34m)\u001b[0m\u001b[0;34m\u001b[0m\u001b[0;34m\u001b[0m\u001b[0m\n",
      "\u001b[0;31mKeyError\u001b[0m: 'true_positive_rate_on_positive_predictions_Male'"
     ]
    }
   ],
   "source": [
    "plot_model_gender_metrics('true_positive_rate_on_positive_predictions', summaries, approaches, \"True positive rates on positive predictions\")\n",
    "plot_model_gender_metrics('true_negative_rate_on_negative_predictions', summaries, approaches, \"True negative rates on negative predictions\")"
   ]
  },
  {
   "cell_type": "markdown",
   "metadata": {},
   "source": [
    "# Equalizing opportunity by setting equal true positive and true negative rates for different demographics\n",
    "\n",
    "We will use the Receive Operating Characteristic(ROC) curve to understand how true positive and true negative rates affect each other accross different demographics\n",
    "\n",
    "\n",
    "* Diagnostic ability of classifier\n",
    "* Plots true positive rate (TPR) against the false positive rate (FPR) at various threshold settings\n",
    "$$TPR = \\frac{TP}{TP + FN}$$\n",
    "$$FPR = \\frac{FP}{FP + TN}$$\n",
    "* Area under the ROC curve (AUC) - single number which reflects model's performance "
   ]
  },
  {
   "cell_type": "code",
   "execution_count": null,
   "metadata": {},
   "outputs": [],
   "source": [
    "from sklearn import svm, metrics\n",
    "clf = MLPClassifier()\n",
    "clf.fit(x_train, y_train)\n",
    "# obtain the learned decision function and evaluate it on the held-out data"
   ]
  },
  {
   "cell_type": "code",
   "execution_count": null,
   "metadata": {},
   "outputs": [],
   "source": [
    "def plot_roc_curve(trained_predictor, X_test_list=None, Y_test_list=None, label_list = None, fignum=None):\n",
    "    \"\"\"\n",
    "    Trained predictor must have .decision_function attribute\n",
    "    \"\"\"\n",
    "    if fignum is not None:\n",
    "        figure(fignum)\n",
    "    for index in range(len(X_test_list)):\n",
    "        X_test = X_test_list[index]\n",
    "        Y_test = Y_test_list[index]\n",
    "        assert X_test is not None and Y_test is not None, \"X_test and Y_test cannot be None\"\n",
    "        y_pred_scores = trained_predictor.predict_proba(X_test)[:, 1]\n",
    "        fpr, tpr, thresholds = metrics.roc_curve(Y_test, y_pred_scores) # obtain false positive and true positive rates\n",
    "        area_under_curve = metrics.auc(fpr, tpr)\n",
    "        label = \"for gender = \"+  label_list[index] if label_list is not None else ''\n",
    "        #plt.plot(fpr, tpr, color='darkorange', label='ROC curve (area = %0.2f) %s' % (area_under_curve, label)) # plot ROC curve\n",
    "        plt.plot(fpr, tpr, label='ROC curve (area = %0.2f) %s' % (area_under_curve, label))\n",
    "    plt.plot([0, 1], [0, 1], color='navy', linestyle='--')\n",
    "    plt.xlim([0.0, 1.0])\n",
    "    plt.ylim([0.0, 1.05])\n",
    "    plt.xlabel('False Positive Rate')\n",
    "    plt.ylabel('True Positive Rate')\n",
    "    plt.title('Receiver operating characteristic')\n",
    "    plt.legend(loc=\"lower right\")"
   ]
  },
  {
   "cell_type": "code",
   "execution_count": null,
   "metadata": {},
   "outputs": [],
   "source": [
    "plot_roc_curve(clf, X_test_list = [x_test], Y_test_list = [y_test])"
   ]
  },
  {
   "cell_type": "code",
   "execution_count": null,
   "metadata": {},
   "outputs": [],
   "source": [
    "predictor = MLPClassifier()\n",
    "predictor.fit(x_train, y_train)"
   ]
  },
  {
   "cell_type": "code",
   "execution_count": null,
   "metadata": {},
   "outputs": [],
   "source": [
    "def plot_gender_roc_curves(trained_predictor, X_test, Y_test):\n",
    "    \"\"\"\n",
    "    Plots the ROC curve for each gender demographic\n",
    "    \"\"\"\n",
    "    combined = pd.concat([X_test, Y_test], axis=1)\n",
    "    x_test_list, y_test_list, gender_labels = [], [], []\n",
    "    for gender, gender_label in ((\"FEMALE\", FEMALE_LABEL), (\"MALE\", MALE_LABEL)):\n",
    "        with_gender = combined[combined['sex'] == gender_label]\n",
    "        x_test = with_gender.drop(['salary'], axis=1)\n",
    "        y_test = with_gender['salary']\n",
    "        x_test_list.append(x_test)\n",
    "        y_test_list.append(y_test)\n",
    "        gender_labels.append(gender)\n",
    "    plot_roc_curve(predictor, X_test_list=x_test_list, Y_test_list=y_test_list,label_list=gender_labels)"
   ]
  },
  {
   "cell_type": "code",
   "execution_count": null,
   "metadata": {},
   "outputs": [],
   "source": [
    "plot_gender_roc_curves(predictor, x_test, y_test)"
   ]
  },
  {
   "cell_type": "markdown",
   "metadata": {},
   "source": [
    "# Bias mitigation through model variation\n",
    "\n",
    "In this section, we explore different model choices, and look at how model choice affects different metrics. We first start by exploring a short overview of the problem group and it's corresponding algorithm family. Based on that, we will then explore different algorithms for classifications, and understand how they perform overall, and for different demographics over several training sessions."
   ]
  },
  {
   "cell_type": "code",
   "execution_count": null,
   "metadata": {},
   "outputs": [],
   "source": [
    "from IPython.display import Image\n",
    "Image(filename='images/ml_problem_groups.png', width= 500, height= 500, metadata={'align':'center'})"
   ]
  },
  {
   "cell_type": "markdown",
   "metadata": {},
   "source": [
    "This is a classification problem, therefore, the different classifiers that we can use are \n",
    "\n",
    "- Support Vector Machines(SVMs), \n",
    "- Decision tree learners, \n",
    "- Instance based learners, \n",
    "- Generalized linear models, and \n",
    "- Artificial neural networks. \n",
    "\n",
    "We are going to use one from each category, in order to get a comparison of how these models perform"
   ]
  },
  {
   "cell_type": "code",
   "execution_count": null,
   "metadata": {},
   "outputs": [],
   "source": [
    "from sklearn.linear_model import LogisticRegression \n",
    "from sklearn.naive_bayes import GaussianNB \n",
    "from sklearn.ensemble import RandomForestClassifier \n",
    "from sklearn.metrics import accuracy_score\n",
    "from sklearn.neighbors import KNeighborsClassifier "
   ]
  },
  {
   "cell_type": "code",
   "execution_count": null,
   "metadata": {},
   "outputs": [],
   "source": [
    "lr = LogisticRegression(solver='lbfgs', multi_class='multinomial', random_state=1) # GLM\n",
    "rf = RandomForestClassifier(n_estimators=50, random_state=1) # Random Forest\n",
    "gnb = GaussianNB() # GLM\n",
    "mlp = MLPClassifier()  # ANN\n",
    "svc = svm.SVC() # SVM\n",
    "knc = KNeighborsClassifier(n_neighbors=5)\n",
    "for model in [lr, rf, gnb, mlp, svc, knc]:\n",
    "    model.fit(x_train, y_train)"
   ]
  },
  {
   "cell_type": "code",
   "execution_count": null,
   "metadata": {},
   "outputs": [],
   "source": [
    "for model_name, model in [('LR', lr), ('RF', rf), ('GNB', gnb), ('MLP', mlp), ('svc', svc), ('knc', knc)]:\n",
    "    print(model_name, ' accuracy: ', accuracy_score(y_test, model.predict(x_test)))"
   ]
  },
  {
   "cell_type": "markdown",
   "metadata": {},
   "source": [
    "# Introduction to multi-model architecture\n",
    "\n",
    "A multi-model architecture combines different machine learning models, and makes a prediction by taking into account the predictions of multiple models.\n",
    "\n",
    "There are different ways in which a multi-model architecture can make a decision, but here, we will be looking at a Voting classifier, that uses either the **Soft Votingrule** or **Majority/Hard voting rule** to make predictions.  In Soft-Voting, outputs fom multiple models are averaged. In the majority rule, the majority output/prediction wins.\n",
    "\n",
    "See [VotingClassifier](https://scikit-learn.org/stable/modules/generated/sklearn.ensemble.VotingClassifier.html) "
   ]
  },
  {
   "cell_type": "code",
   "execution_count": null,
   "metadata": {},
   "outputs": [],
   "source": [
    "from sklearn.ensemble import VotingClassifier"
   ]
  },
  {
   "cell_type": "code",
   "execution_count": null,
   "metadata": {},
   "outputs": [],
   "source": [
    "def default_voting_classifier(voting='hard'):\n",
    "    lr = LogisticRegression(solver='lbfgs', multi_class='multinomial', random_state=1)\n",
    "    rf = RandomForestClassifier(n_estimators=50, random_state=1)\n",
    "    gnb = GaussianNB()\n",
    "    mlp = MLPClassifier()\n",
    "    svc = svm.SVC(probability = voting != 'hard')\n",
    "    knc = KNeighborsClassifier(n_neighbors=5)\n",
    "    voter = VotingClassifier(estimators=[('LR', lr), ('RF', rf), ('GNB', gnb), ('MLP', mlp), ('svc', svc)], voting=voting)\n",
    "    \n",
    "    return voter"
   ]
  },
  {
   "cell_type": "code",
   "execution_count": null,
   "metadata": {},
   "outputs": [],
   "source": [
    "(x_train, y_train), (x_test, y_test) = get_gender_category_ratio_balanced_dataset(datav3)"
   ]
  },
  {
   "cell_type": "code",
   "execution_count": null,
   "metadata": {},
   "outputs": [],
   "source": [
    "hardvoter = default_voting_classifier(voting='hard')\n",
    "softvoter = default_voting_classifier(voting='soft')\n",
    "for model in [hardvoter, softvoter]:\n",
    "    model.fit(x_train, y_train)"
   ]
  },
  {
   "cell_type": "code",
   "execution_count": null,
   "metadata": {},
   "outputs": [],
   "source": [
    "print('Hard voting accuracy ', accuracy_score(y_test, hardvoter.predict(x_test)))\n",
    "print('Soft voting accuracy ', accuracy_score(y_test, softvoter.predict(x_test)))"
   ]
  },
  {
   "cell_type": "markdown",
   "metadata": {},
   "source": [
    "You might have noticed that training might take some time. Sometimes it is very useful to store trained models or other statistics to persistent storage, to avoid retraining. Let's implement functionality for that"
   ]
  },
  {
   "cell_type": "code",
   "execution_count": null,
   "metadata": {},
   "outputs": [],
   "source": [
    "# Model persistence\n",
    "import pickle\n",
    "\n",
    "class Persistence:\n",
    "    \"\"\"\n",
    "    Implements model persistence functionality\n",
    "    \"\"\"\n",
    "    def __init__(self):\n",
    "        pass\n",
    "    \n",
    "    @staticmethod \n",
    "    def storeObject(_object, filename):\n",
    "        pickle_out = open(filename,\"wb\")\n",
    "        pickle.dump(_object, pickle_out)\n",
    "        pickle_out.close()\n",
    "    \n",
    "    @staticmethod\n",
    "    def loadObjects(filenames=None):\n",
    "        result = []\n",
    "        for filename in filenames:\n",
    "            result.append(pickle.load(open(filename, 'rb')))\n",
    "        return result\n",
    "    \n",
    "    @staticmethod\n",
    "    def storeOrLoad(store=False, load=False, names=None, objects=None):\n",
    "        \"\"\"\n",
    "        Returns file names if storing, returns objects if reading\n",
    "        \"\"\"\n",
    "        if store or load:\n",
    "            assert store != load, 'Cannot store and load'\n",
    "        if store:\n",
    "            for _object, name in zip(objects, names):\n",
    "                Persistence.storeObject(_object, name)\n",
    "            return 'Stored'\n",
    "        if load:\n",
    "            read = Persistence.loadObjects(filenames=names)\n",
    "            return read"
   ]
  },
  {
   "cell_type": "code",
   "execution_count": null,
   "metadata": {},
   "outputs": [],
   "source": [
    "modelNames = ['LR', 'RF', 'GNB', 'MLP', 'SVC', 'hard_voter', 'soft_voter']\n",
    "models = [lr, rf, gnb, mlp, svc, hardvoter, softvoter]"
   ]
  },
  {
   "cell_type": "code",
   "execution_count": null,
   "metadata": {},
   "outputs": [],
   "source": [
    "summaries = []\n",
    "for model, modelname in zip(models, modelNames):\n",
    "    summaries.append(evaluate_predictor_performance(model.predict(x_test), x_test, y_test))"
   ]
  },
  {
   "cell_type": "markdown",
   "metadata": {},
   "source": [
    "# Comparing model performance for 1 training session"
   ]
  },
  {
   "cell_type": "markdown",
   "metadata": {},
   "source": [
    "## Overall Accuracy"
   ]
  },
  {
   "cell_type": "code",
   "execution_count": null,
   "metadata": {},
   "outputs": [],
   "source": [
    "overall_accuracies = [summary['accuracy_overall'] for summary in summaries]\n",
    "plot_comparisons(modelNames, overall_accuracies, \"Overall Accuracy\", rotation='vertical')"
   ]
  },
  {
   "cell_type": "code",
   "execution_count": null,
   "metadata": {},
   "outputs": [],
   "source": [
    "gender_accuracies = [[summary['accuracy_Male'] for summary in summaries], [summary['accuracy_Female'] for summary in summaries]]\n",
    "plot_comparisons_groups(modelNames, gender_accuracies, \"Gender accuracies\", rotation='vertical')"
   ]
  },
  {
   "cell_type": "markdown",
   "metadata": {},
   "source": [
    "## Positive and negative rates accross each demographic"
   ]
  },
  {
   "cell_type": "code",
   "execution_count": null,
   "metadata": {},
   "outputs": [],
   "source": [
    "plot_model_gender_metrics('positive_rate', summaries, modelNames, \"Positive rates\", rotation='vertical')\n",
    "plot_model_gender_metrics('negative_rate', summaries, modelNames, \"Negative rates\", rotation='vertical')"
   ]
  },
  {
   "cell_type": "markdown",
   "metadata": {},
   "source": [
    "## True positive and true negative rates across each demographic"
   ]
  },
  {
   "cell_type": "code",
   "execution_count": null,
   "metadata": {},
   "outputs": [],
   "source": [
    "plot_model_gender_metrics('true_positive_rate', summaries, modelNames, \"True positive rates\", rotation='vertical')\n",
    "plot_model_gender_metrics('true_negative_rate', summaries, modelNames, \"True negative rates\", rotation='vertical')"
   ]
  },
  {
   "cell_type": "markdown",
   "metadata": {},
   "source": [
    "# Comparing model performance over multiple training sessions\n",
    "\n",
    "From a single training session, the results are random, therefore our conclusion on the which model performs best is still weak. Doing more than a single training sessions helps get a better idea of what models performs best in the average case.\n",
    "\n",
    "We first start by implementing functionality for training instances of a model class, and summarizing the results over multiple traning sessions"
   ]
  },
  {
   "cell_type": "code",
   "execution_count": null,
   "metadata": {},
   "outputs": [],
   "source": [
    "def get_model_class_summaries(model_class, dataset, training_sessions, *args, **kwargs):\n",
    "    \"\"\"\n",
    "    Repeatedly sample from the dataset, train, test and return summary statistics\n",
    "    \"\"\"\n",
    "    assert training_sessions >= 1, \"Must train at least once\"\n",
    "    \n",
    "    Xvals, Yvals = dataset\n",
    "    summaries = []\n",
    "    for session in range(training_sessions):\n",
    "        x_train, x_test, y_train, y_test = train_test_split(Xvals, Yvals, test_size=.25)\n",
    "        model = model_class(*args, **kwargs)\n",
    "        model.fit(x_train, y_train)\n",
    "        \n",
    "        evaluation = evaluate_predictor_performance(model.predict(x_test), x_test, y_test)\n",
    "        summaries.append(evaluation)\n",
    "        \n",
    "    assert len(summaries) == training_sessions\n",
    "    return summaries"
   ]
  },
  {
   "cell_type": "markdown",
   "metadata": {},
   "source": [
    "Let's now get an idea of what the training summaries are going to look like. We do this by traning an instance of MLPClassifier for 3 times, and aggregating the summaries"
   ]
  },
  {
   "cell_type": "code",
   "execution_count": null,
   "metadata": {},
   "outputs": [],
   "source": [
    "dataset = datav3.copy()\n",
    "Xvals=dataset.drop([\"salary\"], axis=1)\n",
    "Yvals = dataset[\"salary\"]\n",
    "some_summaries = get_model_class_summaries(MLPClassifier, (Xvals, Yvals), 2)\n",
    "some_summaries[:2]"
   ]
  },
  {
   "cell_type": "markdown",
   "metadata": {},
   "source": [
    "# Aggregate results for single-model architectures"
   ]
  },
  {
   "cell_type": "code",
   "execution_count": null,
   "metadata": {},
   "outputs": [],
   "source": [
    "single_model_name_classes_args_kwargs = [\n",
    "    ['LR', LogisticRegression,     [], {'solver': 'lbfgs', 'multi_class': 'multinomial', 'random_state':1}], \n",
    "    ['RF', RandomForestClassifier, [], {'n_estimators':50, 'random_state':1}], \n",
    "    ['GNB', GaussianNB,             [], {}],\n",
    "    ['MLPC', MLPClassifier,          [], {}], \n",
    "    ['SVC', svm.SVC,                [], {}]\n",
    "]"
   ]
  },
  {
   "cell_type": "code",
   "execution_count": null,
   "metadata": {},
   "outputs": [],
   "source": [
    "single_model_summaries = []"
   ]
  },
  {
   "cell_type": "code",
   "execution_count": null,
   "metadata": {},
   "outputs": [],
   "source": [
    "runLoop = False # simply set runLoop to False to avoid iterations\n",
    "if runLoop:\n",
    "    for name, model_class, args, kwargs in single_model_name_classes_args_kwargs:\n",
    "        model_class_summaries = get_model_class_summaries(model_class, (Xvals, Yvals), 5, *args, **kwargs)\n",
    "        single_model_summaries.append((name, model_class_summaries))"
   ]
  },
  {
   "cell_type": "code",
   "execution_count": null,
   "metadata": {},
   "outputs": [],
   "source": [
    "store = False # Change the flag to store the summaries\n",
    "if store:\n",
    "    Persistence.storeOrLoad(store=True, names=['single_model_summaries'], objects = [single_model_summaries])"
   ]
  },
  {
   "cell_type": "code",
   "execution_count": null,
   "metadata": {},
   "outputs": [],
   "source": [
    "voting_model_name_classes_args_kwargs = [\n",
    "    ['hard_voting', default_voting_classifier, [], {'voting':'hard'}],\n",
    "    ['soft_voting', default_voting_classifier, [], {'voting':'soft'}]\n",
    "]"
   ]
  },
  {
   "cell_type": "markdown",
   "metadata": {},
   "source": [
    "# Aggregate results for multi-model architectures"
   ]
  },
  {
   "cell_type": "code",
   "execution_count": null,
   "metadata": {},
   "outputs": [],
   "source": [
    "voting_model_summaries = []"
   ]
  },
  {
   "cell_type": "code",
   "execution_count": null,
   "metadata": {},
   "outputs": [],
   "source": [
    "runLoop = True\n",
    "if runLoop:\n",
    "    for name, model_class, args, kwargs in voting_model_name_classes_args_kwargs:\n",
    "        model_class_summaries = get_model_class_summaries(model_class, (Xvals, Yvals), 5, *args, **kwargs)\n",
    "        voting_model_summaries.append((name, model_class_summaries))"
   ]
  },
  {
   "cell_type": "code",
   "execution_count": null,
   "metadata": {},
   "outputs": [],
   "source": [
    "assert len(voting_model_summaries) > 0\n",
    "Persistence.storeOrLoad(store=True, names=['voting_model_summaries'], objects=[voting_model_summaries])"
   ]
  },
  {
   "cell_type": "code",
   "execution_count": null,
   "metadata": {},
   "outputs": [],
   "source": [
    "def extract_treatment_differences(summaries):\n",
    "    \"\"\"\n",
    "    Extract treatment difference(male-female) from a performance summary\n",
    "    \"\"\"\n",
    "    differences = []\n",
    "    for summary_dict in summaries:\n",
    "        gender_attrs = set()\n",
    "        for gender_key in summary_dict:\n",
    "            if '_Male' in gender_key:\n",
    "                gender_attrs.add(gender_key[:gender_key.rindex('_')])\n",
    "        value_dict = {}\n",
    "        for gender_attr in gender_attrs:\n",
    "            value_dict[gender_attr] = summary_dict[gender_attr+\"_Male\"] - summary_dict[gender_attr+ \"_Female\"]\n",
    "        differences.append(value_dict)\n",
    "    return differences"
   ]
  },
  {
   "cell_type": "code",
   "execution_count": null,
   "metadata": {},
   "outputs": [],
   "source": [
    "all_model_summaries = single_model_summaries + voting_model_summaries"
   ]
  },
  {
   "cell_type": "code",
   "execution_count": null,
   "metadata": {},
   "outputs": [],
   "source": [
    "store = False # set to True to store all model summaries\n",
    "if store:\n",
    "    Persistence.storeOrLoad(store=True, names=['all_model_summaries'], objects=[all_model_summaries])"
   ]
  },
  {
   "cell_type": "code",
   "execution_count": null,
   "metadata": {},
   "outputs": [],
   "source": [
    "load = True # Set to true to load stored models\n",
    "if load:\n",
    "    all_model_summaries = Persistence.storeOrLoad(load=load, names=['all_model_summaries'])[0]"
   ]
  },
  {
   "cell_type": "code",
   "execution_count": null,
   "metadata": {},
   "outputs": [],
   "source": [
    "all_model_summaries[-2:]"
   ]
  },
  {
   "cell_type": "code",
   "execution_count": null,
   "metadata": {},
   "outputs": [],
   "source": [
    "all_model_differences = []\n",
    "for model_name, model_summaries in all_model_summaries:\n",
    "    differences = extract_treatment_differences(model_summaries)\n",
    "    all_model_differences.append((model_name, differences))\n",
    "    "
   ]
  },
  {
   "cell_type": "code",
   "execution_count": null,
   "metadata": {},
   "outputs": [],
   "source": [
    "all_model_differences[:1]"
   ]
  },
  {
   "cell_type": "markdown",
   "metadata": {},
   "source": [
    "# Plotting model performance differences\n",
    "\n",
    "We now implement functionalities for plotting the aggregated statistics to get a visual understanding of each model's performance in terms of gender disparity"
   ]
  },
  {
   "cell_type": "code",
   "execution_count": null,
   "metadata": {},
   "outputs": [],
   "source": [
    "def get_model_values_for_feature(feature, nsp, abs_val=False):\n",
    "    \"\"\"\n",
    "    Inputs: \n",
    "        nsp = name summary pairs\n",
    "    \"\"\"\n",
    "    model_names = [model_summary[0] for model_summary in nsp]\n",
    "    model_summary_lists = [model_summary[1] for model_summary in nsp] # Each element is a list of dicts\n",
    "    model_y_values = []\n",
    "    for model_summary_list in model_summary_lists:\n",
    "        values = [abs(model_summary[feature]) if abs_val else model_summary[feature] for model_summary in model_summary_list]\n",
    "        model_y_values.append(values)\n",
    "    return model_names, model_y_values\n",
    "\n",
    "def plot_model_values_for_feature(model_names, model_y_values, title, rotation='vertical'):\n",
    "\n",
    "    indices = list(range(len(model_names)))\n",
    "    \n",
    "    colors = cm.rainbow(np.linspace(0, 1, len(indices)))\n",
    "    \n",
    "    fig, ax = plt.subplots()\n",
    "    \n",
    "    for index in indices:\n",
    "        for y_value in model_y_values[index]:\n",
    "            ax.scatter(index, y_value, color=colors[index], label=model_names[index])\n",
    "    plt.xticks(indices, model_names, rotation=rotation)\n",
    "    #plt.yticks([0])\n",
    "    plt.title(title)\n",
    "    \n",
    "    plt.show()\n",
    "    \n",
    "def plot_feature_differences(feature_name, model_differences, title):\n",
    "    model_names, model_y_values = get_model_values_for_feature(feature_name, all_model_differences)\n",
    "    plot_model_values_for_feature(model_names, model_y_values, title)"
   ]
  },
  {
   "cell_type": "markdown",
   "metadata": {},
   "source": [
    "# Accuracy difference comparison"
   ]
  },
  {
   "cell_type": "code",
   "execution_count": null,
   "metadata": {},
   "outputs": [],
   "source": [
    "plot_feature_differences('accuracy', all_model_differences, 'Accuracy Difference Comparison')"
   ]
  },
  {
   "cell_type": "markdown",
   "metadata": {},
   "source": [
    "# Positive and negative rate difference comparison"
   ]
  },
  {
   "cell_type": "code",
   "execution_count": null,
   "metadata": {},
   "outputs": [],
   "source": [
    "pl = [('positive_rate', 'Positive Rate'), ('negative_rate', 'Negative Rate')]\n",
    "for feature, title in pl:\n",
    "    plot_feature_differences(feature, all_model_differences, title+ ' Difference Comparison')"
   ]
  },
  {
   "cell_type": "markdown",
   "metadata": {},
   "source": [
    "# True positive and true negative rate difference comparison"
   ]
  },
  {
   "cell_type": "code",
   "execution_count": null,
   "metadata": {},
   "outputs": [],
   "source": [
    "pl = [('true_positive_rate', 'True Positive Rate'), ('true_negative_rate', 'True Negative Rate')]\n",
    "for feature, title in pl:\n",
    "    plot_feature_differences(feature, all_model_differences, title+ ' Difference Comparison')"
   ]
  },
  {
   "cell_type": "markdown",
   "metadata": {},
   "source": [
    "# 4. Conclusion"
   ]
  },
  {
   "cell_type": "markdown",
   "metadata": {},
   "source": [
    "We explored database re-balancing as a way to mitigate bias from our predictions. More advanced ways to mitigate bias in Machine Learning include custom loss functions and adversarial debiasing. To explore these techniques, follow the links below:\n",
    "\n",
    "4.1 [Mitigating unwanted biases in Machine Learning through custom loss functions]()\n",
    "\n",
    "4.2 [Mitigating unwanted biases in Machine Learning by adversarial learning]()"
   ]
  },
  {
   "cell_type": "markdown",
   "metadata": {},
   "source": [
    "# 5. References\n",
    "\n",
    "[1]. [UCI Adult Dataset](https://archive.ics.uci.edu/ml/datasets/Adult)\n",
    "\n",
    "[2]. [Google AI blog, Equal opportunity in Machine Learning](https://ai.googleblog.com/2016/10/equality-of-opportunity-in-machine.html)\n",
    "\n",
    "[3]. [Towards Data Science, a Tutoria on Fairness in Machine Learning](https://towardsdatascience.com/a-tutorial-on-fairness-in-machine-learning-3ff8ba1040cb)\n",
    "\n",
    "[4]. [Jeremy Kun, One definition of fairness in machine learning](https://jeremykun.com/2015/10/19/one-definition-of-algorithmic-fairness-statistical-parity/)\n",
    "\n",
    "[5]. [Learning Curves for Machine Learning](https://www.dataquest.io/blog/learning-curves-machine-learning)"
   ]
  },
  {
   "cell_type": "code",
   "execution_count": null,
   "metadata": {},
   "outputs": [],
   "source": []
  }
 ],
 "metadata": {
  "kernelspec": {
   "display_name": "Python 3",
   "language": "python",
   "name": "python3"
  },
  "language_info": {
   "codemirror_mode": {
    "name": "ipython",
    "version": 3
   },
   "file_extension": ".py",
   "mimetype": "text/x-python",
   "name": "python",
   "nbconvert_exporter": "python",
   "pygments_lexer": "ipython3",
   "version": "3.7.3"
  }
 },
 "nbformat": 4,
 "nbformat_minor": 2
}
